{
 "cells": [
  {
   "cell_type": "markdown",
   "metadata": {},
   "source": [
    "# Titanic pipeline"
   ]
  },
  {
   "cell_type": "markdown",
   "metadata": {},
   "source": [
    "https://towardsdatascience.com/are-you-using-pipeline-in-scikit-learn-ac4cd85cb27f"
   ]
  },
  {
   "cell_type": "markdown",
   "metadata": {},
   "source": [
    "If you are doing Machine Learning, you would have come across pipelines as they help you to make a better machine learning workflow which is easy to understand and reproducible.\n",
    "\n",
    "I recently discovered that you can combine Pipeline with GridSearchCV to not only find best hyperparameters for your model but can also find the best transformers for your machine learning tasks like-\n",
    "\n",
    "* Scaler to scale your data.\n",
    "* Impute strategy to fill missing values.\n",
    "* The number of components in PCA you should use.\n",
    "\n",
    "and many others. Let’s see how it can be done."
   ]
  },
  {
   "cell_type": "markdown",
   "metadata": {},
   "source": [
    "## Dataset details"
   ]
  },
  {
   "cell_type": "markdown",
   "metadata": {},
   "source": [
    "To best demonstrate, I am going to use the Titanic dataset from OpenML here to walkthrough on how you can create a data pipeline.\n",
    "\n",
    "You can download the dataset using the following commands-"
   ]
  },
  {
   "cell_type": "code",
   "execution_count": 1,
   "metadata": {},
   "outputs": [],
   "source": [
    "from sklearn.datasets import fetch_openml\n",
    "# Dataset details at- https://www.openml.org/d/40945\n",
    "X, y = fetch_openml(\"titanic\", version=1, as_frame=True, return_X_y=True)\n",
    "df = X.join(y)"
   ]
  },
  {
   "cell_type": "code",
   "execution_count": 2,
   "metadata": {},
   "outputs": [
    {
     "data": {
      "text/plain": [
       "(1309, 13)"
      ]
     },
     "execution_count": 2,
     "metadata": {},
     "output_type": "execute_result"
    }
   ],
   "source": [
    "X.shape"
   ]
  },
  {
   "cell_type": "code",
   "execution_count": 3,
   "metadata": {},
   "outputs": [
    {
     "data": {
      "text/html": [
       "<div>\n",
       "<style scoped>\n",
       "    .dataframe tbody tr th:only-of-type {\n",
       "        vertical-align: middle;\n",
       "    }\n",
       "\n",
       "    .dataframe tbody tr th {\n",
       "        vertical-align: top;\n",
       "    }\n",
       "\n",
       "    .dataframe thead th {\n",
       "        text-align: right;\n",
       "    }\n",
       "</style>\n",
       "<table border=\"1\" class=\"dataframe\">\n",
       "  <thead>\n",
       "    <tr style=\"text-align: right;\">\n",
       "      <th></th>\n",
       "      <th>pclass</th>\n",
       "      <th>name</th>\n",
       "      <th>sex</th>\n",
       "      <th>age</th>\n",
       "      <th>sibsp</th>\n",
       "      <th>parch</th>\n",
       "      <th>ticket</th>\n",
       "      <th>fare</th>\n",
       "      <th>cabin</th>\n",
       "      <th>embarked</th>\n",
       "      <th>boat</th>\n",
       "      <th>body</th>\n",
       "      <th>home.dest</th>\n",
       "    </tr>\n",
       "  </thead>\n",
       "  <tbody>\n",
       "    <tr>\n",
       "      <th>0</th>\n",
       "      <td>1.0</td>\n",
       "      <td>Allen, Miss. Elisabeth Walton</td>\n",
       "      <td>female</td>\n",
       "      <td>29.0000</td>\n",
       "      <td>0.0</td>\n",
       "      <td>0.0</td>\n",
       "      <td>24160</td>\n",
       "      <td>211.3375</td>\n",
       "      <td>B5</td>\n",
       "      <td>S</td>\n",
       "      <td>2</td>\n",
       "      <td>NaN</td>\n",
       "      <td>St Louis, MO</td>\n",
       "    </tr>\n",
       "    <tr>\n",
       "      <th>1</th>\n",
       "      <td>1.0</td>\n",
       "      <td>Allison, Master. Hudson Trevor</td>\n",
       "      <td>male</td>\n",
       "      <td>0.9167</td>\n",
       "      <td>1.0</td>\n",
       "      <td>2.0</td>\n",
       "      <td>113781</td>\n",
       "      <td>151.5500</td>\n",
       "      <td>C22 C26</td>\n",
       "      <td>S</td>\n",
       "      <td>11</td>\n",
       "      <td>NaN</td>\n",
       "      <td>Montreal, PQ / Chesterville, ON</td>\n",
       "    </tr>\n",
       "    <tr>\n",
       "      <th>2</th>\n",
       "      <td>1.0</td>\n",
       "      <td>Allison, Miss. Helen Loraine</td>\n",
       "      <td>female</td>\n",
       "      <td>2.0000</td>\n",
       "      <td>1.0</td>\n",
       "      <td>2.0</td>\n",
       "      <td>113781</td>\n",
       "      <td>151.5500</td>\n",
       "      <td>C22 C26</td>\n",
       "      <td>S</td>\n",
       "      <td>None</td>\n",
       "      <td>NaN</td>\n",
       "      <td>Montreal, PQ / Chesterville, ON</td>\n",
       "    </tr>\n",
       "    <tr>\n",
       "      <th>3</th>\n",
       "      <td>1.0</td>\n",
       "      <td>Allison, Mr. Hudson Joshua Creighton</td>\n",
       "      <td>male</td>\n",
       "      <td>30.0000</td>\n",
       "      <td>1.0</td>\n",
       "      <td>2.0</td>\n",
       "      <td>113781</td>\n",
       "      <td>151.5500</td>\n",
       "      <td>C22 C26</td>\n",
       "      <td>S</td>\n",
       "      <td>None</td>\n",
       "      <td>135.0</td>\n",
       "      <td>Montreal, PQ / Chesterville, ON</td>\n",
       "    </tr>\n",
       "    <tr>\n",
       "      <th>4</th>\n",
       "      <td>1.0</td>\n",
       "      <td>Allison, Mrs. Hudson J C (Bessie Waldo Daniels)</td>\n",
       "      <td>female</td>\n",
       "      <td>25.0000</td>\n",
       "      <td>1.0</td>\n",
       "      <td>2.0</td>\n",
       "      <td>113781</td>\n",
       "      <td>151.5500</td>\n",
       "      <td>C22 C26</td>\n",
       "      <td>S</td>\n",
       "      <td>None</td>\n",
       "      <td>NaN</td>\n",
       "      <td>Montreal, PQ / Chesterville, ON</td>\n",
       "    </tr>\n",
       "  </tbody>\n",
       "</table>\n",
       "</div>"
      ],
      "text/plain": [
       "   pclass                                             name     sex      age  \\\n",
       "0     1.0                    Allen, Miss. Elisabeth Walton  female  29.0000   \n",
       "1     1.0                   Allison, Master. Hudson Trevor    male   0.9167   \n",
       "2     1.0                     Allison, Miss. Helen Loraine  female   2.0000   \n",
       "3     1.0             Allison, Mr. Hudson Joshua Creighton    male  30.0000   \n",
       "4     1.0  Allison, Mrs. Hudson J C (Bessie Waldo Daniels)  female  25.0000   \n",
       "\n",
       "   sibsp  parch  ticket      fare    cabin embarked  boat   body  \\\n",
       "0    0.0    0.0   24160  211.3375       B5        S     2    NaN   \n",
       "1    1.0    2.0  113781  151.5500  C22 C26        S    11    NaN   \n",
       "2    1.0    2.0  113781  151.5500  C22 C26        S  None    NaN   \n",
       "3    1.0    2.0  113781  151.5500  C22 C26        S  None  135.0   \n",
       "4    1.0    2.0  113781  151.5500  C22 C26        S  None    NaN   \n",
       "\n",
       "                         home.dest  \n",
       "0                     St Louis, MO  \n",
       "1  Montreal, PQ / Chesterville, ON  \n",
       "2  Montreal, PQ / Chesterville, ON  \n",
       "3  Montreal, PQ / Chesterville, ON  \n",
       "4  Montreal, PQ / Chesterville, ON  "
      ]
     },
     "execution_count": 3,
     "metadata": {},
     "output_type": "execute_result"
    }
   ],
   "source": [
    "X.head()"
   ]
  },
  {
   "cell_type": "code",
   "execution_count": 4,
   "metadata": {},
   "outputs": [
    {
     "data": {
      "text/plain": [
       "(1309,)"
      ]
     },
     "execution_count": 4,
     "metadata": {},
     "output_type": "execute_result"
    }
   ],
   "source": [
    "y.shape"
   ]
  },
  {
   "cell_type": "code",
   "execution_count": 5,
   "metadata": {},
   "outputs": [
    {
     "data": {
      "text/plain": [
       "0    1\n",
       "1    1\n",
       "2    0\n",
       "3    0\n",
       "4    0\n",
       "Name: survived, dtype: category\n",
       "Categories (2, object): ['0', '1']"
      ]
     },
     "execution_count": 5,
     "metadata": {},
     "output_type": "execute_result"
    }
   ],
   "source": [
    "y.head()"
   ]
  },
  {
   "cell_type": "code",
   "execution_count": 6,
   "metadata": {},
   "outputs": [
    {
     "data": {
      "text/plain": [
       "<AxesSubplot:>"
      ]
     },
     "execution_count": 6,
     "metadata": {},
     "output_type": "execute_result"
    },
    {
     "data": {
      "image/png": "[encoded data removed]",
      "text/plain": [
       "<Figure size 864x648 with 2 Axes>"
      ]
     },
     "metadata": {
      "needs_background": "light"
     },
     "output_type": "display_data"
    }
   ],
   "source": [
    "import matplotlib.pyplot as plt\n",
    "import seaborn as sns\n",
    "from pandas import to_numeric\n",
    "\n",
    "df['survived'] = to_numeric(df.survived)\n",
    "plt.subplots(figsize=(12,9))\n",
    "sns.heatmap(df.corr(), vmax=1.0, square=True)"
   ]
  },
  {
   "cell_type": "markdown",
   "metadata": {},
   "source": [
    "# Creating Data Transformer Pipeline"
   ]
  },
  {
   "cell_type": "markdown",
   "metadata": {},
   "source": [
    "I am going to use a subset of features for the demo purposes here. The dataset has both categorical and numerical features and we would be applying different operations on them. Here is the flow-\n",
    "\n",
    "1. Define numerical and categorical features."
   ]
  },
  {
   "cell_type": "code",
   "execution_count": 7,
   "metadata": {},
   "outputs": [],
   "source": [
    "# numerical features from the dataset\n",
    "numerical_features = ['age', 'fare']\n",
    "\n",
    "# categorical features from the dataset\n",
    "categorical_features = ['embarked', 'sex', 'pclass']"
   ]
  },
  {
   "cell_type": "code",
   "execution_count": 8,
   "metadata": {},
   "outputs": [],
   "source": [
    "# Split arrays or matrices into random train and test subsets.\n",
    "#\n",
    "# Quick utility that wraps input validation and next(ShuffleSplit().split(X, y)) and application to input \n",
    "# data into a single call for splitting (and optionally subsampling) data in a oneliner.\n",
    "from sklearn.model_selection import train_test_split\n",
    "\n",
    "X_train, X_test, y_train, y_test = train_test_split(\n",
    "    X, y, test_size=0.33, random_state=42)"
   ]
  },
  {
   "cell_type": "code",
   "execution_count": 9,
   "metadata": {},
   "outputs": [],
   "source": [
    "# Pipeline of transforms with a final estimator.\n",
    "#\n",
    "# Sequentially apply a list of transforms and a final estimator. Intermediate steps of the pipeline \n",
    "# must be ‘transforms’, that is, they must implement fit and transform methods. The final estimator \n",
    "# only needs to implement fit. The transformers in the pipeline can be cached using memory argument.\n",
    "#\n",
    "# The purpose of the pipeline is to assemble several steps that can be cross-validated together while \n",
    "# setting different parameters. For this, it enables setting parameters of the various steps using their \n",
    "# names and the parameter name separated by a ‘__’, as in the example below. A step’s estimator may be \n",
    "# replaced entirely by setting the parameter with its name to another estimator, or a transformer removed \n",
    "# by setting it to ‘passthrough’ or None.\n",
    "from sklearn.pipeline import Pipeline"
   ]
  },
  {
   "cell_type": "markdown",
   "metadata": {},
   "source": [
    "2. For numerical features, fill the missing values and then scale the data.\n",
    "\n",
    "The numerical features in the dataset have few missing values and we are using SimpleImputer here to fill these values, other imputers can be used as well. Also, we should standardize the range of numerical features using Scaling as many machine learning models require features that follow the same scale. I have not defined the strategy for imputing and the scaler need to be used as the same can be searched using GridSearchCV."
   ]
  },
  {
   "cell_type": "code",
   "execution_count": 10,
   "metadata": {},
   "outputs": [],
   "source": [
    "# Imputation transformer for completing missing values.\n",
    "from sklearn.impute import SimpleImputer\n",
    "\n",
    "# Applying SimpleImputer and will search for different scalers using GridSearchCV\n",
    "numerical_transformer = Pipeline(steps=[\n",
    "    ('imputer', SimpleImputer()),\n",
    "    ('scaler', 'passthrough')])"
   ]
  },
  {
   "cell_type": "markdown",
   "metadata": {},
   "source": [
    "3. For categorical features, fill the missing values and then apply one-hot encoding.\n",
    "\n",
    "The ‘Embarked’ feature in our dataset has few missing values. The reason to create a different imputer for this as we have different strategies to fill categorical features. Also, as categorical features have only a few values, I am using OneHotEncoder which is commonly used to create different features for each value in categorical columns. The strategy of imputing is searched using GridSearchCV."
   ]
  },
  {
   "cell_type": "code",
   "execution_count": 11,
   "metadata": {},
   "outputs": [],
   "source": [
    "# Encode categorical features as a one-hot numeric array.\n",
    "#\n",
    "# The input to this transformer should be an array-like of integers or strings, denoting the values taken \n",
    "# on by categorical (discrete) features. The features are encoded using a one-hot (aka ‘one-of-K’ or ‘dummy’) \n",
    "# encoding scheme. This creates a binary column for each category and returns a sparse matrix or dense array \n",
    "# (depending on the sparse parameter).\n",
    "#\n",
    "# By default, the encoder derives the categories based on the unique values in each feature. Alternatively, \n",
    "# you can also specify the categories manually.\n",
    "# This encoding is needed for feeding categorical data to many scikit-learn estimators, notably linear models \n",
    "# and SVMs with the standard kernels.\n",
    "#\n",
    "# Note: a one-hot encoding of y labels should use a LabelBinarizer instead.\n",
    "from sklearn.preprocessing import OneHotEncoder\n",
    "\n",
    "# Applying SimpleImputer and then OneHotEncoder\n",
    "categorical_transformer = Pipeline(steps=[\n",
    "    ('imputer', SimpleImputer()),\n",
    "    ('onehot', OneHotEncoder(handle_unknown='ignore'))])"
   ]
  },
  {
   "cell_type": "markdown",
   "metadata": {},
   "source": [
    "## Combine numerical and categorical transformer using ColumnTransformer.\n",
    "\n",
    "ColumnTransformer helps to define different transformers for different types of inputs and combine them into a single feature space after transformation. Here we are applying numerical transformer and categorical transformer created above for our numerical and categorical features."
   ]
  },
  {
   "cell_type": "code",
   "execution_count": 12,
   "metadata": {},
   "outputs": [],
   "source": [
    "# Applies transformers to columns of an array or pandas DataFrame.\n",
    "#\n",
    "# This estimator allows different columns or column subsets of the input to be transformed separately and \n",
    "# the features generated by each transformer will be concatenated to form a single feature space. This is \n",
    "# useful for heterogeneous or columnar data, to combine several feature extraction mechanisms or \n",
    "# transformations into a single transformer.\n",
    "from sklearn.compose import ColumnTransformer\n",
    "\n",
    "data_transformer = ColumnTransformer(\n",
    "    transformers=[\n",
    "        ('numerical', numerical_transformer, numerical_features),\n",
    "        ('categorical', categorical_transformer, categorical_features)])"
   ]
  },
  {
   "cell_type": "markdown",
   "metadata": {},
   "source": [
    "## Apply PCA to reduce dimensions.\n",
    "\n",
    "Principle Component Analysis aka PCA is a linear dimensionality reduction algorithm that is used to reduce the number of features in the dataset by keeping the maximum variance. We might not need to apply PCA here as it is a small dataset but the idea is to show how you can search for number_of _components in PCA using GridSearchCV."
   ]
  },
  {
   "cell_type": "code",
   "execution_count": 13,
   "metadata": {},
   "outputs": [],
   "source": [
    "# Principal component analysis (PCA).\n",
    "#\n",
    "# Linear dimensionality reduction using Singular Value Decomposition of the data to project it to a lower \n",
    "# dimensional space. The input data is centered but not scaled for each feature before applying the SVD.\n",
    "#\n",
    "# It uses the LAPACK implementation of the full SVD or a randomized truncated SVD by the method of \n",
    "# Halko et al. 2009, depending on the shape of the input data and the number of components to extract.\n",
    "#\n",
    "# It can also use the scipy.sparse.linalg ARPACK implementation of the truncated SVD.\n",
    "#\n",
    "# Notice that this class does not support sparse input. See TruncatedSVD for an alternative with sparse data.\n",
    "from sklearn.decomposition import PCA\n",
    "\n",
    "# Creating preprocessor pipeline which will first transform the data\n",
    "# and then apply PCA.\n",
    "preprocessor = Pipeline(steps=[('data_transformer', data_transformer),\n",
    "                             ('reduce_dim',PCA())])"
   ]
  },
  {
   "cell_type": "markdown",
   "metadata": {},
   "source": [
    "## Adding Classifier to the Pipeline\n",
    "\n",
    "Above, we created a preprocessor pipeline with all the operations we would like to apply to our data. I am going to use Logistic Regression here as a classifier for our problem. In case you are interested to know how you can apply multiple models, Rebecca Vickery has mentioned a nice way of doing it in her blog."
   ]
  },
  {
   "cell_type": "code",
   "execution_count": 14,
   "metadata": {},
   "outputs": [],
   "source": [
    "# Logistic Regression (aka logit, MaxEnt) classifier.\n",
    "#\n",
    "# In the multiclass case, the training algorithm uses the one-vs-rest (OvR) scheme if the ‘multi_class’ option\n",
    "# is set to ‘ovr’, and uses the cross-entropy loss if the ‘multi_class’ option is set to ‘multinomial’. \n",
    "# (Currently the ‘multinomial’ option is supported only by the ‘lbfgs’, ‘sag’, ‘saga’ and ‘newton-cg’ solvers.)\n",
    "#\n",
    "# This class implements regularized logistic regression using the ‘liblinear’ library, ‘newton-cg’, ‘sag’, \n",
    "# ‘saga’ and ‘lbfgs’ solvers. Note that regularization is applied by default. It can handle both dense and \n",
    "# sparse input. Use C-ordered arrays or CSR matrices containing 64-bit floats for optimal performance; any \n",
    "# other input format will be converted (and copied).\n",
    "#\n",
    "# The ‘newton-cg’, ‘sag’, and ‘lbfgs’ solvers support only L2 regularization with primal formulation, \n",
    "# or no regularization. The ‘liblinear’ solver supports both L1 and L2 regularization, with a dual \n",
    "# formulation only for the L2 penalty. The Elastic-Net regularization is only supported by the ‘saga’ solver.\n",
    "from sklearn.linear_model import LogisticRegression\n",
    "\n",
    "# we are using Logistics Regression here\n",
    "classifier = Pipeline(steps=[('preprocessor', preprocessor),\n",
    "                      ('classifier', LogisticRegression(random_state=0, max_iter=10000))])"
   ]
  },
  {
   "cell_type": "markdown",
   "metadata": {},
   "source": [
    "## Applying GridSearchCV\n",
    "\n",
    "Every Data Scientist would be aware of GridSearchCV which helps us to find the best hyperparameters of the model. One thing which is missed is that you can even use it to find out the best transformers with the help of Pipeline. In the preprocessor pipeline we created above, you might have noticed that we didn’t define-\n",
    "\n",
    "    The Scaler,\n",
    "    Strategy for imputing missing values,\n",
    "    The number of components in PCA\n",
    "\n",
    "as we can use GridSearchCV to find the optimal value for them. Here is how it can be done-"
   ]
  },
  {
   "cell_type": "code",
   "execution_count": 15,
   "metadata": {},
   "outputs": [],
   "source": [
    "# Exhaustive search over specified parameter values for an estimator.\n",
    "#\n",
    "# Important members are fit, predict.\n",
    "#\n",
    "# GridSearchCV implements a “fit” and a “score” method. It also implements “predict”, “predict_proba”, \n",
    "# “decision_function”, “transform” and “inverse_transform” if they are implemented in the estimator used.\n",
    "#\n",
    "# The parameters of the estimator used to apply these methods are optimized by cross-validated grid-search \n",
    "# over a parameter grid.\n",
    "from sklearn.model_selection import GridSearchCV\n",
    "\n",
    "# The sklearn.preprocessing module includes scaling, centering, normalization, binarization methods.\n",
    "from sklearn.preprocessing import StandardScaler, RobustScaler, MinMaxScaler\n",
    "\n",
    "# We can utilize params grid to check for best hyperparameters or transformers\n",
    "# The syntax here is pipeline_step_name__parameters and we need to chain if we have nested pipelines \n",
    "param_grid = {\n",
    "    'preprocessor__data_transformer__numerical__imputer__strategy': ['mean', 'median'],\n",
    "    'preprocessor__data_transformer__categorical__imputer__strategy': ['constant','most_frequent'],\n",
    "    'preprocessor__data_transformer__numerical__scaler': [StandardScaler(), RobustScaler(), \\\n",
    "                                                          MinMaxScaler()],\n",
    "    'classifier__C': [0.1, 1.0, 10, 100],\n",
    "    'preprocessor__reduce_dim__n_components': [2, 5, 10],\n",
    "    'classifier__solver': ['liblinear','newton-cg', 'lbfgs','sag','saga']\n",
    "}\n",
    "\n",
    "# Doing a Grid Search\n",
    "grid_search = GridSearchCV(classifier, param_grid=param_grid)\n",
    "\n",
    "# fitting on our dataset\n",
    "grid_search.fit(X_train, y_train);    # Semicolon to not print estimator in notebook"
   ]
  },
  {
   "cell_type": "markdown",
   "metadata": {},
   "source": [
    "## Visualizing Pipeline"
   ]
  },
  {
   "cell_type": "markdown",
   "metadata": {},
   "source": [
    "Scikit-Learn 0.23.1 has added the functionality to visualize composite estimators which can be very helpful to cross-check the steps you applied. The below code can help you to visualize the data pipeline."
   ]
  },
  {
   "cell_type": "code",
   "execution_count": 16,
   "metadata": {
    "scrolled": false
   },
   "outputs": [],
   "source": [
    "# imports \n",
    "from sklearn import set_config                      # to change the display\n",
    "from sklearn.utils import estimator_html_repr       # to save the diagram into HTML format\n",
    "\n",
    "# set config to diagram for visualizing the pipelines/composite estimators\n",
    "set_config(display='diagram')\n",
    "\n",
    "# saving pipeline as html format\n",
    "html_report = 'titanic_data_pipeline_estimator.html'\n",
    "with open(html_report, 'w') as f:  \n",
    "    f.write(estimator_html_repr(grid_search.best_estimator_))"
   ]
  },
  {
   "cell_type": "code",
   "execution_count": 17,
   "metadata": {},
   "outputs": [
    {
     "data": {
      "text/html": [
       "<style>div.sk-top-container {color: black;background-color: white;}div.sk-toggleable {background-color: white;}label.sk-toggleable__label {cursor: pointer;display: block;width: 100%;margin-bottom: 0;padding: 0.2em 0.3em;box-sizing: border-box;text-align: center;}div.sk-toggleable__content {max-height: 0;max-width: 0;overflow: hidden;text-align: left;background-color: #f0f8ff;}div.sk-toggleable__content pre {margin: 0.2em;color: black;border-radius: 0.25em;background-color: #f0f8ff;}input.sk-toggleable__control:checked~div.sk-toggleable__content {max-height: 200px;max-width: 100%;overflow: auto;}div.sk-estimator input.sk-toggleable__control:checked~label.sk-toggleable__label {background-color: #d4ebff;}div.sk-label input.sk-toggleable__control:checked~label.sk-toggleable__label {background-color: #d4ebff;}input.sk-hidden--visually {border: 0;clip: rect(1px 1px 1px 1px);clip: rect(1px, 1px, 1px, 1px);height: 1px;margin: -1px;overflow: hidden;padding: 0;position: absolute;width: 1px;}div.sk-estimator {font-family: monospace;background-color: #f0f8ff;margin: 0.25em 0.25em;border: 1px dotted black;border-radius: 0.25em;box-sizing: border-box;}div.sk-estimator:hover {background-color: #d4ebff;}div.sk-parallel-item::after {content: \"\";width: 100%;border-bottom: 1px solid gray;flex-grow: 1;}div.sk-label:hover label.sk-toggleable__label {background-color: #d4ebff;}div.sk-serial::before {content: \"\";position: absolute;border-left: 1px solid gray;box-sizing: border-box;top: 2em;bottom: 0;left: 50%;}div.sk-serial {display: flex;flex-direction: column;align-items: center;background-color: white;}div.sk-item {z-index: 1;}div.sk-parallel {display: flex;align-items: stretch;justify-content: center;background-color: white;}div.sk-parallel-item {display: flex;flex-direction: column;position: relative;background-color: white;}div.sk-parallel-item:first-child::after {align-self: flex-end;width: 50%;}div.sk-parallel-item:last-child::after {align-self: flex-start;width: 50%;}div.sk-parallel-item:only-child::after {width: 0;}div.sk-dashed-wrapped {border: 1px dashed gray;margin: 0.2em;box-sizing: border-box;padding-bottom: 0.1em;background-color: white;position: relative;}div.sk-label label {font-family: monospace;font-weight: bold;background-color: white;display: inline-block;line-height: 1.2em;}div.sk-label-container {position: relative;z-index: 2;text-align: center;}div.sk-container {display: inline-block;position: relative;}</style><div class=\"sk-top-container\"><div class=\"sk-container\"><div class=\"sk-item sk-dashed-wrapped\"><div class=\"sk-label-container\"><div class=\"sk-label sk-toggleable\"><input class=\"sk-toggleable__control sk-hidden--visually\" id=\"317da011-77d3-4679-85fc-86e59be15eba\" type=\"checkbox\" ><label class=\"sk-toggleable__label\" for=\"317da011-77d3-4679-85fc-86e59be15eba\">Pipeline</label><div class=\"sk-toggleable__content\"><pre>Pipeline(steps=[('preprocessor',\n",
       "                 Pipeline(steps=[('data_transformer',\n",
       "                                  ColumnTransformer(transformers=[('numerical',\n",
       "                                                                   Pipeline(steps=[('imputer',\n",
       "                                                                                    SimpleImputer()),\n",
       "                                                                                   ('scaler',\n",
       "                                                                                    MinMaxScaler())]),\n",
       "                                                                   ['age',\n",
       "                                                                    'fare']),\n",
       "                                                                  ('categorical',\n",
       "                                                                   Pipeline(steps=[('imputer',\n",
       "                                                                                    SimpleImputer(strategy='constant')),\n",
       "                                                                                   ('onehot',\n",
       "                                                                                    OneHotEncoder(handle_unknown='ignore'))]),\n",
       "                                                                   ['embarked',\n",
       "                                                                    'sex',\n",
       "                                                                    'pclass'])])),\n",
       "                                 ('reduce_dim', PCA(n_components=2))])),\n",
       "                ('classifier',\n",
       "                 LogisticRegression(C=0.1, max_iter=10000, random_state=0,\n",
       "                                    solver='newton-cg'))])</pre></div></div></div><div class=\"sk-serial\"><div class=\"sk-item\"><div class=\"sk-label-container\"><div class=\"sk-label sk-toggleable\"><input class=\"sk-toggleable__control sk-hidden--visually\" id=\"c92b43a6-50a1-468d-bcfd-1d9873d5beda\" type=\"checkbox\" ><label class=\"sk-toggleable__label\" for=\"c92b43a6-50a1-468d-bcfd-1d9873d5beda\">preprocessor: Pipeline</label><div class=\"sk-toggleable__content\"><pre>Pipeline(steps=[('data_transformer',\n",
       "                 ColumnTransformer(transformers=[('numerical',\n",
       "                                                  Pipeline(steps=[('imputer',\n",
       "                                                                   SimpleImputer()),\n",
       "                                                                  ('scaler',\n",
       "                                                                   MinMaxScaler())]),\n",
       "                                                  ['age', 'fare']),\n",
       "                                                 ('categorical',\n",
       "                                                  Pipeline(steps=[('imputer',\n",
       "                                                                   SimpleImputer(strategy='constant')),\n",
       "                                                                  ('onehot',\n",
       "                                                                   OneHotEncoder(handle_unknown='ignore'))]),\n",
       "                                                  ['embarked', 'sex',\n",
       "                                                   'pclass'])])),\n",
       "                ('reduce_dim', PCA(n_components=2))])</pre></div></div></div><div class=\"sk-serial\"><div class=\"sk-item sk-dashed-wrapped\"><div class=\"sk-label-container\"><div class=\"sk-label sk-toggleable\"><input class=\"sk-toggleable__control sk-hidden--visually\" id=\"1c0b049e-5c1a-4c9b-a3cb-24a39b59f5e5\" type=\"checkbox\" ><label class=\"sk-toggleable__label\" for=\"1c0b049e-5c1a-4c9b-a3cb-24a39b59f5e5\">data_transformer: ColumnTransformer</label><div class=\"sk-toggleable__content\"><pre>ColumnTransformer(transformers=[('numerical',\n",
       "                                 Pipeline(steps=[('imputer', SimpleImputer()),\n",
       "                                                 ('scaler', MinMaxScaler())]),\n",
       "                                 ['age', 'fare']),\n",
       "                                ('categorical',\n",
       "                                 Pipeline(steps=[('imputer',\n",
       "                                                  SimpleImputer(strategy='constant')),\n",
       "                                                 ('onehot',\n",
       "                                                  OneHotEncoder(handle_unknown='ignore'))]),\n",
       "                                 ['embarked', 'sex', 'pclass'])])</pre></div></div></div><div class=\"sk-parallel\"><div class=\"sk-parallel-item\"><div class=\"sk-item\"><div class=\"sk-label-container\"><div class=\"sk-label sk-toggleable\"><input class=\"sk-toggleable__control sk-hidden--visually\" id=\"fce70a02-0d7f-4df7-8136-f6cf38f1ffbc\" type=\"checkbox\" ><label class=\"sk-toggleable__label\" for=\"fce70a02-0d7f-4df7-8136-f6cf38f1ffbc\">numerical</label><div class=\"sk-toggleable__content\"><pre>['age', 'fare']</pre></div></div></div><div class=\"sk-serial\"><div class=\"sk-item\"><div class=\"sk-serial\"><div class=\"sk-item\"><div class=\"sk-estimator sk-toggleable\"><input class=\"sk-toggleable__control sk-hidden--visually\" id=\"b18366b8-e658-41d4-ba6b-ac679a9a91dd\" type=\"checkbox\" ><label class=\"sk-toggleable__label\" for=\"b18366b8-e658-41d4-ba6b-ac679a9a91dd\">SimpleImputer</label><div class=\"sk-toggleable__content\"><pre>SimpleImputer()</pre></div></div></div><div class=\"sk-item\"><div class=\"sk-estimator sk-toggleable\"><input class=\"sk-toggleable__control sk-hidden--visually\" id=\"ff8a08ad-ef7d-4103-9194-d3f7ea725a07\" type=\"checkbox\" ><label class=\"sk-toggleable__label\" for=\"ff8a08ad-ef7d-4103-9194-d3f7ea725a07\">MinMaxScaler</label><div class=\"sk-toggleable__content\"><pre>MinMaxScaler()</pre></div></div></div></div></div></div></div></div><div class=\"sk-parallel-item\"><div class=\"sk-item\"><div class=\"sk-label-container\"><div class=\"sk-label sk-toggleable\"><input class=\"sk-toggleable__control sk-hidden--visually\" id=\"d0900c81-2543-4a76-814f-0f15c00a740f\" type=\"checkbox\" ><label class=\"sk-toggleable__label\" for=\"d0900c81-2543-4a76-814f-0f15c00a740f\">categorical</label><div class=\"sk-toggleable__content\"><pre>['embarked', 'sex', 'pclass']</pre></div></div></div><div class=\"sk-serial\"><div class=\"sk-item\"><div class=\"sk-serial\"><div class=\"sk-item\"><div class=\"sk-estimator sk-toggleable\"><input class=\"sk-toggleable__control sk-hidden--visually\" id=\"e2c874dc-412a-4698-a69c-aa5d6b33b0f0\" type=\"checkbox\" ><label class=\"sk-toggleable__label\" for=\"e2c874dc-412a-4698-a69c-aa5d6b33b0f0\">SimpleImputer</label><div class=\"sk-toggleable__content\"><pre>SimpleImputer(strategy='constant')</pre></div></div></div><div class=\"sk-item\"><div class=\"sk-estimator sk-toggleable\"><input class=\"sk-toggleable__control sk-hidden--visually\" id=\"3a81900e-0c05-4feb-882d-fa0f4f5705b9\" type=\"checkbox\" ><label class=\"sk-toggleable__label\" for=\"3a81900e-0c05-4feb-882d-fa0f4f5705b9\">OneHotEncoder</label><div class=\"sk-toggleable__content\"><pre>OneHotEncoder(handle_unknown='ignore')</pre></div></div></div></div></div></div></div></div></div></div><div class=\"sk-item\"><div class=\"sk-estimator sk-toggleable\"><input class=\"sk-toggleable__control sk-hidden--visually\" id=\"fb3de637-38d5-4d0b-aaf0-84887d4ae3ff\" type=\"checkbox\" ><label class=\"sk-toggleable__label\" for=\"fb3de637-38d5-4d0b-aaf0-84887d4ae3ff\">PCA</label><div class=\"sk-toggleable__content\"><pre>PCA(n_components=2)</pre></div></div></div></div></div><div class=\"sk-item\"><div class=\"sk-estimator sk-toggleable\"><input class=\"sk-toggleable__control sk-hidden--visually\" id=\"ffa32d03-257b-4393-816b-2789eb7c97c9\" type=\"checkbox\" ><label class=\"sk-toggleable__label\" for=\"ffa32d03-257b-4393-816b-2789eb7c97c9\">LogisticRegression</label><div class=\"sk-toggleable__content\"><pre>LogisticRegression(C=0.1, max_iter=10000, random_state=0, solver='newton-cg')</pre></div></div></div></div></div></div></div>"
      ],
      "text/plain": [
       "<IPython.core.display.HTML object>"
      ]
     },
     "metadata": {},
     "output_type": "display_data"
    }
   ],
   "source": [
    "from IPython.core.display import display, HTML\n",
    "\n",
    "# Lets visualize the best estimator from grid search.\n",
    "display(HTML(filename=html_report))"
   ]
  },
  {
   "cell_type": "code",
   "execution_count": 18,
   "metadata": {},
   "outputs": [
    {
     "name": "stdout",
     "output_type": "stream",
     "text": [
      "Pipeline(steps=[('preprocessor',\n",
      "                 Pipeline(steps=[('data_transformer',\n",
      "                                  ColumnTransformer(transformers=[('numerical',\n",
      "                                                                   Pipeline(steps=[('imputer',\n",
      "                                                                                    SimpleImputer()),\n",
      "                                                                                   ('scaler',\n",
      "                                                                                    MinMaxScaler())]),\n",
      "                                                                   ['age',\n",
      "                                                                    'fare']),\n",
      "                                                                  ('categorical',\n",
      "                                                                   Pipeline(steps=[('imputer',\n",
      "                                                                                    SimpleImputer(strategy='constant')),\n",
      "                                                                                   ('onehot',\n",
      "                                                                                    OneHotEncoder(handle_unknown='ignore'))]),\n",
      "                                                                   ['embarked',\n",
      "                                                                    'sex',\n",
      "                                                                    'pclass'])])),\n",
      "                                 ('reduce_dim', PCA(n_components=2))])),\n",
      "                ('classifier',\n",
      "                 LogisticRegression(C=0.1, max_iter=10000, random_state=0,\n",
      "                                    solver='newton-cg'))])\n"
     ]
    }
   ],
   "source": [
    "# Lets visualize the raw best estimator object from grid search.\n",
    "print(grid_search.best_estimator_)"
   ]
  }
 ],
 "metadata": {
  "kernelspec": {
   "display_name": "Python 3",
   "language": "python",
   "name": "python3"
  },
  "language_info": {
   "codemirror_mode": {
    "name": "ipython",
    "version": 3
   },
   "file_extension": ".py",
   "mimetype": "text/x-python",
   "name": "python",
   "nbconvert_exporter": "python",
   "pygments_lexer": "ipython3",
   "version": "3.6.9"
  }
 },
 "nbformat": 4,
 "nbformat_minor": 4
}
