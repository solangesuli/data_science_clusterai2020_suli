{
 "cells": [
  {
   "cell_type": "code",
   "execution_count": 1,
   "metadata": {},
   "outputs": [],
   "source": [
    "# importamos las librerías necesarias para trabajar.\n",
    "import numpy as np\n",
    "import pandas as pd\n",
    "import matplotlib.pyplot as plt\n",
    "import seaborn as sns\n",
    "#Otros \n",
    "import warnings\n",
    "warnings.filterwarnings('ignore')"
   ]
  },
  {
   "cell_type": "code",
   "execution_count": 2,
   "metadata": {},
   "outputs": [],
   "source": [
    "#SK-Learn\n",
    "from sklearn.model_selection import train_test_split, GridSearchCV\n",
    "from sklearn.preprocessing import PolynomialFeatures\n",
    "\n",
    "from sklearn import preprocessing\n",
    "from sklearn.model_selection import train_test_split\n",
    "from sklearn.linear_model import LinearRegression\n",
    "from sklearn.svm import SVR\n",
    "from sklearn.svm import LinearSVR\n",
    "from sklearn.neighbors import KNeighborsRegressor\n",
    "from sklearn.metrics import r2_score, mean_squared_error, mean_absolute_error\n",
    "\n",
    "from sklearn.model_selection import GridSearchCV\n",
    "#Scalers\n",
    "#https://scikit-learn.org/stable/modules/classes.html#module-sklearn.preprocessing\n",
    "from sklearn.preprocessing import StandardScaler,MinMaxScaler\n",
    "#Modelos Lineales\n",
    "# https://scikit-learn.org/stable/modules/linear_model.html\n",
    "from sklearn.linear_model import LinearRegression , Ridge\n",
    "from sklearn.svm import SVR\n",
    "#Metricas\n",
    "from sklearn.metrics import r2_score, mean_squared_error, mean_absolute_error"
   ]
  },
  {
   "cell_type": "markdown",
   "metadata": {},
   "source": [
    "### Abro el dataset generado"
   ]
  },
  {
   "cell_type": "code",
   "execution_count": 3,
   "metadata": {},
   "outputs": [],
   "source": [
    "df_confirmados = pd.read_feather('./data/pivot_data')"
   ]
  },
  {
   "cell_type": "code",
   "execution_count": 4,
   "metadata": {},
   "outputs": [],
   "source": [
    "df_confirmados.index = df_confirmados['index']\n",
    "df_confirmados.drop('index', axis=1, inplace=True)"
   ]
  },
  {
   "cell_type": "code",
   "execution_count": 5,
   "metadata": {},
   "outputs": [
    {
     "data": {
      "text/html": [
       "<div>\n",
       "<style scoped>\n",
       "    .dataframe tbody tr th:only-of-type {\n",
       "        vertical-align: middle;\n",
       "    }\n",
       "\n",
       "    .dataframe tbody tr th {\n",
       "        vertical-align: top;\n",
       "    }\n",
       "\n",
       "    .dataframe thead th {\n",
       "        text-align: right;\n",
       "    }\n",
       "</style>\n",
       "<table border=\"1\" class=\"dataframe\">\n",
       "  <thead>\n",
       "    <tr style=\"text-align: right;\">\n",
       "      <th></th>\n",
       "      <th>argentino</th>\n",
       "      <th>asistencia_respiratoria</th>\n",
       "      <th>confirmados</th>\n",
       "      <th>cuidado_intensivo</th>\n",
       "      <th>edad</th>\n",
       "      <th>fallecidos</th>\n",
       "      <th>presentan_sintomas</th>\n",
       "      <th>privado</th>\n",
       "      <th>publico</th>\n",
       "      <th>internacion</th>\n",
       "      <th>sexo_F</th>\n",
       "      <th>sexo_M</th>\n",
       "    </tr>\n",
       "    <tr>\n",
       "      <th>index</th>\n",
       "      <th></th>\n",
       "      <th></th>\n",
       "      <th></th>\n",
       "      <th></th>\n",
       "      <th></th>\n",
       "      <th></th>\n",
       "      <th></th>\n",
       "      <th></th>\n",
       "      <th></th>\n",
       "      <th></th>\n",
       "      <th></th>\n",
       "      <th></th>\n",
       "    </tr>\n",
       "  </thead>\n",
       "  <tbody>\n",
       "    <tr>\n",
       "      <th>2020-03-01</th>\n",
       "      <td>0</td>\n",
       "      <td>0</td>\n",
       "      <td>0</td>\n",
       "      <td>0</td>\n",
       "      <td>0.000000</td>\n",
       "      <td>0</td>\n",
       "      <td>0</td>\n",
       "      <td>0</td>\n",
       "      <td>0</td>\n",
       "      <td>0</td>\n",
       "      <td>0</td>\n",
       "      <td>0</td>\n",
       "    </tr>\n",
       "    <tr>\n",
       "      <th>2020-03-02</th>\n",
       "      <td>1</td>\n",
       "      <td>0</td>\n",
       "      <td>1</td>\n",
       "      <td>0</td>\n",
       "      <td>43.000000</td>\n",
       "      <td>0</td>\n",
       "      <td>1</td>\n",
       "      <td>1</td>\n",
       "      <td>0</td>\n",
       "      <td>1</td>\n",
       "      <td>0</td>\n",
       "      <td>1</td>\n",
       "    </tr>\n",
       "    <tr>\n",
       "      <th>2020-03-03</th>\n",
       "      <td>0</td>\n",
       "      <td>0</td>\n",
       "      <td>0</td>\n",
       "      <td>0</td>\n",
       "      <td>0.000000</td>\n",
       "      <td>0</td>\n",
       "      <td>0</td>\n",
       "      <td>0</td>\n",
       "      <td>0</td>\n",
       "      <td>0</td>\n",
       "      <td>0</td>\n",
       "      <td>0</td>\n",
       "    </tr>\n",
       "    <tr>\n",
       "      <th>2020-03-04</th>\n",
       "      <td>0</td>\n",
       "      <td>0</td>\n",
       "      <td>0</td>\n",
       "      <td>0</td>\n",
       "      <td>0.000000</td>\n",
       "      <td>0</td>\n",
       "      <td>0</td>\n",
       "      <td>0</td>\n",
       "      <td>0</td>\n",
       "      <td>0</td>\n",
       "      <td>0</td>\n",
       "      <td>0</td>\n",
       "    </tr>\n",
       "    <tr>\n",
       "      <th>2020-03-05</th>\n",
       "      <td>5</td>\n",
       "      <td>1</td>\n",
       "      <td>5</td>\n",
       "      <td>1</td>\n",
       "      <td>50.600000</td>\n",
       "      <td>1</td>\n",
       "      <td>5</td>\n",
       "      <td>3</td>\n",
       "      <td>2</td>\n",
       "      <td>3</td>\n",
       "      <td>1</td>\n",
       "      <td>4</td>\n",
       "    </tr>\n",
       "    <tr>\n",
       "      <th>...</th>\n",
       "      <td>...</td>\n",
       "      <td>...</td>\n",
       "      <td>...</td>\n",
       "      <td>...</td>\n",
       "      <td>...</td>\n",
       "      <td>...</td>\n",
       "      <td>...</td>\n",
       "      <td>...</td>\n",
       "      <td>...</td>\n",
       "      <td>...</td>\n",
       "      <td>...</td>\n",
       "      <td>...</td>\n",
       "    </tr>\n",
       "    <tr>\n",
       "      <th>2020-09-26</th>\n",
       "      <td>678</td>\n",
       "      <td>7</td>\n",
       "      <td>694</td>\n",
       "      <td>9</td>\n",
       "      <td>44.386167</td>\n",
       "      <td>12</td>\n",
       "      <td>359</td>\n",
       "      <td>394</td>\n",
       "      <td>300</td>\n",
       "      <td>54</td>\n",
       "      <td>348</td>\n",
       "      <td>346</td>\n",
       "    </tr>\n",
       "    <tr>\n",
       "      <th>2020-09-27</th>\n",
       "      <td>556</td>\n",
       "      <td>2</td>\n",
       "      <td>567</td>\n",
       "      <td>6</td>\n",
       "      <td>40.890212</td>\n",
       "      <td>7</td>\n",
       "      <td>335</td>\n",
       "      <td>307</td>\n",
       "      <td>260</td>\n",
       "      <td>45</td>\n",
       "      <td>274</td>\n",
       "      <td>293</td>\n",
       "    </tr>\n",
       "    <tr>\n",
       "      <th>2020-09-28</th>\n",
       "      <td>764</td>\n",
       "      <td>3</td>\n",
       "      <td>785</td>\n",
       "      <td>6</td>\n",
       "      <td>41.391614</td>\n",
       "      <td>9</td>\n",
       "      <td>431</td>\n",
       "      <td>480</td>\n",
       "      <td>305</td>\n",
       "      <td>53</td>\n",
       "      <td>399</td>\n",
       "      <td>386</td>\n",
       "    </tr>\n",
       "    <tr>\n",
       "      <th>2020-09-29</th>\n",
       "      <td>892</td>\n",
       "      <td>4</td>\n",
       "      <td>906</td>\n",
       "      <td>4</td>\n",
       "      <td>42.691685</td>\n",
       "      <td>9</td>\n",
       "      <td>454</td>\n",
       "      <td>531</td>\n",
       "      <td>375</td>\n",
       "      <td>57</td>\n",
       "      <td>449</td>\n",
       "      <td>457</td>\n",
       "    </tr>\n",
       "    <tr>\n",
       "      <th>2020-09-30</th>\n",
       "      <td>830</td>\n",
       "      <td>3</td>\n",
       "      <td>853</td>\n",
       "      <td>9</td>\n",
       "      <td>42.136186</td>\n",
       "      <td>12</td>\n",
       "      <td>452</td>\n",
       "      <td>513</td>\n",
       "      <td>340</td>\n",
       "      <td>59</td>\n",
       "      <td>426</td>\n",
       "      <td>427</td>\n",
       "    </tr>\n",
       "  </tbody>\n",
       "</table>\n",
       "<p>214 rows × 12 columns</p>\n",
       "</div>"
      ],
      "text/plain": [
       "            argentino  asistencia_respiratoria  confirmados  \\\n",
       "index                                                         \n",
       "2020-03-01          0                        0            0   \n",
       "2020-03-02          1                        0            1   \n",
       "2020-03-03          0                        0            0   \n",
       "2020-03-04          0                        0            0   \n",
       "2020-03-05          5                        1            5   \n",
       "...               ...                      ...          ...   \n",
       "2020-09-26        678                        7          694   \n",
       "2020-09-27        556                        2          567   \n",
       "2020-09-28        764                        3          785   \n",
       "2020-09-29        892                        4          906   \n",
       "2020-09-30        830                        3          853   \n",
       "\n",
       "            cuidado_intensivo       edad  fallecidos  presentan_sintomas  \\\n",
       "index                                                                      \n",
       "2020-03-01                  0   0.000000           0                   0   \n",
       "2020-03-02                  0  43.000000           0                   1   \n",
       "2020-03-03                  0   0.000000           0                   0   \n",
       "2020-03-04                  0   0.000000           0                   0   \n",
       "2020-03-05                  1  50.600000           1                   5   \n",
       "...                       ...        ...         ...                 ...   \n",
       "2020-09-26                  9  44.386167          12                 359   \n",
       "2020-09-27                  6  40.890212           7                 335   \n",
       "2020-09-28                  6  41.391614           9                 431   \n",
       "2020-09-29                  4  42.691685           9                 454   \n",
       "2020-09-30                  9  42.136186          12                 452   \n",
       "\n",
       "            privado  publico  internacion  sexo_F  sexo_M  \n",
       "index                                                      \n",
       "2020-03-01        0        0            0       0       0  \n",
       "2020-03-02        1        0            1       0       1  \n",
       "2020-03-03        0        0            0       0       0  \n",
       "2020-03-04        0        0            0       0       0  \n",
       "2020-03-05        3        2            3       1       4  \n",
       "...             ...      ...          ...     ...     ...  \n",
       "2020-09-26      394      300           54     348     346  \n",
       "2020-09-27      307      260           45     274     293  \n",
       "2020-09-28      480      305           53     399     386  \n",
       "2020-09-29      531      375           57     449     457  \n",
       "2020-09-30      513      340           59     426     427  \n",
       "\n",
       "[214 rows x 12 columns]"
      ]
     },
     "execution_count": 5,
     "metadata": {},
     "output_type": "execute_result"
    }
   ],
   "source": [
    "df_confirmados"
   ]
  },
  {
   "cell_type": "code",
   "execution_count": 6,
   "metadata": {},
   "outputs": [
    {
     "data": {
      "text/plain": [
       "(214, 12)"
      ]
     },
     "execution_count": 6,
     "metadata": {},
     "output_type": "execute_result"
    }
   ],
   "source": [
    "df_confirmados.shape"
   ]
  },
  {
   "cell_type": "markdown",
   "metadata": {},
   "source": [
    "### Probamos distintos modelos de regresion\n"
   ]
  },
  {
   "cell_type": "markdown",
   "metadata": {},
   "source": [
    "#### Divido el dataset en train-test (sin usar split, para mantener la temporalidad)"
   ]
  },
  {
   "cell_type": "code",
   "execution_count": 7,
   "metadata": {},
   "outputs": [],
   "source": [
    "#selecciono las variables a utilizar\n",
    "#selecciono el primer 70% de los datos para entrenar el modelo\n",
    "x_train =  np.array(df_confirmados[[\"asistencia_respiratoria\",\"confirmados\",\"cuidado_intensivo\",\"presentan_sintomas\",\"internacion\"]].iloc[0:150,:])\n",
    "#x_train =  np.array(df_confirmados[[\"cuidado_intensivo\",\"asistencia_respiratoria\",\"presentan_sintomas\",\"internacion\"]].iloc[0:150,:])\n",
    "y_train =  np.array(df_confirmados[[\"fallecidos\"]].iloc[0:150]) \n",
    "\n",
    "#me quedo con el 30% restante para testear\n",
    "x_test = np.array(df_confirmados[[\"asistencia_respiratoria\",\"confirmados\",\"cuidado_intensivo\",\"presentan_sintomas\",\"internacion\"]].iloc[150:215,:])\n",
    "#x_test = np.array(df_confirmados[[\"asistencia_respiratoria\",\"cuidado_intensivo\",\"presentan_sintomas\",\"internacion\"]].iloc[150:215,:])\n",
    "y_test = np.array(df_confirmados[[\"fallecidos\"]].iloc[150:2215,:]) "
   ]
  },
  {
   "cell_type": "code",
   "execution_count": 8,
   "metadata": {},
   "outputs": [
    {
     "name": "stdout",
     "output_type": "stream",
     "text": [
      "(150, 5)\n",
      "(64, 5)\n"
     ]
    }
   ],
   "source": [
    "print(x_train.shape)\n",
    "print(x_test.shape)"
   ]
  },
  {
   "cell_type": "code",
   "execution_count": 9,
   "metadata": {},
   "outputs": [
    {
     "data": {
      "text/plain": [
       "(64, 1)"
      ]
     },
     "execution_count": 9,
     "metadata": {},
     "output_type": "execute_result"
    }
   ],
   "source": [
    "y_test.shape"
   ]
  },
  {
   "cell_type": "code",
   "execution_count": 10,
   "metadata": {},
   "outputs": [
    {
     "data": {
      "text/html": [
       "<div>\n",
       "<style scoped>\n",
       "    .dataframe tbody tr th:only-of-type {\n",
       "        vertical-align: middle;\n",
       "    }\n",
       "\n",
       "    .dataframe tbody tr th {\n",
       "        vertical-align: top;\n",
       "    }\n",
       "\n",
       "    .dataframe thead th {\n",
       "        text-align: right;\n",
       "    }\n",
       "</style>\n",
       "<table border=\"1\" class=\"dataframe\">\n",
       "  <thead>\n",
       "    <tr style=\"text-align: right;\">\n",
       "      <th></th>\n",
       "      <th>Model</th>\n",
       "      <th>Features</th>\n",
       "      <th>R2</th>\n",
       "      <th>MSE</th>\n",
       "      <th>MAE</th>\n",
       "    </tr>\n",
       "  </thead>\n",
       "  <tbody>\n",
       "  </tbody>\n",
       "</table>\n",
       "</div>"
      ],
      "text/plain": [
       "Empty DataFrame\n",
       "Columns: [Model, Features, R2, MSE, MAE]\n",
       "Index: []"
      ]
     },
     "execution_count": 10,
     "metadata": {},
     "output_type": "execute_result"
    }
   ],
   "source": [
    "# Vamos a crear un dataframe para guardar los resultados de cada estimador\n",
    "results_df = pd.DataFrame(columns=['Model','Features','R2','MSE','MAE'])\n",
    "results_df"
   ]
  },
  {
   "cell_type": "code",
   "execution_count": 11,
   "metadata": {},
   "outputs": [],
   "source": [
    "#plt.scatter(x_train[:,],y_train)"
   ]
  },
  {
   "cell_type": "code",
   "execution_count": 12,
   "metadata": {},
   "outputs": [
    {
     "data": {
      "text/plain": [
       "StandardScaler()"
      ]
     },
     "execution_count": 12,
     "metadata": {},
     "output_type": "execute_result"
    }
   ],
   "source": [
    "# Definimos el escalador \n",
    "# # auto scaling train- set (mean = 0, std = 1)\n",
    "scaler = preprocessing.StandardScaler()\n",
    "scaler = scaler.fit(x_train) # Fiteamos para los x_train\n",
    "scaler"
   ]
  },
  {
   "cell_type": "code",
   "execution_count": 13,
   "metadata": {},
   "outputs": [],
   "source": [
    "# Transformamos los x_train y x_test\n",
    "x_train_scaled = scaler.transform(x_train)\n",
    "x_test_scaled = scaler.transform(x_test)\n",
    "\n",
    "# Aqui estamos agregando las features polinomicas LUEGO de escalar los datos\n",
    "grad_poly = 2\n",
    "x_train_poly_scaled = PolynomialFeatures(grad_poly).fit_transform(x_train_scaled)\n",
    "x_test_poly_scaled = PolynomialFeatures(grad_poly).fit_transform(x_test_scaled)"
   ]
  },
  {
   "cell_type": "markdown",
   "metadata": {},
   "source": [
    "### Linear Regression"
   ]
  },
  {
   "cell_type": "markdown",
   "metadata": {},
   "source": [
    "#### Linear Features "
   ]
  },
  {
   "cell_type": "code",
   "execution_count": 14,
   "metadata": {},
   "outputs": [],
   "source": [
    "#Definimos el estimador\n",
    "est = LinearRegression()\n",
    "#Definimos diccionario con hyperparametros\n",
    "parameters = {'fit_intercept' : [False, True]}\n",
    "#Definimos la cantidad de folds para validar\n",
    "n_folds = 2\n",
    "#Definimos el objeto grid search con los parametros anteriores\n",
    "gs = GridSearchCV(est, param_grid=parameters, cv=n_folds, refit=True, scoring=\"neg_mean_squared_error\")"
   ]
  },
  {
   "cell_type": "code",
   "execution_count": 15,
   "metadata": {},
   "outputs": [
    {
     "data": {
      "text/plain": [
       "GridSearchCV(cv=2, estimator=LinearRegression(),\n",
       "             param_grid={'fit_intercept': [False, True]},\n",
       "             scoring='neg_mean_squared_error')"
      ]
     },
     "execution_count": 15,
     "metadata": {},
     "output_type": "execute_result"
    }
   ],
   "source": [
    "#Entrenamos\n",
    "gs.fit(x_train_scaled, y_train)"
   ]
  },
  {
   "cell_type": "code",
   "execution_count": 16,
   "metadata": {},
   "outputs": [
    {
     "name": "stdout",
     "output_type": "stream",
     "text": [
      "LinearRegression() \n",
      "\n",
      "{'fit_intercept': True} \n",
      "\n",
      "-397.87013651827243 \n",
      "\n"
     ]
    }
   ],
   "source": [
    "# Mostramos el mejor estimador, sus hyperparametros seleccionados y su resultado\n",
    "print(gs.best_estimator_, \"\\n\")\n",
    "print(gs.best_params_, \"\\n\")\n",
    "print(gs.best_score_, \"\\n\")\n",
    "\n",
    "# Usamos x_test (del train- test split) para predecir con el mejor estimador\n",
    "linear_prediction = gs.best_estimator_.predict(x_test_scaled)\n",
    "#linear_prediction"
   ]
  },
  {
   "cell_type": "code",
   "execution_count": 17,
   "metadata": {},
   "outputs": [],
   "source": [
    "#Calculamos las metricas R2, MSE y MAE\n",
    "lineal_linear_r2 = r2_score(y_true=y_test, y_pred=linear_prediction)\n",
    "lineal_linear_mse = mean_squared_error(y_true=y_test, y_pred=linear_prediction)\n",
    "lineal_linear_mae = mean_absolute_error(y_true=y_test, y_pred=linear_prediction)"
   ]
  },
  {
   "cell_type": "code",
   "execution_count": 18,
   "metadata": {},
   "outputs": [
    {
     "name": "stdout",
     "output_type": "stream",
     "text": [
      "R2 score: 0.135217\n",
      "MAE: 8.776772\n",
      "MSE: 106.516069\n"
     ]
    },
    {
     "data": {
      "image/png": "[encoded data removed]",
      "text/plain": [
       "<Figure size 432x288 with 1 Axes>"
      ]
     },
     "metadata": {
      "needs_background": "light"
     },
     "output_type": "display_data"
    }
   ],
   "source": [
    "#Vamos a plotear Predictions vs True values\n",
    "plt.scatter(linear_prediction, y_test)\n",
    "plt.plot(np.arange(0,100),np.arange(0,100), 'r', label='Identity') #Linea identidad (Predictions = True Values)\n",
    "plt.xlabel('Predictions')\n",
    "plt.ylabel('True Values')\n",
    "plt.xlim((10,70))\n",
    "plt.ylim((0,60))\n",
    "plt.legend()\n",
    "print(f'R2 score: {lineal_linear_r2:.6f}')\n",
    "print(f'MAE: {lineal_linear_mae:.6f}')\n",
    "print(f'MSE: {lineal_linear_mse:.6f}')\n"
   ]
  },
  {
   "cell_type": "code",
   "execution_count": 19,
   "metadata": {},
   "outputs": [],
   "source": [
    "#Guardamos los resultados\n",
    "results_df = results_df.append({'Model':'Linear',\n",
    "                                'Features':'Linear',\n",
    "                                'R2':lineal_linear_r2,\n",
    "                                'MSE':lineal_linear_mse,\n",
    "                                'MAE':lineal_linear_mae},ignore_index=True)"
   ]
  },
  {
   "cell_type": "code",
   "execution_count": 20,
   "metadata": {},
   "outputs": [
    {
     "data": {
      "text/html": [
       "<div>\n",
       "<style scoped>\n",
       "    .dataframe tbody tr th:only-of-type {\n",
       "        vertical-align: middle;\n",
       "    }\n",
       "\n",
       "    .dataframe tbody tr th {\n",
       "        vertical-align: top;\n",
       "    }\n",
       "\n",
       "    .dataframe thead th {\n",
       "        text-align: right;\n",
       "    }\n",
       "</style>\n",
       "<table border=\"1\" class=\"dataframe\">\n",
       "  <thead>\n",
       "    <tr style=\"text-align: right;\">\n",
       "      <th></th>\n",
       "      <th>Model</th>\n",
       "      <th>Features</th>\n",
       "      <th>R2</th>\n",
       "      <th>MSE</th>\n",
       "      <th>MAE</th>\n",
       "    </tr>\n",
       "  </thead>\n",
       "  <tbody>\n",
       "    <tr>\n",
       "      <th>0</th>\n",
       "      <td>Linear</td>\n",
       "      <td>Linear</td>\n",
       "      <td>0.135217</td>\n",
       "      <td>106.516069</td>\n",
       "      <td>8.776772</td>\n",
       "    </tr>\n",
       "  </tbody>\n",
       "</table>\n",
       "</div>"
      ],
      "text/plain": [
       "    Model Features        R2         MSE       MAE\n",
       "0  Linear   Linear  0.135217  106.516069  8.776772"
      ]
     },
     "execution_count": 20,
     "metadata": {},
     "output_type": "execute_result"
    }
   ],
   "source": [
    "results_df"
   ]
  },
  {
   "cell_type": "markdown",
   "metadata": {},
   "source": [
    "### Polynomial Features"
   ]
  },
  {
   "cell_type": "code",
   "execution_count": 21,
   "metadata": {},
   "outputs": [
    {
     "name": "stdout",
     "output_type": "stream",
     "text": [
      "LinearRegression(fit_intercept=False) \n",
      "\n",
      "{'fit_intercept': False} \n",
      "\n",
      "-22949.57275731391 \n",
      "\n"
     ]
    }
   ],
   "source": [
    "#Usamos los mismos parametros para este nuevo GS.\n",
    "gs = GridSearchCV(est, param_grid=parameters,refit=True, cv=n_folds, scoring=\"neg_mean_squared_error\")\n",
    "#Entrenamos\n",
    "gs.fit(x_train_poly_scaled, y_train)\n",
    "# Mostramos el mejor estimador, sus hyperparametros seleccionados y su resultado\n",
    "print(gs.best_estimator_, \"\\n\")\n",
    "print(gs.best_params_, \"\\n\")\n",
    "print(gs.best_score_, \"\\n\")"
   ]
  },
  {
   "cell_type": "code",
   "execution_count": 22,
   "metadata": {},
   "outputs": [],
   "source": [
    "# Predecimos para el set polinomico\n",
    "poly_linear_prediction = gs.best_estimator_.predict(x_test_poly_scaled)\n",
    "\n",
    "# Calculamos las metricas R2,MSE y MAE\n",
    "poly_linear_r2 = r2_score(y_true=y_test , y_pred=poly_linear_prediction)\n",
    "poly_linear_mse = mean_squared_error(y_true=y_test , y_pred=poly_linear_prediction)\n",
    "poly_linear_mae = mean_absolute_error(y_true=y_test , y_pred=poly_linear_prediction)"
   ]
  },
  {
   "cell_type": "code",
   "execution_count": 23,
   "metadata": {},
   "outputs": [
    {
     "name": "stdout",
     "output_type": "stream",
     "text": [
      "R2 score: 0.490337\n",
      "MAE: 6.795781\n",
      "MSE: 62.775651\n"
     ]
    },
    {
     "data": {
      "image/png": "[encoded data removed]",
      "text/plain": [
       "<Figure size 432x288 with 1 Axes>"
      ]
     },
     "metadata": {
      "needs_background": "light"
     },
     "output_type": "display_data"
    }
   ],
   "source": [
    "#Vamos a plotear Predictions vs True values del set polinomico\n",
    "plt.scatter(poly_linear_prediction, y_test)\n",
    "plt.plot(np.arange(0,100),np.arange(0,100), 'r', label='Identity')\n",
    "plt.xlabel('Predictions')\n",
    "plt.ylabel('True Values')\n",
    "plt.xlim((10,70))\n",
    "plt.ylim((0,60))\n",
    "plt.legend()\n",
    "print(f'R2 score: {poly_linear_r2:.6f}')\n",
    "print(f'MAE: {poly_linear_mae:.6f}')\n",
    "print(f'MSE: {poly_linear_mse:.6f}')"
   ]
  },
  {
   "cell_type": "code",
   "execution_count": 24,
   "metadata": {},
   "outputs": [
    {
     "data": {
      "text/html": [
       "<div>\n",
       "<style scoped>\n",
       "    .dataframe tbody tr th:only-of-type {\n",
       "        vertical-align: middle;\n",
       "    }\n",
       "\n",
       "    .dataframe tbody tr th {\n",
       "        vertical-align: top;\n",
       "    }\n",
       "\n",
       "    .dataframe thead th {\n",
       "        text-align: right;\n",
       "    }\n",
       "</style>\n",
       "<table border=\"1\" class=\"dataframe\">\n",
       "  <thead>\n",
       "    <tr style=\"text-align: right;\">\n",
       "      <th></th>\n",
       "      <th>Model</th>\n",
       "      <th>Features</th>\n",
       "      <th>R2</th>\n",
       "      <th>MSE</th>\n",
       "      <th>MAE</th>\n",
       "    </tr>\n",
       "  </thead>\n",
       "  <tbody>\n",
       "    <tr>\n",
       "      <th>0</th>\n",
       "      <td>Linear</td>\n",
       "      <td>Linear</td>\n",
       "      <td>0.135217</td>\n",
       "      <td>106.516069</td>\n",
       "      <td>8.776772</td>\n",
       "    </tr>\n",
       "    <tr>\n",
       "      <th>1</th>\n",
       "      <td>Linear</td>\n",
       "      <td>Poly</td>\n",
       "      <td>0.490337</td>\n",
       "      <td>62.775651</td>\n",
       "      <td>6.795781</td>\n",
       "    </tr>\n",
       "  </tbody>\n",
       "</table>\n",
       "</div>"
      ],
      "text/plain": [
       "    Model Features        R2         MSE       MAE\n",
       "0  Linear   Linear  0.135217  106.516069  8.776772\n",
       "1  Linear     Poly  0.490337   62.775651  6.795781"
      ]
     },
     "execution_count": 24,
     "metadata": {},
     "output_type": "execute_result"
    }
   ],
   "source": [
    "results_df = results_df.append({'Model':'Linear',\n",
    "                                'Features':'Poly',\n",
    "                                'R2':poly_linear_r2,\n",
    "                                'MSE':poly_linear_mse,\n",
    "                                'MAE':poly_linear_mae},ignore_index=True)\n",
    "results_df"
   ]
  },
  {
   "cell_type": "markdown",
   "metadata": {},
   "source": [
    "### Support Vector Regression"
   ]
  },
  {
   "cell_type": "code",
   "execution_count": 25,
   "metadata": {},
   "outputs": [],
   "source": [
    "# Ahora cambiamos el estimador, usaremos SVR\n",
    "est = SVR(max_iter=25000)\n",
    "# Lista del parametro lambda (parametro 'alpha')\n",
    "parameters = {'C' : [1000,1500,2000,3000,5000],\n",
    "              'epsilon' : [0.001, 0.01, 0.1,1, 10,100],\n",
    "             'gamma':[0.001, 0.01, 0.1,1, 10,100]}\n",
    "# Definimos nuevamente el objeto GS con los parametros previamente definidos\n",
    "gs = GridSearchCV(est, param_grid=parameters,refit=True,\n",
    "                  cv=n_folds, scoring=\"neg_mean_squared_error\",\n",
    "                  verbose=3, n_jobs=3)"
   ]
  },
  {
   "cell_type": "markdown",
   "metadata": {},
   "source": [
    "#### Linear Features"
   ]
  },
  {
   "cell_type": "code",
   "execution_count": 26,
   "metadata": {},
   "outputs": [
    {
     "name": "stdout",
     "output_type": "stream",
     "text": [
      "Fitting 2 folds for each of 180 candidates, totalling 360 fits\n"
     ]
    },
    {
     "name": "stderr",
     "output_type": "stream",
     "text": [
      "[Parallel(n_jobs=3)]: Using backend LokyBackend with 3 concurrent workers.\n",
      "[Parallel(n_jobs=3)]: Done  47 tasks      | elapsed:    0.4s\n"
     ]
    },
    {
     "name": "stdout",
     "output_type": "stream",
     "text": [
      "SVR(C=5000, epsilon=0.001, gamma=0.001, max_iter=25000) \n",
      "\n",
      "{'C': 5000, 'epsilon': 0.001, 'gamma': 0.001} \n",
      "\n",
      "-127.33252174442536 \n",
      "\n"
     ]
    },
    {
     "name": "stderr",
     "output_type": "stream",
     "text": [
      "[Parallel(n_jobs=3)]: Done 355 out of 360 | elapsed:    0.7s remaining:    0.0s\n",
      "[Parallel(n_jobs=3)]: Done 360 out of 360 | elapsed:    0.7s finished\n"
     ]
    }
   ],
   "source": [
    "# Entrenamos con linear features ESCALADAS!\n",
    "gs.fit(x_train_scaled, y_train)\n",
    "print(gs.best_estimator_, \"\\n\")\n",
    "print(gs.best_params_, \"\\n\")\n",
    "print(gs.best_score_, \"\\n\")"
   ]
  },
  {
   "cell_type": "code",
   "execution_count": 27,
   "metadata": {},
   "outputs": [],
   "source": [
    "# Prediccion + Metricas\n",
    "svr_linear_prediction = gs.best_estimator_.predict(x_test_scaled)\n",
    "\n",
    "svr_linear_r2 = r2_score(y_true=y_test, y_pred=svr_linear_prediction)\n",
    "svr_linear_mse = mean_squared_error(y_true=y_test, y_pred=svr_linear_prediction)\n",
    "svr_linear_mae = mean_absolute_error(y_true=y_test, y_pred=svr_linear_prediction)"
   ]
  },
  {
   "cell_type": "code",
   "execution_count": 28,
   "metadata": {},
   "outputs": [
    {
     "name": "stdout",
     "output_type": "stream",
     "text": [
      "R2 score: 0.611127\n",
      "MAE: 5.723356\n",
      "MSE: 47.897849\n"
     ]
    },
    {
     "data": {
      "image/png": "[encoded data removed]",
      "text/plain": [
       "<Figure size 432x288 with 1 Axes>"
      ]
     },
     "metadata": {
      "needs_background": "light"
     },
     "output_type": "display_data"
    }
   ],
   "source": [
    "#Vamos a plotear Predictions vs True values del set polinomico\n",
    "plt.scatter(svr_linear_prediction, y_test)\n",
    "plt.plot(np.arange(0,100),np.arange(0,100), 'r', label='Identity')\n",
    "plt.xlabel('Predictions')\n",
    "plt.ylabel('True Values')\n",
    "plt.xlim((10,70))\n",
    "plt.ylim((0,60))\n",
    "plt.legend()\n",
    "print(f'R2 score: {svr_linear_r2:.6f}')\n",
    "print(f'MAE: {svr_linear_mae:.6f}')\n",
    "print(f'MSE: {svr_linear_mse:.6f}')"
   ]
  },
  {
   "cell_type": "code",
   "execution_count": 29,
   "metadata": {},
   "outputs": [
    {
     "data": {
      "text/html": [
       "<div>\n",
       "<style scoped>\n",
       "    .dataframe tbody tr th:only-of-type {\n",
       "        vertical-align: middle;\n",
       "    }\n",
       "\n",
       "    .dataframe tbody tr th {\n",
       "        vertical-align: top;\n",
       "    }\n",
       "\n",
       "    .dataframe thead th {\n",
       "        text-align: right;\n",
       "    }\n",
       "</style>\n",
       "<table border=\"1\" class=\"dataframe\">\n",
       "  <thead>\n",
       "    <tr style=\"text-align: right;\">\n",
       "      <th></th>\n",
       "      <th>Model</th>\n",
       "      <th>Features</th>\n",
       "      <th>R2</th>\n",
       "      <th>MSE</th>\n",
       "      <th>MAE</th>\n",
       "    </tr>\n",
       "  </thead>\n",
       "  <tbody>\n",
       "    <tr>\n",
       "      <th>0</th>\n",
       "      <td>Linear</td>\n",
       "      <td>Linear</td>\n",
       "      <td>0.135217</td>\n",
       "      <td>106.516069</td>\n",
       "      <td>8.776772</td>\n",
       "    </tr>\n",
       "    <tr>\n",
       "      <th>1</th>\n",
       "      <td>Linear</td>\n",
       "      <td>Poly</td>\n",
       "      <td>0.490337</td>\n",
       "      <td>62.775651</td>\n",
       "      <td>6.795781</td>\n",
       "    </tr>\n",
       "    <tr>\n",
       "      <th>2</th>\n",
       "      <td>SVR</td>\n",
       "      <td>Linear</td>\n",
       "      <td>0.611127</td>\n",
       "      <td>47.897849</td>\n",
       "      <td>5.723356</td>\n",
       "    </tr>\n",
       "  </tbody>\n",
       "</table>\n",
       "</div>"
      ],
      "text/plain": [
       "    Model Features        R2         MSE       MAE\n",
       "0  Linear   Linear  0.135217  106.516069  8.776772\n",
       "1  Linear     Poly  0.490337   62.775651  6.795781\n",
       "2     SVR   Linear  0.611127   47.897849  5.723356"
      ]
     },
     "execution_count": 29,
     "metadata": {},
     "output_type": "execute_result"
    }
   ],
   "source": [
    "results_df = results_df.append({'Model':'SVR',\n",
    "                                'Features':'Linear',\n",
    "                                'R2':svr_linear_r2,\n",
    "                                'MSE':svr_linear_mse,\n",
    "                                'MAE':svr_linear_mae},ignore_index=True)\n",
    "results_df"
   ]
  },
  {
   "cell_type": "markdown",
   "metadata": {},
   "source": [
    "#### Features Polinomicas"
   ]
  },
  {
   "cell_type": "code",
   "execution_count": 30,
   "metadata": {},
   "outputs": [
    {
     "name": "stderr",
     "output_type": "stream",
     "text": [
      "[Parallel(n_jobs=3)]: Using backend LokyBackend with 3 concurrent workers.\n"
     ]
    },
    {
     "name": "stdout",
     "output_type": "stream",
     "text": [
      "Fitting 2 folds for each of 180 candidates, totalling 360 fits\n"
     ]
    },
    {
     "name": "stderr",
     "output_type": "stream",
     "text": [
      "[Parallel(n_jobs=3)]: Done 122 tasks      | elapsed:    0.0s\n"
     ]
    },
    {
     "name": "stdout",
     "output_type": "stream",
     "text": [
      "SVR(C=5000, epsilon=1, gamma=0.001, max_iter=25000) \n",
      "\n",
      "{'C': 5000, 'epsilon': 1, 'gamma': 0.001} \n",
      "\n",
      "-137.37931429575488 \n",
      "\n"
     ]
    },
    {
     "name": "stderr",
     "output_type": "stream",
     "text": [
      "[Parallel(n_jobs=3)]: Done 360 out of 360 | elapsed:    0.2s finished\n"
     ]
    }
   ],
   "source": [
    "gs.fit(x_train_poly_scaled, y_train)\n",
    "\n",
    "print(gs.best_estimator_, \"\\n\")\n",
    "print(gs.best_params_, \"\\n\")\n",
    "print(gs.best_score_, \"\\n\")"
   ]
  },
  {
   "cell_type": "code",
   "execution_count": 31,
   "metadata": {},
   "outputs": [],
   "source": [
    "# Prediccion + Metricas\n",
    "poly_svr_prediction = gs.best_estimator_.predict(x_test_poly_scaled)\n",
    "\n",
    "poly_svr_r2 = r2_score(y_true=y_test, y_pred=poly_svr_prediction)\n",
    "poly_svr_mse = mean_squared_error(y_true=y_test, y_pred=poly_svr_prediction)\n",
    "poly_svr_mae = mean_absolute_error(y_true=y_test, y_pred=poly_svr_prediction)"
   ]
  },
  {
   "cell_type": "code",
   "execution_count": 32,
   "metadata": {},
   "outputs": [
    {
     "name": "stdout",
     "output_type": "stream",
     "text": [
      "R2 score: 0.309068\n",
      "MAE: 7.573133\n",
      "MSE: 85.102731\n"
     ]
    },
    {
     "data": {
      "image/png": "[encoded data removed]",
      "text/plain": [
       "<Figure size 432x288 with 1 Axes>"
      ]
     },
     "metadata": {
      "needs_background": "light"
     },
     "output_type": "display_data"
    }
   ],
   "source": [
    "#Plot\n",
    "plt.scatter(poly_svr_prediction, y_test)\n",
    "plt.plot(np.arange(0,100),np.arange(0,100), 'r', label='Identity')\n",
    "plt.xlabel('Predictions')\n",
    "plt.ylabel('True Values')\n",
    "plt.xlim((0,70))\n",
    "plt.ylim((0,60))\n",
    "plt.legend()\n",
    "print(f'R2 score: {poly_svr_r2:.6f}')\n",
    "print(f'MAE: {poly_svr_mae:.6f}')\n",
    "print(f'MSE: {poly_svr_mse:.6f}')"
   ]
  },
  {
   "cell_type": "code",
   "execution_count": 33,
   "metadata": {},
   "outputs": [
    {
     "data": {
      "text/html": [
       "<div>\n",
       "<style scoped>\n",
       "    .dataframe tbody tr th:only-of-type {\n",
       "        vertical-align: middle;\n",
       "    }\n",
       "\n",
       "    .dataframe tbody tr th {\n",
       "        vertical-align: top;\n",
       "    }\n",
       "\n",
       "    .dataframe thead th {\n",
       "        text-align: right;\n",
       "    }\n",
       "</style>\n",
       "<table border=\"1\" class=\"dataframe\">\n",
       "  <thead>\n",
       "    <tr style=\"text-align: right;\">\n",
       "      <th></th>\n",
       "      <th>Model</th>\n",
       "      <th>Features</th>\n",
       "      <th>R2</th>\n",
       "      <th>MSE</th>\n",
       "      <th>MAE</th>\n",
       "    </tr>\n",
       "  </thead>\n",
       "  <tbody>\n",
       "    <tr>\n",
       "      <th>0</th>\n",
       "      <td>Linear</td>\n",
       "      <td>Linear</td>\n",
       "      <td>0.135217</td>\n",
       "      <td>106.516069</td>\n",
       "      <td>8.776772</td>\n",
       "    </tr>\n",
       "    <tr>\n",
       "      <th>1</th>\n",
       "      <td>Linear</td>\n",
       "      <td>Poly</td>\n",
       "      <td>0.490337</td>\n",
       "      <td>62.775651</td>\n",
       "      <td>6.795781</td>\n",
       "    </tr>\n",
       "    <tr>\n",
       "      <th>2</th>\n",
       "      <td>SVR</td>\n",
       "      <td>Linear</td>\n",
       "      <td>0.611127</td>\n",
       "      <td>47.897849</td>\n",
       "      <td>5.723356</td>\n",
       "    </tr>\n",
       "    <tr>\n",
       "      <th>3</th>\n",
       "      <td>SVR</td>\n",
       "      <td>Poly</td>\n",
       "      <td>0.309068</td>\n",
       "      <td>85.102731</td>\n",
       "      <td>7.573133</td>\n",
       "    </tr>\n",
       "  </tbody>\n",
       "</table>\n",
       "</div>"
      ],
      "text/plain": [
       "    Model Features        R2         MSE       MAE\n",
       "0  Linear   Linear  0.135217  106.516069  8.776772\n",
       "1  Linear     Poly  0.490337   62.775651  6.795781\n",
       "2     SVR   Linear  0.611127   47.897849  5.723356\n",
       "3     SVR     Poly  0.309068   85.102731  7.573133"
      ]
     },
     "execution_count": 33,
     "metadata": {},
     "output_type": "execute_result"
    }
   ],
   "source": [
    "#Guardamos\n",
    "results_df = results_df.append({'Model':'SVR',\n",
    "                                'Features':'Poly',\n",
    "                                'R2':poly_svr_r2,\n",
    "                                'MSE':poly_svr_mse,\n",
    "                                'MAE':poly_svr_mae},ignore_index=True)\n",
    "results_df"
   ]
  }
 ],
 "metadata": {
  "kernelspec": {
   "display_name": "Python 3",
   "language": "python",
   "name": "python3"
  },
  "language_info": {
   "codemirror_mode": {
    "name": "ipython",
    "version": 3
   },
   "file_extension": ".py",
   "mimetype": "text/x-python",
   "name": "python",
   "nbconvert_exporter": "python",
   "pygments_lexer": "ipython3",
   "version": "3.8.3"
  }
 },
 "nbformat": 4,
 "nbformat_minor": 4
}
