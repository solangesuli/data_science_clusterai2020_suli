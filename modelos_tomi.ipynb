{
 "cells": [
  {
   "cell_type": "code",
   "execution_count": 1,
   "metadata": {},
   "outputs": [],
   "source": [
    "# importamos las librerías necesarias para trabajar.\n",
    "import numpy as np\n",
    "import pandas as pd\n",
    "import matplotlib.pyplot as plt\n",
    "import seaborn as sns\n",
    "\n",
    "from sklearn.linear_model import LinearRegression, Ridge\n",
    "from sklearn.svm import SVR\n",
    "from sklearn.svm import LinearSVR\n",
    "from sklearn.neighbors import KNeighborsRegressor\n",
    "from sklearn.ensemble import RandomForestRegressor\n",
    "from sklearn.metrics import r2_score, mean_squared_error\n",
    "\n",
    "from sklearn.model_selection import GridSearchCV, TimeSeriesSplit, cross_val_score, train_test_split\n",
    "from sklearn.decomposition import PCA\n",
    "from sklearn.preprocessing import StandardScaler, PolynomialFeatures\n",
    "\n",
    "#Otros \n",
    "import warnings\n",
    "warnings.filterwarnings('ignore')"
   ]
  },
  {
   "cell_type": "code",
   "execution_count": 2,
   "metadata": {},
   "outputs": [
    {
     "data": {
      "text/html": [
       "<div>\n",
       "<style scoped>\n",
       "    .dataframe tbody tr th:only-of-type {\n",
       "        vertical-align: middle;\n",
       "    }\n",
       "\n",
       "    .dataframe tbody tr th {\n",
       "        vertical-align: top;\n",
       "    }\n",
       "\n",
       "    .dataframe thead th {\n",
       "        text-align: right;\n",
       "    }\n",
       "</style>\n",
       "<table border=\"1\" class=\"dataframe\">\n",
       "  <thead>\n",
       "    <tr style=\"text-align: right;\">\n",
       "      <th></th>\n",
       "      <th>argentino</th>\n",
       "      <th>asistencia_respiratoria</th>\n",
       "      <th>confirmados</th>\n",
       "      <th>cuidado_intensivo</th>\n",
       "      <th>edad</th>\n",
       "      <th>fallecidos</th>\n",
       "      <th>mayor_65</th>\n",
       "      <th>mayor_65_internacion</th>\n",
       "      <th>presentan_sintomas</th>\n",
       "      <th>privado</th>\n",
       "      <th>publico</th>\n",
       "      <th>internacion</th>\n",
       "      <th>sexo_F</th>\n",
       "      <th>sexo_M</th>\n",
       "    </tr>\n",
       "    <tr>\n",
       "      <th>index</th>\n",
       "      <th></th>\n",
       "      <th></th>\n",
       "      <th></th>\n",
       "      <th></th>\n",
       "      <th></th>\n",
       "      <th></th>\n",
       "      <th></th>\n",
       "      <th></th>\n",
       "      <th></th>\n",
       "      <th></th>\n",
       "      <th></th>\n",
       "      <th></th>\n",
       "      <th></th>\n",
       "      <th></th>\n",
       "    </tr>\n",
       "  </thead>\n",
       "  <tbody>\n",
       "    <tr>\n",
       "      <th>2020-03-01</th>\n",
       "      <td>0</td>\n",
       "      <td>0</td>\n",
       "      <td>0</td>\n",
       "      <td>0</td>\n",
       "      <td>0.000000</td>\n",
       "      <td>0</td>\n",
       "      <td>0</td>\n",
       "      <td>0</td>\n",
       "      <td>0</td>\n",
       "      <td>0</td>\n",
       "      <td>0</td>\n",
       "      <td>0</td>\n",
       "      <td>0</td>\n",
       "      <td>0</td>\n",
       "    </tr>\n",
       "    <tr>\n",
       "      <th>2020-03-02</th>\n",
       "      <td>1</td>\n",
       "      <td>0</td>\n",
       "      <td>1</td>\n",
       "      <td>0</td>\n",
       "      <td>43.000000</td>\n",
       "      <td>0</td>\n",
       "      <td>0</td>\n",
       "      <td>0</td>\n",
       "      <td>1</td>\n",
       "      <td>1</td>\n",
       "      <td>0</td>\n",
       "      <td>1</td>\n",
       "      <td>0</td>\n",
       "      <td>1</td>\n",
       "    </tr>\n",
       "    <tr>\n",
       "      <th>2020-03-03</th>\n",
       "      <td>0</td>\n",
       "      <td>0</td>\n",
       "      <td>0</td>\n",
       "      <td>0</td>\n",
       "      <td>0.000000</td>\n",
       "      <td>0</td>\n",
       "      <td>0</td>\n",
       "      <td>0</td>\n",
       "      <td>0</td>\n",
       "      <td>0</td>\n",
       "      <td>0</td>\n",
       "      <td>0</td>\n",
       "      <td>0</td>\n",
       "      <td>0</td>\n",
       "    </tr>\n",
       "    <tr>\n",
       "      <th>2020-03-04</th>\n",
       "      <td>0</td>\n",
       "      <td>0</td>\n",
       "      <td>0</td>\n",
       "      <td>0</td>\n",
       "      <td>0.000000</td>\n",
       "      <td>0</td>\n",
       "      <td>0</td>\n",
       "      <td>0</td>\n",
       "      <td>0</td>\n",
       "      <td>0</td>\n",
       "      <td>0</td>\n",
       "      <td>0</td>\n",
       "      <td>0</td>\n",
       "      <td>0</td>\n",
       "    </tr>\n",
       "    <tr>\n",
       "      <th>2020-03-05</th>\n",
       "      <td>5</td>\n",
       "      <td>1</td>\n",
       "      <td>5</td>\n",
       "      <td>1</td>\n",
       "      <td>50.600000</td>\n",
       "      <td>1</td>\n",
       "      <td>2</td>\n",
       "      <td>1</td>\n",
       "      <td>5</td>\n",
       "      <td>3</td>\n",
       "      <td>2</td>\n",
       "      <td>3</td>\n",
       "      <td>1</td>\n",
       "      <td>4</td>\n",
       "    </tr>\n",
       "    <tr>\n",
       "      <th>...</th>\n",
       "      <td>...</td>\n",
       "      <td>...</td>\n",
       "      <td>...</td>\n",
       "      <td>...</td>\n",
       "      <td>...</td>\n",
       "      <td>...</td>\n",
       "      <td>...</td>\n",
       "      <td>...</td>\n",
       "      <td>...</td>\n",
       "      <td>...</td>\n",
       "      <td>...</td>\n",
       "      <td>...</td>\n",
       "      <td>...</td>\n",
       "      <td>...</td>\n",
       "    </tr>\n",
       "    <tr>\n",
       "      <th>2020-09-26</th>\n",
       "      <td>676</td>\n",
       "      <td>7</td>\n",
       "      <td>692</td>\n",
       "      <td>9</td>\n",
       "      <td>44.251445</td>\n",
       "      <td>10</td>\n",
       "      <td>121</td>\n",
       "      <td>29</td>\n",
       "      <td>359</td>\n",
       "      <td>393</td>\n",
       "      <td>299</td>\n",
       "      <td>53</td>\n",
       "      <td>348</td>\n",
       "      <td>344</td>\n",
       "    </tr>\n",
       "    <tr>\n",
       "      <th>2020-09-27</th>\n",
       "      <td>556</td>\n",
       "      <td>2</td>\n",
       "      <td>567</td>\n",
       "      <td>6</td>\n",
       "      <td>40.890212</td>\n",
       "      <td>7</td>\n",
       "      <td>76</td>\n",
       "      <td>21</td>\n",
       "      <td>335</td>\n",
       "      <td>307</td>\n",
       "      <td>260</td>\n",
       "      <td>45</td>\n",
       "      <td>274</td>\n",
       "      <td>293</td>\n",
       "    </tr>\n",
       "    <tr>\n",
       "      <th>2020-09-28</th>\n",
       "      <td>764</td>\n",
       "      <td>3</td>\n",
       "      <td>785</td>\n",
       "      <td>6</td>\n",
       "      <td>41.391614</td>\n",
       "      <td>9</td>\n",
       "      <td>113</td>\n",
       "      <td>26</td>\n",
       "      <td>431</td>\n",
       "      <td>480</td>\n",
       "      <td>305</td>\n",
       "      <td>53</td>\n",
       "      <td>399</td>\n",
       "      <td>386</td>\n",
       "    </tr>\n",
       "    <tr>\n",
       "      <th>2020-09-29</th>\n",
       "      <td>891</td>\n",
       "      <td>4</td>\n",
       "      <td>904</td>\n",
       "      <td>4</td>\n",
       "      <td>42.636799</td>\n",
       "      <td>7</td>\n",
       "      <td>135</td>\n",
       "      <td>25</td>\n",
       "      <td>454</td>\n",
       "      <td>531</td>\n",
       "      <td>373</td>\n",
       "      <td>57</td>\n",
       "      <td>449</td>\n",
       "      <td>455</td>\n",
       "    </tr>\n",
       "    <tr>\n",
       "      <th>2020-09-30</th>\n",
       "      <td>829</td>\n",
       "      <td>3</td>\n",
       "      <td>852</td>\n",
       "      <td>9</td>\n",
       "      <td>42.082355</td>\n",
       "      <td>11</td>\n",
       "      <td>133</td>\n",
       "      <td>28</td>\n",
       "      <td>452</td>\n",
       "      <td>512</td>\n",
       "      <td>340</td>\n",
       "      <td>58</td>\n",
       "      <td>425</td>\n",
       "      <td>427</td>\n",
       "    </tr>\n",
       "  </tbody>\n",
       "</table>\n",
       "<p>214 rows × 14 columns</p>\n",
       "</div>"
      ],
      "text/plain": [
       "            argentino  asistencia_respiratoria  confirmados  \\\n",
       "index                                                         \n",
       "2020-03-01          0                        0            0   \n",
       "2020-03-02          1                        0            1   \n",
       "2020-03-03          0                        0            0   \n",
       "2020-03-04          0                        0            0   \n",
       "2020-03-05          5                        1            5   \n",
       "...               ...                      ...          ...   \n",
       "2020-09-26        676                        7          692   \n",
       "2020-09-27        556                        2          567   \n",
       "2020-09-28        764                        3          785   \n",
       "2020-09-29        891                        4          904   \n",
       "2020-09-30        829                        3          852   \n",
       "\n",
       "            cuidado_intensivo       edad  fallecidos  mayor_65  \\\n",
       "index                                                            \n",
       "2020-03-01                  0   0.000000           0         0   \n",
       "2020-03-02                  0  43.000000           0         0   \n",
       "2020-03-03                  0   0.000000           0         0   \n",
       "2020-03-04                  0   0.000000           0         0   \n",
       "2020-03-05                  1  50.600000           1         2   \n",
       "...                       ...        ...         ...       ...   \n",
       "2020-09-26                  9  44.251445          10       121   \n",
       "2020-09-27                  6  40.890212           7        76   \n",
       "2020-09-28                  6  41.391614           9       113   \n",
       "2020-09-29                  4  42.636799           7       135   \n",
       "2020-09-30                  9  42.082355          11       133   \n",
       "\n",
       "            mayor_65_internacion  presentan_sintomas  privado  publico  \\\n",
       "index                                                                    \n",
       "2020-03-01                     0                   0        0        0   \n",
       "2020-03-02                     0                   1        1        0   \n",
       "2020-03-03                     0                   0        0        0   \n",
       "2020-03-04                     0                   0        0        0   \n",
       "2020-03-05                     1                   5        3        2   \n",
       "...                          ...                 ...      ...      ...   \n",
       "2020-09-26                    29                 359      393      299   \n",
       "2020-09-27                    21                 335      307      260   \n",
       "2020-09-28                    26                 431      480      305   \n",
       "2020-09-29                    25                 454      531      373   \n",
       "2020-09-30                    28                 452      512      340   \n",
       "\n",
       "            internacion  sexo_F  sexo_M  \n",
       "index                                    \n",
       "2020-03-01            0       0       0  \n",
       "2020-03-02            1       0       1  \n",
       "2020-03-03            0       0       0  \n",
       "2020-03-04            0       0       0  \n",
       "2020-03-05            3       1       4  \n",
       "...                 ...     ...     ...  \n",
       "2020-09-26           53     348     344  \n",
       "2020-09-27           45     274     293  \n",
       "2020-09-28           53     399     386  \n",
       "2020-09-29           57     449     455  \n",
       "2020-09-30           58     425     427  \n",
       "\n",
       "[214 rows x 14 columns]"
      ]
     },
     "execution_count": 2,
     "metadata": {},
     "output_type": "execute_result"
    }
   ],
   "source": [
    "df_raw = pd.read_feather('./data/pivot_data')\n",
    "\n",
    "df_raw.index = df_raw['index']\n",
    "df_raw.drop('index', axis=1, inplace=True)\n",
    "\n",
    "df_raw"
   ]
  },
  {
   "cell_type": "markdown",
   "metadata": {},
   "source": [
    "## Pruebo con las principales features primero"
   ]
  },
  {
   "cell_type": "code",
   "execution_count": 227,
   "metadata": {},
   "outputs": [],
   "source": [
    "cols = ['fallecidos', 'mayor_65', 'internacion', 'cuidado_intensivo', 'mayor_65_internacion']\n",
    "df = df_raw[cols]"
   ]
  },
  {
   "cell_type": "code",
   "execution_count": 4,
   "metadata": {},
   "outputs": [
    {
     "data": {
      "text/html": [
       "<div>\n",
       "<style scoped>\n",
       "    .dataframe tbody tr th:only-of-type {\n",
       "        vertical-align: middle;\n",
       "    }\n",
       "\n",
       "    .dataframe tbody tr th {\n",
       "        vertical-align: top;\n",
       "    }\n",
       "\n",
       "    .dataframe thead th {\n",
       "        text-align: right;\n",
       "    }\n",
       "</style>\n",
       "<table border=\"1\" class=\"dataframe\">\n",
       "  <thead>\n",
       "    <tr style=\"text-align: right;\">\n",
       "      <th></th>\n",
       "      <th>fallecidos</th>\n",
       "      <th>mayor_65</th>\n",
       "      <th>internacion</th>\n",
       "      <th>cuidado_intensivo</th>\n",
       "      <th>mayor_65_internacion</th>\n",
       "    </tr>\n",
       "    <tr>\n",
       "      <th>index</th>\n",
       "      <th></th>\n",
       "      <th></th>\n",
       "      <th></th>\n",
       "      <th></th>\n",
       "      <th></th>\n",
       "    </tr>\n",
       "  </thead>\n",
       "  <tbody>\n",
       "    <tr>\n",
       "      <th>2020-03-01</th>\n",
       "      <td>0</td>\n",
       "      <td>0</td>\n",
       "      <td>0</td>\n",
       "      <td>0</td>\n",
       "      <td>0</td>\n",
       "    </tr>\n",
       "    <tr>\n",
       "      <th>2020-03-02</th>\n",
       "      <td>0</td>\n",
       "      <td>0</td>\n",
       "      <td>1</td>\n",
       "      <td>0</td>\n",
       "      <td>0</td>\n",
       "    </tr>\n",
       "    <tr>\n",
       "      <th>2020-03-03</th>\n",
       "      <td>0</td>\n",
       "      <td>0</td>\n",
       "      <td>0</td>\n",
       "      <td>0</td>\n",
       "      <td>0</td>\n",
       "    </tr>\n",
       "    <tr>\n",
       "      <th>2020-03-04</th>\n",
       "      <td>0</td>\n",
       "      <td>0</td>\n",
       "      <td>0</td>\n",
       "      <td>0</td>\n",
       "      <td>0</td>\n",
       "    </tr>\n",
       "    <tr>\n",
       "      <th>2020-03-05</th>\n",
       "      <td>1</td>\n",
       "      <td>2</td>\n",
       "      <td>3</td>\n",
       "      <td>1</td>\n",
       "      <td>1</td>\n",
       "    </tr>\n",
       "  </tbody>\n",
       "</table>\n",
       "</div>"
      ],
      "text/plain": [
       "            fallecidos  mayor_65  internacion  cuidado_intensivo  \\\n",
       "index                                                              \n",
       "2020-03-01           0         0            0                  0   \n",
       "2020-03-02           0         0            1                  0   \n",
       "2020-03-03           0         0            0                  0   \n",
       "2020-03-04           0         0            0                  0   \n",
       "2020-03-05           1         2            3                  1   \n",
       "\n",
       "            mayor_65_internacion  \n",
       "index                             \n",
       "2020-03-01                     0  \n",
       "2020-03-02                     0  \n",
       "2020-03-03                     0  \n",
       "2020-03-04                     0  \n",
       "2020-03-05                     1  "
      ]
     },
     "execution_count": 4,
     "metadata": {},
     "output_type": "execute_result"
    }
   ],
   "source": [
    "#df['fallecidos_mañana'] = df.fallecidos.shift(periods=-1, fill_value=0)\n",
    "df.head()"
   ]
  },
  {
   "cell_type": "code",
   "execution_count": 5,
   "metadata": {},
   "outputs": [],
   "source": [
    "res = pd.DataFrame({'model':[], 'r2':[] , 'mse': []})"
   ]
  },
  {
   "cell_type": "code",
   "execution_count": 6,
   "metadata": {},
   "outputs": [],
   "source": [
    "df = df.loc[df.index >= pd.Timestamp('2020-04-01')]"
   ]
  },
  {
   "cell_type": "code",
   "execution_count": 7,
   "metadata": {},
   "outputs": [
    {
     "data": {
      "text/html": [
       "<div>\n",
       "<style scoped>\n",
       "    .dataframe tbody tr th:only-of-type {\n",
       "        vertical-align: middle;\n",
       "    }\n",
       "\n",
       "    .dataframe tbody tr th {\n",
       "        vertical-align: top;\n",
       "    }\n",
       "\n",
       "    .dataframe thead th {\n",
       "        text-align: right;\n",
       "    }\n",
       "</style>\n",
       "<table border=\"1\" class=\"dataframe\">\n",
       "  <thead>\n",
       "    <tr style=\"text-align: right;\">\n",
       "      <th></th>\n",
       "      <th>fallecidos</th>\n",
       "      <th>mayor_65</th>\n",
       "      <th>internacion</th>\n",
       "      <th>cuidado_intensivo</th>\n",
       "      <th>mayor_65_internacion</th>\n",
       "    </tr>\n",
       "    <tr>\n",
       "      <th>index</th>\n",
       "      <th></th>\n",
       "      <th></th>\n",
       "      <th></th>\n",
       "      <th></th>\n",
       "      <th></th>\n",
       "    </tr>\n",
       "  </thead>\n",
       "  <tbody>\n",
       "    <tr>\n",
       "      <th>2020-09-01</th>\n",
       "      <td>28</td>\n",
       "      <td>177</td>\n",
       "      <td>96</td>\n",
       "      <td>17</td>\n",
       "      <td>53</td>\n",
       "    </tr>\n",
       "    <tr>\n",
       "      <th>2020-09-02</th>\n",
       "      <td>41</td>\n",
       "      <td>159</td>\n",
       "      <td>124</td>\n",
       "      <td>24</td>\n",
       "      <td>47</td>\n",
       "    </tr>\n",
       "    <tr>\n",
       "      <th>2020-09-03</th>\n",
       "      <td>26</td>\n",
       "      <td>157</td>\n",
       "      <td>115</td>\n",
       "      <td>20</td>\n",
       "      <td>48</td>\n",
       "    </tr>\n",
       "    <tr>\n",
       "      <th>2020-09-04</th>\n",
       "      <td>34</td>\n",
       "      <td>160</td>\n",
       "      <td>104</td>\n",
       "      <td>24</td>\n",
       "      <td>49</td>\n",
       "    </tr>\n",
       "    <tr>\n",
       "      <th>2020-09-05</th>\n",
       "      <td>29</td>\n",
       "      <td>144</td>\n",
       "      <td>97</td>\n",
       "      <td>13</td>\n",
       "      <td>40</td>\n",
       "    </tr>\n",
       "    <tr>\n",
       "      <th>2020-09-06</th>\n",
       "      <td>20</td>\n",
       "      <td>107</td>\n",
       "      <td>66</td>\n",
       "      <td>11</td>\n",
       "      <td>32</td>\n",
       "    </tr>\n",
       "    <tr>\n",
       "      <th>2020-09-07</th>\n",
       "      <td>35</td>\n",
       "      <td>208</td>\n",
       "      <td>128</td>\n",
       "      <td>18</td>\n",
       "      <td>57</td>\n",
       "    </tr>\n",
       "    <tr>\n",
       "      <th>2020-09-08</th>\n",
       "      <td>33</td>\n",
       "      <td>169</td>\n",
       "      <td>127</td>\n",
       "      <td>19</td>\n",
       "      <td>42</td>\n",
       "    </tr>\n",
       "    <tr>\n",
       "      <th>2020-09-09</th>\n",
       "      <td>26</td>\n",
       "      <td>175</td>\n",
       "      <td>105</td>\n",
       "      <td>10</td>\n",
       "      <td>50</td>\n",
       "    </tr>\n",
       "    <tr>\n",
       "      <th>2020-09-10</th>\n",
       "      <td>32</td>\n",
       "      <td>192</td>\n",
       "      <td>107</td>\n",
       "      <td>14</td>\n",
       "      <td>44</td>\n",
       "    </tr>\n",
       "    <tr>\n",
       "      <th>2020-09-11</th>\n",
       "      <td>18</td>\n",
       "      <td>138</td>\n",
       "      <td>94</td>\n",
       "      <td>10</td>\n",
       "      <td>40</td>\n",
       "    </tr>\n",
       "    <tr>\n",
       "      <th>2020-09-12</th>\n",
       "      <td>16</td>\n",
       "      <td>94</td>\n",
       "      <td>53</td>\n",
       "      <td>4</td>\n",
       "      <td>20</td>\n",
       "    </tr>\n",
       "    <tr>\n",
       "      <th>2020-09-13</th>\n",
       "      <td>11</td>\n",
       "      <td>108</td>\n",
       "      <td>63</td>\n",
       "      <td>7</td>\n",
       "      <td>22</td>\n",
       "    </tr>\n",
       "    <tr>\n",
       "      <th>2020-09-14</th>\n",
       "      <td>23</td>\n",
       "      <td>151</td>\n",
       "      <td>92</td>\n",
       "      <td>22</td>\n",
       "      <td>38</td>\n",
       "    </tr>\n",
       "  </tbody>\n",
       "</table>\n",
       "</div>"
      ],
      "text/plain": [
       "            fallecidos  mayor_65  internacion  cuidado_intensivo  \\\n",
       "index                                                              \n",
       "2020-09-01          28       177           96                 17   \n",
       "2020-09-02          41       159          124                 24   \n",
       "2020-09-03          26       157          115                 20   \n",
       "2020-09-04          34       160          104                 24   \n",
       "2020-09-05          29       144           97                 13   \n",
       "2020-09-06          20       107           66                 11   \n",
       "2020-09-07          35       208          128                 18   \n",
       "2020-09-08          33       169          127                 19   \n",
       "2020-09-09          26       175          105                 10   \n",
       "2020-09-10          32       192          107                 14   \n",
       "2020-09-11          18       138           94                 10   \n",
       "2020-09-12          16        94           53                  4   \n",
       "2020-09-13          11       108           63                  7   \n",
       "2020-09-14          23       151           92                 22   \n",
       "\n",
       "            mayor_65_internacion  \n",
       "index                             \n",
       "2020-09-01                    53  \n",
       "2020-09-02                    47  \n",
       "2020-09-03                    48  \n",
       "2020-09-04                    49  \n",
       "2020-09-05                    40  \n",
       "2020-09-06                    32  \n",
       "2020-09-07                    57  \n",
       "2020-09-08                    42  \n",
       "2020-09-09                    50  \n",
       "2020-09-10                    44  \n",
       "2020-09-11                    40  \n",
       "2020-09-12                    20  \n",
       "2020-09-13                    22  \n",
       "2020-09-14                    38  "
      ]
     },
     "execution_count": 7,
     "metadata": {},
     "output_type": "execute_result"
    }
   ],
   "source": [
    "df.loc[(df.index >= pd.Timestamp('2020-09-01')) & (df.index < pd.Timestamp('2020-09-15'))]"
   ]
  },
  {
   "cell_type": "code",
   "execution_count": 8,
   "metadata": {},
   "outputs": [],
   "source": [
    "xtrain = df.loc[df.index < pd.Timestamp('2020-09-01')].drop(['fallecidos'], axis = 1)\n",
    "ytrain = df.loc[df.index < pd.Timestamp('2020-09-01'), 'fallecidos']\n",
    "\n",
    "xtest = df.loc[(df.index >= pd.Timestamp('2020-09-01')) & (df.index < pd.Timestamp('2020-09-15'))].drop(['fallecidos'], axis = 1)\n",
    "ytest = df.loc[(df.index >= pd.Timestamp('2020-09-01')) & (df.index < pd.Timestamp('2020-09-15')), 'fallecidos']\n",
    "\n",
    "xval = df.loc[df.index >= pd.Timestamp('2020-09-15')].drop(['fallecidos'], axis = 1)\n",
    "yval = df.loc[df.index >= pd.Timestamp('2020-09-15'), 'fallecidos']"
   ]
  },
  {
   "cell_type": "markdown",
   "metadata": {},
   "source": [
    "## Escalo los datos"
   ]
  },
  {
   "cell_type": "code",
   "execution_count": 9,
   "metadata": {},
   "outputs": [],
   "source": [
    "scaler = StandardScaler()\n",
    "xtrain_scal = scaler.fit_transform(xtrain)\n",
    "xtest_scal = scaler.transform(xtest)"
   ]
  },
  {
   "cell_type": "code",
   "execution_count": 10,
   "metadata": {},
   "outputs": [
    {
     "data": {
      "text/plain": [
       "0.7110094228962718"
      ]
     },
     "execution_count": 10,
     "metadata": {},
     "output_type": "execute_result"
    }
   ],
   "source": [
    "lr = LinearRegression()\n",
    "lr.fit(xtrain_scal, ytrain)\n",
    "r2_score(ytest, lr.predict(xtest_scal))"
   ]
  },
  {
   "cell_type": "code",
   "execution_count": 11,
   "metadata": {},
   "outputs": [],
   "source": [
    "res = res.append({'model':'Linear Reg Scal',\n",
    "            'r2':r2_score(ytest, lr.predict(xtest_scal)),\n",
    "            'mse':mean_squared_error(ytest, lr.predict(xtest_scal))},\n",
    "           ignore_index=True)"
   ]
  },
  {
   "cell_type": "code",
   "execution_count": 12,
   "metadata": {},
   "outputs": [
    {
     "data": {
      "text/plain": [
       "0.6351936330319984"
      ]
     },
     "execution_count": 12,
     "metadata": {},
     "output_type": "execute_result"
    }
   ],
   "source": [
    "svr = SVR()\n",
    "svr.fit(xtrain_scal, ytrain)\n",
    "r2_score(ytest, svr.predict(xtest_scal))"
   ]
  },
  {
   "cell_type": "code",
   "execution_count": 13,
   "metadata": {},
   "outputs": [],
   "source": [
    "res = res.append({'model':'SVR Scal',\n",
    "            'r2':r2_score(ytest, svr.predict(xtest_scal)),\n",
    "            'mse':mean_squared_error(ytest, svr.predict(xtest_scal))},\n",
    "           ignore_index=True)"
   ]
  },
  {
   "cell_type": "code",
   "execution_count": 14,
   "metadata": {},
   "outputs": [
    {
     "data": {
      "text/plain": [
       "0.5489780324737346"
      ]
     },
     "execution_count": 14,
     "metadata": {},
     "output_type": "execute_result"
    }
   ],
   "source": [
    "knr = KNeighborsRegressor()\n",
    "knr.fit(xtrain_scal, ytrain)\n",
    "r2_score(ytest, knr.predict(xtest_scal))"
   ]
  },
  {
   "cell_type": "code",
   "execution_count": 15,
   "metadata": {},
   "outputs": [],
   "source": [
    "res = res.append({'model':'KNR Scal',\n",
    "            'r2':r2_score(ytest, knr.predict(xtest_scal)),\n",
    "            'mse':mean_squared_error(ytest, knr.predict(xtest_scal))},\n",
    "           ignore_index=True)"
   ]
  },
  {
   "cell_type": "markdown",
   "metadata": {},
   "source": [
    "## Agrego polinomios"
   ]
  },
  {
   "cell_type": "code",
   "execution_count": 16,
   "metadata": {},
   "outputs": [],
   "source": [
    "poly = PolynomialFeatures(2)\n",
    "xtrain_poly = poly.fit_transform(xtrain_scal)\n",
    "xtest_poly = poly.transform(xtest_scal)"
   ]
  },
  {
   "cell_type": "code",
   "execution_count": 17,
   "metadata": {},
   "outputs": [
    {
     "data": {
      "text/plain": [
       "0.696850379542169"
      ]
     },
     "execution_count": 17,
     "metadata": {},
     "output_type": "execute_result"
    }
   ],
   "source": [
    "lr = LinearRegression()\n",
    "lr.fit(xtrain_poly, ytrain)\n",
    "r2_score(ytest, lr.predict(xtest_poly))"
   ]
  },
  {
   "cell_type": "code",
   "execution_count": 18,
   "metadata": {},
   "outputs": [],
   "source": [
    "res = res.append({'model':'Linear Reg Poly',\n",
    "            'r2':r2_score(ytest, lr.predict(xtest_poly)),\n",
    "            'mse':mean_squared_error(ytest, lr.predict(xtest_poly))},\n",
    "           ignore_index=True)"
   ]
  },
  {
   "cell_type": "code",
   "execution_count": 19,
   "metadata": {},
   "outputs": [
    {
     "data": {
      "text/plain": [
       "0.5321657701786032"
      ]
     },
     "execution_count": 19,
     "metadata": {},
     "output_type": "execute_result"
    }
   ],
   "source": [
    "svr = SVR()\n",
    "svr.fit(xtrain_poly, ytrain)\n",
    "r2_score(ytest, svr.predict(xtest_poly))"
   ]
  },
  {
   "cell_type": "code",
   "execution_count": 20,
   "metadata": {},
   "outputs": [],
   "source": [
    "res = res.append({'model':'SVR Poly',\n",
    "            'r2':r2_score(ytest, svr.predict(xtest_poly)),\n",
    "            'mse':mean_squared_error(ytest, svr.predict(xtest_poly))},\n",
    "           ignore_index=True)"
   ]
  },
  {
   "cell_type": "code",
   "execution_count": 21,
   "metadata": {},
   "outputs": [
    {
     "data": {
      "text/plain": [
       "0.5275835721107928"
      ]
     },
     "execution_count": 21,
     "metadata": {},
     "output_type": "execute_result"
    }
   ],
   "source": [
    "knr = KNeighborsRegressor()\n",
    "knr.fit(xtrain_poly, ytrain)\n",
    "r2_score(ytest, knr.predict(xtest_poly))"
   ]
  },
  {
   "cell_type": "code",
   "execution_count": 22,
   "metadata": {},
   "outputs": [],
   "source": [
    "res = res.append({'model':'KNR Poly',\n",
    "            'r2':r2_score(ytest, knr.predict(xtest_poly)),\n",
    "            'mse':mean_squared_error(ytest, knr.predict(xtest_poly))},\n",
    "           ignore_index=True)"
   ]
  },
  {
   "cell_type": "code",
   "execution_count": 23,
   "metadata": {},
   "outputs": [
    {
     "data": {
      "text/html": [
       "<div>\n",
       "<style scoped>\n",
       "    .dataframe tbody tr th:only-of-type {\n",
       "        vertical-align: middle;\n",
       "    }\n",
       "\n",
       "    .dataframe tbody tr th {\n",
       "        vertical-align: top;\n",
       "    }\n",
       "\n",
       "    .dataframe thead th {\n",
       "        text-align: right;\n",
       "    }\n",
       "</style>\n",
       "<table border=\"1\" class=\"dataframe\">\n",
       "  <thead>\n",
       "    <tr style=\"text-align: right;\">\n",
       "      <th></th>\n",
       "      <th>model</th>\n",
       "      <th>r2</th>\n",
       "      <th>mse</th>\n",
       "    </tr>\n",
       "  </thead>\n",
       "  <tbody>\n",
       "    <tr>\n",
       "      <th>0</th>\n",
       "      <td>Linear Reg Scal</td>\n",
       "      <td>0.711009</td>\n",
       "      <td>18.524886</td>\n",
       "    </tr>\n",
       "    <tr>\n",
       "      <th>3</th>\n",
       "      <td>Linear Reg Poly</td>\n",
       "      <td>0.696850</td>\n",
       "      <td>19.432509</td>\n",
       "    </tr>\n",
       "    <tr>\n",
       "      <th>1</th>\n",
       "      <td>SVR Scal</td>\n",
       "      <td>0.635194</td>\n",
       "      <td>23.384833</td>\n",
       "    </tr>\n",
       "    <tr>\n",
       "      <th>2</th>\n",
       "      <td>KNR Scal</td>\n",
       "      <td>0.548978</td>\n",
       "      <td>28.911429</td>\n",
       "    </tr>\n",
       "    <tr>\n",
       "      <th>4</th>\n",
       "      <td>SVR Poly</td>\n",
       "      <td>0.532166</td>\n",
       "      <td>29.989129</td>\n",
       "    </tr>\n",
       "    <tr>\n",
       "      <th>5</th>\n",
       "      <td>KNR Poly</td>\n",
       "      <td>0.527584</td>\n",
       "      <td>30.282857</td>\n",
       "    </tr>\n",
       "  </tbody>\n",
       "</table>\n",
       "</div>"
      ],
      "text/plain": [
       "             model        r2        mse\n",
       "0  Linear Reg Scal  0.711009  18.524886\n",
       "3  Linear Reg Poly  0.696850  19.432509\n",
       "1         SVR Scal  0.635194  23.384833\n",
       "2         KNR Scal  0.548978  28.911429\n",
       "4         SVR Poly  0.532166  29.989129\n",
       "5         KNR Poly  0.527584  30.282857"
      ]
     },
     "execution_count": 23,
     "metadata": {},
     "output_type": "execute_result"
    }
   ],
   "source": [
    "res.sort_values('r2', ascending=False)"
   ]
  },
  {
   "cell_type": "markdown",
   "metadata": {},
   "source": [
    "# Analiso con el dataset promediado"
   ]
  },
  {
   "cell_type": "code",
   "execution_count": 24,
   "metadata": {},
   "outputs": [],
   "source": [
    "df_ma = df.rolling(3).mean()\n",
    "df_ma = df_ma.fillna(0)"
   ]
  },
  {
   "cell_type": "code",
   "execution_count": 25,
   "metadata": {},
   "outputs": [],
   "source": [
    "xtrain = df_ma.loc[df_ma.index < pd.Timestamp('2020-09-01')].drop(['fallecidos'], axis = 1)\n",
    "ytrain = df_ma.loc[df_ma.index < pd.Timestamp('2020-09-01'), 'fallecidos']\n",
    "\n",
    "xtest = df_ma.loc[(df_ma.index >= pd.Timestamp('2020-09-01')) & (df_ma.index < pd.Timestamp('2020-09-15'))].drop(['fallecidos'], axis = 1)\n",
    "ytest = df_ma.loc[(df_ma.index >= pd.Timestamp('2020-09-01')) & (df_ma.index < pd.Timestamp('2020-09-15')), 'fallecidos']\n",
    "\n",
    "xval = df_ma.loc[df_ma.index >= pd.Timestamp('2020-09-15')].drop(['fallecidos'], axis = 1)\n",
    "yval = df_ma.loc[df_ma.index >= pd.Timestamp('2020-09-15'), 'fallecidos']"
   ]
  },
  {
   "cell_type": "code",
   "execution_count": 26,
   "metadata": {},
   "outputs": [],
   "source": [
    "scaler = StandardScaler()\n",
    "xtrain_scal = scaler.fit_transform(xtrain)\n",
    "xtest_scal = scaler.transform(xtest)"
   ]
  },
  {
   "cell_type": "code",
   "execution_count": 27,
   "metadata": {},
   "outputs": [
    {
     "data": {
      "text/plain": [
       "0.8544080330021755"
      ]
     },
     "execution_count": 27,
     "metadata": {},
     "output_type": "execute_result"
    }
   ],
   "source": [
    "lr = LinearRegression()\n",
    "lr.fit(xtrain_scal, ytrain)\n",
    "r2_score(ytest, lr.predict(xtest_scal))"
   ]
  },
  {
   "cell_type": "code",
   "execution_count": 28,
   "metadata": {},
   "outputs": [],
   "source": [
    "res = res.append({'model':'Linear Reg Scal (Prom)',\n",
    "            'r2':r2_score(ytest, lr.predict(xtest_scal)),\n",
    "            'mse':mean_squared_error(ytest, lr.predict(xtest_scal))},\n",
    "           ignore_index=True)"
   ]
  },
  {
   "cell_type": "code",
   "execution_count": 29,
   "metadata": {},
   "outputs": [
    {
     "data": {
      "text/plain": [
       "0.707463732120601"
      ]
     },
     "execution_count": 29,
     "metadata": {},
     "output_type": "execute_result"
    }
   ],
   "source": [
    "svr = SVR()\n",
    "svr.fit(xtrain_scal, ytrain)\n",
    "r2_score(ytest, svr.predict(xtest_scal))"
   ]
  },
  {
   "cell_type": "code",
   "execution_count": 30,
   "metadata": {},
   "outputs": [],
   "source": [
    "res = res.append({'model':'SVR Scal (Prom)',\n",
    "            'r2':r2_score(ytest, svr.predict(xtest_scal)),\n",
    "            'mse':mean_squared_error(ytest, svr.predict(xtest_scal))},\n",
    "           ignore_index=True)"
   ]
  },
  {
   "cell_type": "code",
   "execution_count": 31,
   "metadata": {},
   "outputs": [
    {
     "data": {
      "text/plain": [
       "0.269954775935316"
      ]
     },
     "execution_count": 31,
     "metadata": {},
     "output_type": "execute_result"
    }
   ],
   "source": [
    "knr = KNeighborsRegressor()\n",
    "knr.fit(xtrain_scal, ytrain)\n",
    "r2_score(ytest, knr.predict(xtest_scal))"
   ]
  },
  {
   "cell_type": "code",
   "execution_count": 32,
   "metadata": {},
   "outputs": [],
   "source": [
    "res = res.append({'model':'KNR Scal (Prom)',\n",
    "            'r2':r2_score(ytest, knr.predict(xtest_scal)),\n",
    "            'mse':mean_squared_error(ytest, knr.predict(xtest_scal))},\n",
    "           ignore_index=True)"
   ]
  },
  {
   "cell_type": "markdown",
   "metadata": {},
   "source": [
    "## Agrego polinomios"
   ]
  },
  {
   "cell_type": "code",
   "execution_count": 33,
   "metadata": {},
   "outputs": [],
   "source": [
    "poly = PolynomialFeatures(2)\n",
    "xtrain_poly = poly.fit_transform(xtrain_scal)\n",
    "xtest_poly = poly.transform(xtest_scal)"
   ]
  },
  {
   "cell_type": "code",
   "execution_count": 34,
   "metadata": {},
   "outputs": [
    {
     "data": {
      "text/plain": [
       "0.3071775409585912"
      ]
     },
     "execution_count": 34,
     "metadata": {},
     "output_type": "execute_result"
    }
   ],
   "source": [
    "lr = LinearRegression()\n",
    "lr.fit(xtrain_poly, ytrain)\n",
    "r2_score(ytest, lr.predict(xtest_poly))"
   ]
  },
  {
   "cell_type": "code",
   "execution_count": 35,
   "metadata": {},
   "outputs": [],
   "source": [
    "res = res.append({'model':'Linear Reg Poly (Prom)',\n",
    "            'r2':r2_score(ytest, lr.predict(xtest_poly)),\n",
    "            'mse':mean_squared_error(ytest, lr.predict(xtest_poly))},\n",
    "           ignore_index=True)"
   ]
  },
  {
   "cell_type": "code",
   "execution_count": 36,
   "metadata": {},
   "outputs": [
    {
     "data": {
      "text/plain": [
       "0.5478813401346592"
      ]
     },
     "execution_count": 36,
     "metadata": {},
     "output_type": "execute_result"
    }
   ],
   "source": [
    "svr = SVR()\n",
    "svr.fit(xtrain_poly, ytrain)\n",
    "r2_score(ytest, svr.predict(xtest_poly))"
   ]
  },
  {
   "cell_type": "code",
   "execution_count": 37,
   "metadata": {},
   "outputs": [],
   "source": [
    "res = res.append({'model':'SVR Poly (Prom)',\n",
    "            'r2':r2_score(ytest, svr.predict(xtest_poly)),\n",
    "            'mse':mean_squared_error(ytest, svr.predict(xtest_poly))},\n",
    "           ignore_index=True)"
   ]
  },
  {
   "cell_type": "code",
   "execution_count": 38,
   "metadata": {},
   "outputs": [
    {
     "data": {
      "text/plain": [
       "0.42767301630807186"
      ]
     },
     "execution_count": 38,
     "metadata": {},
     "output_type": "execute_result"
    }
   ],
   "source": [
    "knr = KNeighborsRegressor()\n",
    "knr.fit(xtrain_poly, ytrain)\n",
    "r2_score(ytest, knr.predict(xtest_poly))"
   ]
  },
  {
   "cell_type": "code",
   "execution_count": 39,
   "metadata": {},
   "outputs": [],
   "source": [
    "res = res.append({'model':'KNR Poly (Prom)',\n",
    "            'r2':r2_score(ytest, knr.predict(xtest_poly)),\n",
    "            'mse':mean_squared_error(ytest, knr.predict(xtest_poly))},\n",
    "           ignore_index=True)"
   ]
  },
  {
   "cell_type": "code",
   "execution_count": 40,
   "metadata": {},
   "outputs": [
    {
     "data": {
      "text/html": [
       "<div>\n",
       "<style scoped>\n",
       "    .dataframe tbody tr th:only-of-type {\n",
       "        vertical-align: middle;\n",
       "    }\n",
       "\n",
       "    .dataframe tbody tr th {\n",
       "        vertical-align: top;\n",
       "    }\n",
       "\n",
       "    .dataframe thead th {\n",
       "        text-align: right;\n",
       "    }\n",
       "</style>\n",
       "<table border=\"1\" class=\"dataframe\">\n",
       "  <thead>\n",
       "    <tr style=\"text-align: right;\">\n",
       "      <th></th>\n",
       "      <th>model</th>\n",
       "      <th>r2</th>\n",
       "      <th>mse</th>\n",
       "    </tr>\n",
       "  </thead>\n",
       "  <tbody>\n",
       "    <tr>\n",
       "      <th>6</th>\n",
       "      <td>Linear Reg Scal (Prom)</td>\n",
       "      <td>0.854408</td>\n",
       "      <td>4.818071</td>\n",
       "    </tr>\n",
       "    <tr>\n",
       "      <th>0</th>\n",
       "      <td>Linear Reg Scal</td>\n",
       "      <td>0.711009</td>\n",
       "      <td>18.524886</td>\n",
       "    </tr>\n",
       "    <tr>\n",
       "      <th>7</th>\n",
       "      <td>SVR Scal (Prom)</td>\n",
       "      <td>0.707464</td>\n",
       "      <td>9.680894</td>\n",
       "    </tr>\n",
       "    <tr>\n",
       "      <th>3</th>\n",
       "      <td>Linear Reg Poly</td>\n",
       "      <td>0.696850</td>\n",
       "      <td>19.432509</td>\n",
       "    </tr>\n",
       "    <tr>\n",
       "      <th>1</th>\n",
       "      <td>SVR Scal</td>\n",
       "      <td>0.635194</td>\n",
       "      <td>23.384833</td>\n",
       "    </tr>\n",
       "    <tr>\n",
       "      <th>2</th>\n",
       "      <td>KNR Scal</td>\n",
       "      <td>0.548978</td>\n",
       "      <td>28.911429</td>\n",
       "    </tr>\n",
       "    <tr>\n",
       "      <th>10</th>\n",
       "      <td>SVR Poly (Prom)</td>\n",
       "      <td>0.547881</td>\n",
       "      <td>14.961949</td>\n",
       "    </tr>\n",
       "    <tr>\n",
       "      <th>4</th>\n",
       "      <td>SVR Poly</td>\n",
       "      <td>0.532166</td>\n",
       "      <td>29.989129</td>\n",
       "    </tr>\n",
       "    <tr>\n",
       "      <th>5</th>\n",
       "      <td>KNR Poly</td>\n",
       "      <td>0.527584</td>\n",
       "      <td>30.282857</td>\n",
       "    </tr>\n",
       "    <tr>\n",
       "      <th>11</th>\n",
       "      <td>KNR Poly (Prom)</td>\n",
       "      <td>0.427673</td>\n",
       "      <td>18.940000</td>\n",
       "    </tr>\n",
       "    <tr>\n",
       "      <th>9</th>\n",
       "      <td>Linear Reg Poly (Prom)</td>\n",
       "      <td>0.307178</td>\n",
       "      <td>22.927553</td>\n",
       "    </tr>\n",
       "    <tr>\n",
       "      <th>8</th>\n",
       "      <td>KNR Scal (Prom)</td>\n",
       "      <td>0.269955</td>\n",
       "      <td>24.159365</td>\n",
       "    </tr>\n",
       "  </tbody>\n",
       "</table>\n",
       "</div>"
      ],
      "text/plain": [
       "                     model        r2        mse\n",
       "6   Linear Reg Scal (Prom)  0.854408   4.818071\n",
       "0          Linear Reg Scal  0.711009  18.524886\n",
       "7          SVR Scal (Prom)  0.707464   9.680894\n",
       "3          Linear Reg Poly  0.696850  19.432509\n",
       "1                 SVR Scal  0.635194  23.384833\n",
       "2                 KNR Scal  0.548978  28.911429\n",
       "10         SVR Poly (Prom)  0.547881  14.961949\n",
       "4                 SVR Poly  0.532166  29.989129\n",
       "5                 KNR Poly  0.527584  30.282857\n",
       "11         KNR Poly (Prom)  0.427673  18.940000\n",
       "9   Linear Reg Poly (Prom)  0.307178  22.927553\n",
       "8          KNR Scal (Prom)  0.269955  24.159365"
      ]
     },
     "execution_count": 40,
     "metadata": {},
     "output_type": "execute_result"
    }
   ],
   "source": [
    "res.sort_values('r2', ascending=False)"
   ]
  },
  {
   "cell_type": "markdown",
   "metadata": {},
   "source": [
    "# Pruebo usando solo las ultimas N semanas para entrenar"
   ]
  },
  {
   "cell_type": "code",
   "execution_count": 41,
   "metadata": {},
   "outputs": [],
   "source": [
    "xtrain = df.loc[df.index < pd.Timestamp('2020-09-01')].drop(['fallecidos'], axis = 1)\n",
    "ytrain = df.loc[df.index < pd.Timestamp('2020-09-01'), 'fallecidos']\n",
    "\n",
    "xtest = df.loc[(df.index >= pd.Timestamp('2020-09-01')) & (df.index < pd.Timestamp('2020-09-15'))].drop(['fallecidos'], axis = 1)\n",
    "ytest = df.loc[(df.index >= pd.Timestamp('2020-09-01')) & (df.index < pd.Timestamp('2020-09-15')), 'fallecidos']\n",
    "\n",
    "xval = df.loc[df.index >= pd.Timestamp('2020-09-15')].drop(['fallecidos'], axis = 1)\n",
    "yval = df.loc[df.index >= pd.Timestamp('2020-09-15'), 'fallecidos']"
   ]
  },
  {
   "cell_type": "code",
   "execution_count": 42,
   "metadata": {},
   "outputs": [
    {
     "data": {
      "text/plain": [
       "183"
      ]
     },
     "execution_count": 42,
     "metadata": {},
     "output_type": "execute_result"
    }
   ],
   "source": [
    "df.shape[0]"
   ]
  },
  {
   "cell_type": "code",
   "execution_count": 43,
   "metadata": {},
   "outputs": [],
   "source": [
    "df = df.reset_index()\n",
    "df.drop('index', axis=1, inplace=True)"
   ]
  },
  {
   "cell_type": "code",
   "execution_count": 44,
   "metadata": {},
   "outputs": [],
   "source": [
    "def get_r2(xtrain, xtest, ytrain, ytest, m = KNeighborsRegressor()):\n",
    "    \n",
    "    m.fit(xtrain, ytrain)\n",
    "    \n",
    "    return r2_score(ytest, m.predict(xtest)), mean_squared_error(ytest, m.predict(xtest))"
   ]
  },
  {
   "cell_type": "code",
   "execution_count": 45,
   "metadata": {},
   "outputs": [],
   "source": [
    "def get_scal(xtrain, xtest):\n",
    "    scaler = StandardScaler()\n",
    "    \n",
    "    xtrain = scaler.fit_transform(xtrain)\n",
    "    xtest = scaler.transform(xtest)\n",
    "    \n",
    "    return xtrain, xtest"
   ]
  },
  {
   "cell_type": "code",
   "execution_count": 46,
   "metadata": {},
   "outputs": [],
   "source": [
    "def get_poly(xtrain, xtest, n=2):\n",
    "    poly = PolynomialFeatures(n)\n",
    "    \n",
    "    xtrain = poly.fit_transform(xtrain)\n",
    "    xtest = poly.transform(xtest)\n",
    "    \n",
    "    return xtrain, xtest"
   ]
  },
  {
   "cell_type": "code",
   "execution_count": 47,
   "metadata": {},
   "outputs": [],
   "source": [
    "res_weeks = pd.DataFrame({'model':[], 'n_weeks':[], 'shift':[], 'r2':[], 'mse':[]})"
   ]
  },
  {
   "cell_type": "code",
   "execution_count": 48,
   "metadata": {},
   "outputs": [],
   "source": [
    "n_weeks = 4\n",
    "start = 0\n",
    "middle = 7 * n_weeks - 1\n",
    "end = 7 * n_weeks + 7 - 1"
   ]
  },
  {
   "cell_type": "code",
   "execution_count": 49,
   "metadata": {
    "scrolled": false
   },
   "outputs": [
    {
     "data": {
      "text/html": [
       "<div>\n",
       "<style scoped>\n",
       "    .dataframe tbody tr th:only-of-type {\n",
       "        vertical-align: middle;\n",
       "    }\n",
       "\n",
       "    .dataframe tbody tr th {\n",
       "        vertical-align: top;\n",
       "    }\n",
       "\n",
       "    .dataframe thead th {\n",
       "        text-align: right;\n",
       "    }\n",
       "</style>\n",
       "<table border=\"1\" class=\"dataframe\">\n",
       "  <thead>\n",
       "    <tr style=\"text-align: right;\">\n",
       "      <th></th>\n",
       "      <th>model</th>\n",
       "      <th>n_weeks</th>\n",
       "      <th>shift</th>\n",
       "      <th>r2</th>\n",
       "      <th>mse</th>\n",
       "    </tr>\n",
       "  </thead>\n",
       "  <tbody>\n",
       "    <tr>\n",
       "      <th>0</th>\n",
       "      <td>LR</td>\n",
       "      <td>4.0</td>\n",
       "      <td>0.0</td>\n",
       "      <td>-0.058577</td>\n",
       "      <td>21.677894</td>\n",
       "    </tr>\n",
       "    <tr>\n",
       "      <th>1</th>\n",
       "      <td>KNR</td>\n",
       "      <td>4.0</td>\n",
       "      <td>0.0</td>\n",
       "      <td>-0.333691</td>\n",
       "      <td>28.056952</td>\n",
       "    </tr>\n",
       "    <tr>\n",
       "      <th>2</th>\n",
       "      <td>SVR</td>\n",
       "      <td>4.0</td>\n",
       "      <td>0.0</td>\n",
       "      <td>-0.985896</td>\n",
       "      <td>41.003349</td>\n",
       "    </tr>\n",
       "  </tbody>\n",
       "</table>\n",
       "</div>"
      ],
      "text/plain": [
       "  model  n_weeks  shift        r2        mse\n",
       "0    LR      4.0    0.0 -0.058577  21.677894\n",
       "1   KNR      4.0    0.0 -0.333691  28.056952\n",
       "2   SVR      4.0    0.0 -0.985896  41.003349"
      ]
     },
     "execution_count": 49,
     "metadata": {},
     "output_type": "execute_result"
    }
   ],
   "source": [
    "r2 = np.array([])\n",
    "mse = np.array([])\n",
    "models = {'LR': LinearRegression(n_jobs=5), 'KNR': KNeighborsRegressor(n_jobs=5), 'SVR': SVR()}\n",
    "\n",
    "for name, m in models.items():  # Para cada modelo en la lista de modelos correr lo siguiente\n",
    "    \n",
    "    for delta in range(0, df.shape[0] - n_weeks * 7, 1):\n",
    "        # Armo una ventana de n_weeks de ancho que uso para entrenar los modelos\n",
    "        # Esa ventana se va corriendo de a un dia a la vez\n",
    "        \n",
    "        xtrain = df.loc[delta:middle + delta].drop(['fallecidos'], axis = 1)\n",
    "        ytrain = df.loc[delta:middle + delta, 'fallecidos']\n",
    "\n",
    "        xtest = df.loc[middle + delta:end + delta].drop(['fallecidos'], axis = 1)\n",
    "        ytest = df.loc[middle + delta:end + delta, 'fallecidos']\n",
    "\n",
    "        aux_r2, aux_mse = get_r2(xtrain, xtest, ytrain, ytest, m)\n",
    "        \n",
    "        # Una vez que entrene el modelo con esas entradas y calcule sus metricas las guardo en un array\n",
    "        r2 = np.append(r2, aux_r2)\n",
    "        mse = np.append(mse, aux_mse)\n",
    "    \n",
    "    # Evaluo que tan bien hizo cada modelo a lo largo de las semanas calculando la media de las metricas obtenidas\n",
    "    res_weeks = res_weeks.append({'model':name, 'r2':r2.mean(), 'shift':0, 'mse': mse.mean(), 'n_weeks': n_weeks}, ignore_index=True)\n",
    "\n",
    "res_weeks.sort_values('r2', ascending=False)"
   ]
  },
  {
   "cell_type": "code",
   "execution_count": 50,
   "metadata": {},
   "outputs": [
    {
     "data": {
      "text/html": [
       "<div>\n",
       "<style scoped>\n",
       "    .dataframe tbody tr th:only-of-type {\n",
       "        vertical-align: middle;\n",
       "    }\n",
       "\n",
       "    .dataframe tbody tr th {\n",
       "        vertical-align: top;\n",
       "    }\n",
       "\n",
       "    .dataframe thead th {\n",
       "        text-align: right;\n",
       "    }\n",
       "</style>\n",
       "<table border=\"1\" class=\"dataframe\">\n",
       "  <thead>\n",
       "    <tr style=\"text-align: right;\">\n",
       "      <th></th>\n",
       "      <th>model</th>\n",
       "      <th>n_weeks</th>\n",
       "      <th>shift</th>\n",
       "      <th>r2</th>\n",
       "      <th>mse</th>\n",
       "    </tr>\n",
       "  </thead>\n",
       "  <tbody>\n",
       "    <tr>\n",
       "      <th>3</th>\n",
       "      <td>LR Scal</td>\n",
       "      <td>4.0</td>\n",
       "      <td>0.0</td>\n",
       "      <td>-0.058577</td>\n",
       "      <td>21.677894</td>\n",
       "    </tr>\n",
       "    <tr>\n",
       "      <th>0</th>\n",
       "      <td>LR</td>\n",
       "      <td>4.0</td>\n",
       "      <td>0.0</td>\n",
       "      <td>-0.058577</td>\n",
       "      <td>21.677894</td>\n",
       "    </tr>\n",
       "    <tr>\n",
       "      <th>1</th>\n",
       "      <td>KNR</td>\n",
       "      <td>4.0</td>\n",
       "      <td>0.0</td>\n",
       "      <td>-0.333691</td>\n",
       "      <td>28.056952</td>\n",
       "    </tr>\n",
       "    <tr>\n",
       "      <th>4</th>\n",
       "      <td>KNR Scal</td>\n",
       "      <td>4.0</td>\n",
       "      <td>0.0</td>\n",
       "      <td>-0.335873</td>\n",
       "      <td>27.197271</td>\n",
       "    </tr>\n",
       "    <tr>\n",
       "      <th>2</th>\n",
       "      <td>SVR</td>\n",
       "      <td>4.0</td>\n",
       "      <td>0.0</td>\n",
       "      <td>-0.985896</td>\n",
       "      <td>41.003349</td>\n",
       "    </tr>\n",
       "    <tr>\n",
       "      <th>5</th>\n",
       "      <td>SVR Scal</td>\n",
       "      <td>4.0</td>\n",
       "      <td>0.0</td>\n",
       "      <td>-0.998429</td>\n",
       "      <td>42.612983</td>\n",
       "    </tr>\n",
       "  </tbody>\n",
       "</table>\n",
       "</div>"
      ],
      "text/plain": [
       "      model  n_weeks  shift        r2        mse\n",
       "3   LR Scal      4.0    0.0 -0.058577  21.677894\n",
       "0        LR      4.0    0.0 -0.058577  21.677894\n",
       "1       KNR      4.0    0.0 -0.333691  28.056952\n",
       "4  KNR Scal      4.0    0.0 -0.335873  27.197271\n",
       "2       SVR      4.0    0.0 -0.985896  41.003349\n",
       "5  SVR Scal      4.0    0.0 -0.998429  42.612983"
      ]
     },
     "execution_count": 50,
     "metadata": {},
     "output_type": "execute_result"
    }
   ],
   "source": [
    "r2 = np.array([])\n",
    "mse = np.array([])\n",
    "\n",
    "for name, m in models.items():\n",
    "    \n",
    "    for delta in range(0, df.shape[0] - n_weeks * 7, 1):\n",
    "        \n",
    "        xtrain = df.loc[delta:middle + delta].drop(['fallecidos'], axis = 1)\n",
    "        ytrain = df.loc[delta:middle + delta, 'fallecidos']\n",
    "\n",
    "        xtest = df.loc[middle + delta:end + delta].drop(['fallecidos'], axis = 1)\n",
    "        ytest = df.loc[middle + delta:end + delta, 'fallecidos']\n",
    "\n",
    "        xtrain_scal, xtest_scal = get_scal(xtrain, xtest)\n",
    "\n",
    "        aux_r2, aux_mse = get_r2(xtrain_scal, xtest_scal, ytrain, ytest, m)\n",
    "\n",
    "        r2 = np.append(r2, aux_r2)\n",
    "        mse = np.append(mse, aux_mse)\n",
    "\n",
    "\n",
    "    res_weeks = res_weeks.append({'model':f\"{name} Scal\",'r2':r2.mean(), 'shift':0, 'mse':mse.mean(),'n_weeks':n_weeks}, ignore_index=True)\n",
    "\n",
    "res_weeks.sort_values('r2', ascending=False)"
   ]
  },
  {
   "cell_type": "markdown",
   "metadata": {},
   "source": [
    "## Pruebo usando solo fallecidos desplazada"
   ]
  },
  {
   "cell_type": "code",
   "execution_count": 116,
   "metadata": {},
   "outputs": [
    {
     "data": {
      "text/html": [
       "<div>\n",
       "<style scoped>\n",
       "    .dataframe tbody tr th:only-of-type {\n",
       "        vertical-align: middle;\n",
       "    }\n",
       "\n",
       "    .dataframe tbody tr th {\n",
       "        vertical-align: top;\n",
       "    }\n",
       "\n",
       "    .dataframe thead th {\n",
       "        text-align: right;\n",
       "    }\n",
       "</style>\n",
       "<table border=\"1\" class=\"dataframe\">\n",
       "  <thead>\n",
       "    <tr style=\"text-align: right;\">\n",
       "      <th></th>\n",
       "      <th>fallecidos</th>\n",
       "      <th>shift</th>\n",
       "    </tr>\n",
       "  </thead>\n",
       "  <tbody>\n",
       "    <tr>\n",
       "      <th>173</th>\n",
       "      <td>13</td>\n",
       "      <td>10</td>\n",
       "    </tr>\n",
       "    <tr>\n",
       "      <th>174</th>\n",
       "      <td>11</td>\n",
       "      <td>13</td>\n",
       "    </tr>\n",
       "    <tr>\n",
       "      <th>175</th>\n",
       "      <td>16</td>\n",
       "      <td>11</td>\n",
       "    </tr>\n",
       "    <tr>\n",
       "      <th>176</th>\n",
       "      <td>11</td>\n",
       "      <td>16</td>\n",
       "    </tr>\n",
       "    <tr>\n",
       "      <th>177</th>\n",
       "      <td>15</td>\n",
       "      <td>11</td>\n",
       "    </tr>\n",
       "    <tr>\n",
       "      <th>178</th>\n",
       "      <td>10</td>\n",
       "      <td>15</td>\n",
       "    </tr>\n",
       "    <tr>\n",
       "      <th>179</th>\n",
       "      <td>7</td>\n",
       "      <td>10</td>\n",
       "    </tr>\n",
       "    <tr>\n",
       "      <th>180</th>\n",
       "      <td>9</td>\n",
       "      <td>7</td>\n",
       "    </tr>\n",
       "    <tr>\n",
       "      <th>181</th>\n",
       "      <td>7</td>\n",
       "      <td>9</td>\n",
       "    </tr>\n",
       "    <tr>\n",
       "      <th>182</th>\n",
       "      <td>11</td>\n",
       "      <td>7</td>\n",
       "    </tr>\n",
       "  </tbody>\n",
       "</table>\n",
       "</div>"
      ],
      "text/plain": [
       "     fallecidos  shift\n",
       "173          13     10\n",
       "174          11     13\n",
       "175          16     11\n",
       "176          11     16\n",
       "177          15     11\n",
       "178          10     15\n",
       "179           7     10\n",
       "180           9      7\n",
       "181           7      9\n",
       "182          11      7"
      ]
     },
     "execution_count": 116,
     "metadata": {},
     "output_type": "execute_result"
    }
   ],
   "source": [
    "df_falle = df.copy()\n",
    "df_falle['shift'] = df.fallecidos.shift(1, fill_value=0)\n",
    "df_falle = df_falle[['fallecidos', 'shift']]\n",
    "df_falle.tail(10)"
   ]
  },
  {
   "cell_type": "code",
   "execution_count": 206,
   "metadata": {},
   "outputs": [],
   "source": [
    "df_aux = df.reset_index()\n",
    "df_aux.drop('index', axis=1, inplace=True)"
   ]
  },
  {
   "cell_type": "code",
   "execution_count": 226,
   "metadata": {},
   "outputs": [
    {
     "data": {
      "text/plain": [
       "['mayor_65', 'internacion', 'cuidado_intensivo', 'mayor_65_internacion']"
      ]
     },
     "execution_count": 226,
     "metadata": {},
     "output_type": "execute_result"
    }
   ],
   "source": [
    "cols"
   ]
  },
  {
   "cell_type": "code",
   "execution_count": 189,
   "metadata": {},
   "outputs": [],
   "source": [
    "cols_to_shift = cols\n",
    "cols_to_shift.remove('fallecidos')"
   ]
  },
  {
   "cell_type": "code",
   "execution_count": 242,
   "metadata": {},
   "outputs": [],
   "source": [
    "res_falle = pd.DataFrame({'model':[], 'n_weeks':[], 'shift':[], 'r2':[], 'mse':[]})"
   ]
  },
  {
   "cell_type": "code",
   "execution_count": 245,
   "metadata": {},
   "outputs": [],
   "source": [
    "n_weeks = 6\n",
    "start = 0\n",
    "middle = 7 * n_weeks - 1\n",
    "end = 7 * n_weeks + 7 - 1"
   ]
  },
  {
   "cell_type": "code",
   "execution_count": 246,
   "metadata": {},
   "outputs": [
    {
     "data": {
      "text/html": [
       "<div>\n",
       "<style scoped>\n",
       "    .dataframe tbody tr th:only-of-type {\n",
       "        vertical-align: middle;\n",
       "    }\n",
       "\n",
       "    .dataframe tbody tr th {\n",
       "        vertical-align: top;\n",
       "    }\n",
       "\n",
       "    .dataframe thead th {\n",
       "        text-align: right;\n",
       "    }\n",
       "</style>\n",
       "<table border=\"1\" class=\"dataframe\">\n",
       "  <thead>\n",
       "    <tr style=\"text-align: right;\">\n",
       "      <th></th>\n",
       "      <th>model</th>\n",
       "      <th>n_weeks</th>\n",
       "      <th>shift</th>\n",
       "      <th>r2</th>\n",
       "      <th>mse</th>\n",
       "    </tr>\n",
       "  </thead>\n",
       "  <tbody>\n",
       "    <tr>\n",
       "      <th>2</th>\n",
       "      <td>LR Falle</td>\n",
       "      <td>5.0</td>\n",
       "      <td>3.0</td>\n",
       "      <td>0.039350</td>\n",
       "      <td>18.446028</td>\n",
       "    </tr>\n",
       "    <tr>\n",
       "      <th>3</th>\n",
       "      <td>LR Falle</td>\n",
       "      <td>5.0</td>\n",
       "      <td>4.0</td>\n",
       "      <td>0.032211</td>\n",
       "      <td>18.373685</td>\n",
       "    </tr>\n",
       "    <tr>\n",
       "      <th>5</th>\n",
       "      <td>LR Falle</td>\n",
       "      <td>5.0</td>\n",
       "      <td>6.0</td>\n",
       "      <td>0.029976</td>\n",
       "      <td>18.454501</td>\n",
       "    </tr>\n",
       "    <tr>\n",
       "      <th>4</th>\n",
       "      <td>LR Falle</td>\n",
       "      <td>5.0</td>\n",
       "      <td>5.0</td>\n",
       "      <td>0.029124</td>\n",
       "      <td>18.379311</td>\n",
       "    </tr>\n",
       "    <tr>\n",
       "      <th>1</th>\n",
       "      <td>LR Falle</td>\n",
       "      <td>5.0</td>\n",
       "      <td>2.0</td>\n",
       "      <td>0.020472</td>\n",
       "      <td>18.539579</td>\n",
       "    </tr>\n",
       "    <tr>\n",
       "      <th>10</th>\n",
       "      <td>LR Falle</td>\n",
       "      <td>5.0</td>\n",
       "      <td>11.0</td>\n",
       "      <td>0.011634</td>\n",
       "      <td>18.782823</td>\n",
       "    </tr>\n",
       "    <tr>\n",
       "      <th>12</th>\n",
       "      <td>LR Falle</td>\n",
       "      <td>5.0</td>\n",
       "      <td>13.0</td>\n",
       "      <td>0.010140</td>\n",
       "      <td>18.800898</td>\n",
       "    </tr>\n",
       "    <tr>\n",
       "      <th>9</th>\n",
       "      <td>LR Falle</td>\n",
       "      <td>5.0</td>\n",
       "      <td>10.0</td>\n",
       "      <td>0.008004</td>\n",
       "      <td>18.851316</td>\n",
       "    </tr>\n",
       "    <tr>\n",
       "      <th>11</th>\n",
       "      <td>LR Falle</td>\n",
       "      <td>5.0</td>\n",
       "      <td>12.0</td>\n",
       "      <td>0.007663</td>\n",
       "      <td>18.784512</td>\n",
       "    </tr>\n",
       "    <tr>\n",
       "      <th>8</th>\n",
       "      <td>LR Falle</td>\n",
       "      <td>5.0</td>\n",
       "      <td>9.0</td>\n",
       "      <td>0.004774</td>\n",
       "      <td>18.853855</td>\n",
       "    </tr>\n",
       "  </tbody>\n",
       "</table>\n",
       "</div>"
      ],
      "text/plain": [
       "       model  n_weeks  shift        r2        mse\n",
       "2   LR Falle      5.0    3.0  0.039350  18.446028\n",
       "3   LR Falle      5.0    4.0  0.032211  18.373685\n",
       "5   LR Falle      5.0    6.0  0.029976  18.454501\n",
       "4   LR Falle      5.0    5.0  0.029124  18.379311\n",
       "1   LR Falle      5.0    2.0  0.020472  18.539579\n",
       "10  LR Falle      5.0   11.0  0.011634  18.782823\n",
       "12  LR Falle      5.0   13.0  0.010140  18.800898\n",
       "9   LR Falle      5.0   10.0  0.008004  18.851316\n",
       "11  LR Falle      5.0   12.0  0.007663  18.784512\n",
       "8   LR Falle      5.0    9.0  0.004774  18.853855"
      ]
     },
     "execution_count": 246,
     "metadata": {},
     "output_type": "execute_result"
    }
   ],
   "source": [
    "r2 = np.array([])\n",
    "mse = np.array([])\n",
    "models = {'LR': LinearRegression(n_jobs=5)} #'KNR': KNeighborsRegressor(n_jobs=5), 'SVR': SVR()}\n",
    "\n",
    "for i in range(1, 32, 1):\n",
    "    \n",
    "    df_falle = df_aux.copy()\n",
    "    df_falle['shift'] = df_aux.fallecidos.shift(i, fill_value=0)\n",
    "    df_falle = df_falle[['shift', *cols]]\n",
    "    \n",
    "    for name, m in models.items():  # Para cada modelo en la lista de modelos correr lo siguiente\n",
    "\n",
    "        for delta in range(0, df_falle.shape[0] - n_weeks * 7, 1):\n",
    "            # Armo una ventana de n_weeks de ancho que uso para entrenar los modelos\n",
    "            # Esa ventana se va corriendo de a un dia a la vez\n",
    "\n",
    "            xtrain = df_falle.loc[delta:middle + delta].drop(['fallecidos'], axis = 1)\n",
    "            ytrain = df_falle.loc[delta:middle + delta, 'fallecidos']\n",
    "\n",
    "            xtest = df_falle.loc[middle + delta:end + delta].drop(['fallecidos'], axis = 1)\n",
    "            ytest = df_falle.loc[middle + delta:end + delta, 'fallecidos']\n",
    "            \n",
    "\n",
    "            aux_r2, aux_mse = get_r2(xtrain, xtest, ytrain, ytest, m)\n",
    "\n",
    "            # Una vez que entrene el modelo con esas entradas y calcule sus metricas las guardo en un array\n",
    "            r2 = np.append(r2, aux_r2)\n",
    "            mse = np.append(mse, aux_mse)\n",
    "\n",
    "        # Evaluo que tan bien hizo cada modelo a lo largo de las semanas calculando la media de las metricas obtenidas\n",
    "        res_falle = res_falle.append({'model':f'{name} Falle', 'r2':r2.mean(), 'shift':i, 'mse': mse.mean(), 'n_weeks': n_weeks}, ignore_index=True)\n",
    "\n",
    "res_falle.sort_values('r2', ascending=False).head(10)"
   ]
  },
  {
   "cell_type": "code",
   "execution_count": 54,
   "metadata": {},
   "outputs": [
    {
     "data": {
      "text/plain": [
       "array([ -6.27441321,  -3.43444927,  -0.49326971,  -1.44430392,\n",
       "        -3.15734709, -38.02827901])"
      ]
     },
     "execution_count": 54,
     "metadata": {},
     "output_type": "execute_result"
    }
   ],
   "source": [
    "# Pruebas\n",
    "\n",
    "m = LinearRegression()\n",
    "\n",
    "tscv = TimeSeriesSplit(n_splits=6)\n",
    "\n",
    "cv_results = cross_val_score(m, pd.DataFrame(xtrain), ytrain, cv=tscv, scoring='r2')\n",
    "cv_results"
   ]
  }
 ],
 "metadata": {
  "kernelspec": {
   "display_name": "Python 3",
   "language": "python",
   "name": "python3"
  },
  "language_info": {
   "codemirror_mode": {
    "name": "ipython",
    "version": 3
   },
   "file_extension": ".py",
   "mimetype": "text/x-python",
   "name": "python",
   "nbconvert_exporter": "python",
   "pygments_lexer": "ipython3",
   "version": "3.6.11"
  }
 },
 "nbformat": 4,
 "nbformat_minor": 4
}
