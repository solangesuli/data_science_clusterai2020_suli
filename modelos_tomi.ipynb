{
 "cells": [
  {
   "cell_type": "code",
   "execution_count": 1,
   "metadata": {},
   "outputs": [],
   "source": [
    "# importamos las librerías necesarias para trabajar.\n",
    "import numpy as np\n",
    "import pandas as pd\n",
    "import matplotlib.pyplot as plt\n",
    "import seaborn as sns\n",
    "\n",
    "from sklearn.linear_model import LinearRegression, Ridge\n",
    "from sklearn.svm import SVR\n",
    "from sklearn.svm import LinearSVR\n",
    "from sklearn.neighbors import KNeighborsRegressor\n",
    "from sklearn.ensemble import RandomForestRegressor\n",
    "from sklearn.metrics import r2_score, mean_squared_error\n",
    "\n",
    "from sklearn.model_selection import GridSearchCV, TimeSeriesSplit, cross_val_score, train_test_split\n",
    "from sklearn.decomposition import PCA\n",
    "from sklearn.preprocessing import StandardScaler, PolynomialFeatures\n",
    "\n",
    "#Otros \n",
    "import warnings\n",
    "warnings.filterwarnings('ignore')"
   ]
  },
  {
   "cell_type": "code",
   "execution_count": 2,
   "metadata": {},
   "outputs": [
    {
     "data": {
      "text/html": [
       "<div>\n",
       "<style scoped>\n",
       "    .dataframe tbody tr th:only-of-type {\n",
       "        vertical-align: middle;\n",
       "    }\n",
       "\n",
       "    .dataframe tbody tr th {\n",
       "        vertical-align: top;\n",
       "    }\n",
       "\n",
       "    .dataframe thead th {\n",
       "        text-align: right;\n",
       "    }\n",
       "</style>\n",
       "<table border=\"1\" class=\"dataframe\">\n",
       "  <thead>\n",
       "    <tr style=\"text-align: right;\">\n",
       "      <th></th>\n",
       "      <th>argentino</th>\n",
       "      <th>asistencia_respiratoria</th>\n",
       "      <th>confirmados</th>\n",
       "      <th>cuidado_intensivo</th>\n",
       "      <th>edad</th>\n",
       "      <th>fallecidos</th>\n",
       "      <th>mayor_65</th>\n",
       "      <th>mayor_65_internacion</th>\n",
       "      <th>presentan_sintomas</th>\n",
       "      <th>privado</th>\n",
       "      <th>publico</th>\n",
       "      <th>internacion</th>\n",
       "      <th>sexo_F</th>\n",
       "      <th>sexo_M</th>\n",
       "    </tr>\n",
       "    <tr>\n",
       "      <th>index</th>\n",
       "      <th></th>\n",
       "      <th></th>\n",
       "      <th></th>\n",
       "      <th></th>\n",
       "      <th></th>\n",
       "      <th></th>\n",
       "      <th></th>\n",
       "      <th></th>\n",
       "      <th></th>\n",
       "      <th></th>\n",
       "      <th></th>\n",
       "      <th></th>\n",
       "      <th></th>\n",
       "      <th></th>\n",
       "    </tr>\n",
       "  </thead>\n",
       "  <tbody>\n",
       "    <tr>\n",
       "      <th>2020-03-01</th>\n",
       "      <td>0</td>\n",
       "      <td>0</td>\n",
       "      <td>0</td>\n",
       "      <td>0</td>\n",
       "      <td>0.000000</td>\n",
       "      <td>0</td>\n",
       "      <td>0</td>\n",
       "      <td>0</td>\n",
       "      <td>0</td>\n",
       "      <td>0</td>\n",
       "      <td>0</td>\n",
       "      <td>0</td>\n",
       "      <td>0</td>\n",
       "      <td>0</td>\n",
       "    </tr>\n",
       "    <tr>\n",
       "      <th>2020-03-02</th>\n",
       "      <td>1</td>\n",
       "      <td>0</td>\n",
       "      <td>1</td>\n",
       "      <td>0</td>\n",
       "      <td>43.000000</td>\n",
       "      <td>0</td>\n",
       "      <td>0</td>\n",
       "      <td>0</td>\n",
       "      <td>1</td>\n",
       "      <td>1</td>\n",
       "      <td>0</td>\n",
       "      <td>1</td>\n",
       "      <td>0</td>\n",
       "      <td>1</td>\n",
       "    </tr>\n",
       "    <tr>\n",
       "      <th>2020-03-03</th>\n",
       "      <td>0</td>\n",
       "      <td>0</td>\n",
       "      <td>0</td>\n",
       "      <td>0</td>\n",
       "      <td>0.000000</td>\n",
       "      <td>0</td>\n",
       "      <td>0</td>\n",
       "      <td>0</td>\n",
       "      <td>0</td>\n",
       "      <td>0</td>\n",
       "      <td>0</td>\n",
       "      <td>0</td>\n",
       "      <td>0</td>\n",
       "      <td>0</td>\n",
       "    </tr>\n",
       "    <tr>\n",
       "      <th>2020-03-04</th>\n",
       "      <td>0</td>\n",
       "      <td>0</td>\n",
       "      <td>0</td>\n",
       "      <td>0</td>\n",
       "      <td>0.000000</td>\n",
       "      <td>0</td>\n",
       "      <td>0</td>\n",
       "      <td>0</td>\n",
       "      <td>0</td>\n",
       "      <td>0</td>\n",
       "      <td>0</td>\n",
       "      <td>0</td>\n",
       "      <td>0</td>\n",
       "      <td>0</td>\n",
       "    </tr>\n",
       "    <tr>\n",
       "      <th>2020-03-05</th>\n",
       "      <td>5</td>\n",
       "      <td>1</td>\n",
       "      <td>5</td>\n",
       "      <td>1</td>\n",
       "      <td>50.600000</td>\n",
       "      <td>1</td>\n",
       "      <td>2</td>\n",
       "      <td>1</td>\n",
       "      <td>5</td>\n",
       "      <td>3</td>\n",
       "      <td>2</td>\n",
       "      <td>3</td>\n",
       "      <td>1</td>\n",
       "      <td>4</td>\n",
       "    </tr>\n",
       "    <tr>\n",
       "      <th>...</th>\n",
       "      <td>...</td>\n",
       "      <td>...</td>\n",
       "      <td>...</td>\n",
       "      <td>...</td>\n",
       "      <td>...</td>\n",
       "      <td>...</td>\n",
       "      <td>...</td>\n",
       "      <td>...</td>\n",
       "      <td>...</td>\n",
       "      <td>...</td>\n",
       "      <td>...</td>\n",
       "      <td>...</td>\n",
       "      <td>...</td>\n",
       "      <td>...</td>\n",
       "    </tr>\n",
       "    <tr>\n",
       "      <th>2020-09-26</th>\n",
       "      <td>678</td>\n",
       "      <td>7</td>\n",
       "      <td>694</td>\n",
       "      <td>9</td>\n",
       "      <td>44.386167</td>\n",
       "      <td>12</td>\n",
       "      <td>123</td>\n",
       "      <td>30</td>\n",
       "      <td>359</td>\n",
       "      <td>394</td>\n",
       "      <td>300</td>\n",
       "      <td>54</td>\n",
       "      <td>348</td>\n",
       "      <td>346</td>\n",
       "    </tr>\n",
       "    <tr>\n",
       "      <th>2020-09-27</th>\n",
       "      <td>556</td>\n",
       "      <td>2</td>\n",
       "      <td>567</td>\n",
       "      <td>6</td>\n",
       "      <td>40.890212</td>\n",
       "      <td>7</td>\n",
       "      <td>76</td>\n",
       "      <td>21</td>\n",
       "      <td>335</td>\n",
       "      <td>307</td>\n",
       "      <td>260</td>\n",
       "      <td>45</td>\n",
       "      <td>274</td>\n",
       "      <td>293</td>\n",
       "    </tr>\n",
       "    <tr>\n",
       "      <th>2020-09-28</th>\n",
       "      <td>764</td>\n",
       "      <td>3</td>\n",
       "      <td>785</td>\n",
       "      <td>6</td>\n",
       "      <td>41.391614</td>\n",
       "      <td>9</td>\n",
       "      <td>113</td>\n",
       "      <td>26</td>\n",
       "      <td>431</td>\n",
       "      <td>480</td>\n",
       "      <td>305</td>\n",
       "      <td>53</td>\n",
       "      <td>399</td>\n",
       "      <td>386</td>\n",
       "    </tr>\n",
       "    <tr>\n",
       "      <th>2020-09-29</th>\n",
       "      <td>892</td>\n",
       "      <td>4</td>\n",
       "      <td>906</td>\n",
       "      <td>4</td>\n",
       "      <td>42.691685</td>\n",
       "      <td>9</td>\n",
       "      <td>137</td>\n",
       "      <td>25</td>\n",
       "      <td>454</td>\n",
       "      <td>531</td>\n",
       "      <td>375</td>\n",
       "      <td>57</td>\n",
       "      <td>449</td>\n",
       "      <td>457</td>\n",
       "    </tr>\n",
       "    <tr>\n",
       "      <th>2020-09-30</th>\n",
       "      <td>830</td>\n",
       "      <td>3</td>\n",
       "      <td>853</td>\n",
       "      <td>9</td>\n",
       "      <td>42.136186</td>\n",
       "      <td>12</td>\n",
       "      <td>134</td>\n",
       "      <td>29</td>\n",
       "      <td>452</td>\n",
       "      <td>513</td>\n",
       "      <td>340</td>\n",
       "      <td>59</td>\n",
       "      <td>426</td>\n",
       "      <td>427</td>\n",
       "    </tr>\n",
       "  </tbody>\n",
       "</table>\n",
       "<p>214 rows × 14 columns</p>\n",
       "</div>"
      ],
      "text/plain": [
       "            argentino  asistencia_respiratoria  confirmados  \\\n",
       "index                                                         \n",
       "2020-03-01          0                        0            0   \n",
       "2020-03-02          1                        0            1   \n",
       "2020-03-03          0                        0            0   \n",
       "2020-03-04          0                        0            0   \n",
       "2020-03-05          5                        1            5   \n",
       "...               ...                      ...          ...   \n",
       "2020-09-26        678                        7          694   \n",
       "2020-09-27        556                        2          567   \n",
       "2020-09-28        764                        3          785   \n",
       "2020-09-29        892                        4          906   \n",
       "2020-09-30        830                        3          853   \n",
       "\n",
       "            cuidado_intensivo       edad  fallecidos  mayor_65  \\\n",
       "index                                                            \n",
       "2020-03-01                  0   0.000000           0         0   \n",
       "2020-03-02                  0  43.000000           0         0   \n",
       "2020-03-03                  0   0.000000           0         0   \n",
       "2020-03-04                  0   0.000000           0         0   \n",
       "2020-03-05                  1  50.600000           1         2   \n",
       "...                       ...        ...         ...       ...   \n",
       "2020-09-26                  9  44.386167          12       123   \n",
       "2020-09-27                  6  40.890212           7        76   \n",
       "2020-09-28                  6  41.391614           9       113   \n",
       "2020-09-29                  4  42.691685           9       137   \n",
       "2020-09-30                  9  42.136186          12       134   \n",
       "\n",
       "            mayor_65_internacion  presentan_sintomas  privado  publico  \\\n",
       "index                                                                    \n",
       "2020-03-01                     0                   0        0        0   \n",
       "2020-03-02                     0                   1        1        0   \n",
       "2020-03-03                     0                   0        0        0   \n",
       "2020-03-04                     0                   0        0        0   \n",
       "2020-03-05                     1                   5        3        2   \n",
       "...                          ...                 ...      ...      ...   \n",
       "2020-09-26                    30                 359      394      300   \n",
       "2020-09-27                    21                 335      307      260   \n",
       "2020-09-28                    26                 431      480      305   \n",
       "2020-09-29                    25                 454      531      375   \n",
       "2020-09-30                    29                 452      513      340   \n",
       "\n",
       "            internacion  sexo_F  sexo_M  \n",
       "index                                    \n",
       "2020-03-01            0       0       0  \n",
       "2020-03-02            1       0       1  \n",
       "2020-03-03            0       0       0  \n",
       "2020-03-04            0       0       0  \n",
       "2020-03-05            3       1       4  \n",
       "...                 ...     ...     ...  \n",
       "2020-09-26           54     348     346  \n",
       "2020-09-27           45     274     293  \n",
       "2020-09-28           53     399     386  \n",
       "2020-09-29           57     449     457  \n",
       "2020-09-30           59     426     427  \n",
       "\n",
       "[214 rows x 14 columns]"
      ]
     },
     "execution_count": 2,
     "metadata": {},
     "output_type": "execute_result"
    }
   ],
   "source": [
    "df_raw = pd.read_feather('./data/pivot_data')\n",
    "\n",
    "df_raw.index = df_raw['index']\n",
    "df_raw.drop('index', axis=1, inplace=True)\n",
    "\n",
    "df_raw"
   ]
  },
  {
   "cell_type": "markdown",
   "metadata": {},
   "source": [
    "## Pruebo con las principales features primero"
   ]
  },
  {
   "cell_type": "code",
   "execution_count": 3,
   "metadata": {},
   "outputs": [],
   "source": [
    "cols = ['fallecidos', 'mayor_65', 'internacion', 'cuidado_intensivo', 'mayor_65_internacion']\n",
    "df = df_raw[cols]"
   ]
  },
  {
   "cell_type": "code",
   "execution_count": 4,
   "metadata": {},
   "outputs": [
    {
     "data": {
      "text/html": [
       "<div>\n",
       "<style scoped>\n",
       "    .dataframe tbody tr th:only-of-type {\n",
       "        vertical-align: middle;\n",
       "    }\n",
       "\n",
       "    .dataframe tbody tr th {\n",
       "        vertical-align: top;\n",
       "    }\n",
       "\n",
       "    .dataframe thead th {\n",
       "        text-align: right;\n",
       "    }\n",
       "</style>\n",
       "<table border=\"1\" class=\"dataframe\">\n",
       "  <thead>\n",
       "    <tr style=\"text-align: right;\">\n",
       "      <th></th>\n",
       "      <th>fallecidos</th>\n",
       "      <th>mayor_65</th>\n",
       "      <th>internacion</th>\n",
       "      <th>cuidado_intensivo</th>\n",
       "      <th>mayor_65_internacion</th>\n",
       "    </tr>\n",
       "    <tr>\n",
       "      <th>index</th>\n",
       "      <th></th>\n",
       "      <th></th>\n",
       "      <th></th>\n",
       "      <th></th>\n",
       "      <th></th>\n",
       "    </tr>\n",
       "  </thead>\n",
       "  <tbody>\n",
       "    <tr>\n",
       "      <th>2020-03-01</th>\n",
       "      <td>0</td>\n",
       "      <td>0</td>\n",
       "      <td>0</td>\n",
       "      <td>0</td>\n",
       "      <td>0</td>\n",
       "    </tr>\n",
       "    <tr>\n",
       "      <th>2020-03-02</th>\n",
       "      <td>0</td>\n",
       "      <td>0</td>\n",
       "      <td>1</td>\n",
       "      <td>0</td>\n",
       "      <td>0</td>\n",
       "    </tr>\n",
       "    <tr>\n",
       "      <th>2020-03-03</th>\n",
       "      <td>0</td>\n",
       "      <td>0</td>\n",
       "      <td>0</td>\n",
       "      <td>0</td>\n",
       "      <td>0</td>\n",
       "    </tr>\n",
       "    <tr>\n",
       "      <th>2020-03-04</th>\n",
       "      <td>0</td>\n",
       "      <td>0</td>\n",
       "      <td>0</td>\n",
       "      <td>0</td>\n",
       "      <td>0</td>\n",
       "    </tr>\n",
       "    <tr>\n",
       "      <th>2020-03-05</th>\n",
       "      <td>1</td>\n",
       "      <td>2</td>\n",
       "      <td>3</td>\n",
       "      <td>1</td>\n",
       "      <td>1</td>\n",
       "    </tr>\n",
       "  </tbody>\n",
       "</table>\n",
       "</div>"
      ],
      "text/plain": [
       "            fallecidos  mayor_65  internacion  cuidado_intensivo  \\\n",
       "index                                                              \n",
       "2020-03-01           0         0            0                  0   \n",
       "2020-03-02           0         0            1                  0   \n",
       "2020-03-03           0         0            0                  0   \n",
       "2020-03-04           0         0            0                  0   \n",
       "2020-03-05           1         2            3                  1   \n",
       "\n",
       "            mayor_65_internacion  \n",
       "index                             \n",
       "2020-03-01                     0  \n",
       "2020-03-02                     0  \n",
       "2020-03-03                     0  \n",
       "2020-03-04                     0  \n",
       "2020-03-05                     1  "
      ]
     },
     "execution_count": 4,
     "metadata": {},
     "output_type": "execute_result"
    }
   ],
   "source": [
    "#df['fallecidos_mañana'] = df.fallecidos.shift(periods=-1, fill_value=0)\n",
    "df.head()"
   ]
  },
  {
   "cell_type": "code",
   "execution_count": 5,
   "metadata": {},
   "outputs": [],
   "source": [
    "res = pd.DataFrame({'model':[], 'r2':[] , 'mse': []})"
   ]
  },
  {
   "cell_type": "code",
   "execution_count": 6,
   "metadata": {},
   "outputs": [],
   "source": [
    "df = df.loc[df.index >= pd.Timestamp('2020-04-01')]"
   ]
  },
  {
   "cell_type": "code",
   "execution_count": 7,
   "metadata": {},
   "outputs": [
    {
     "data": {
      "text/html": [
       "<div>\n",
       "<style scoped>\n",
       "    .dataframe tbody tr th:only-of-type {\n",
       "        vertical-align: middle;\n",
       "    }\n",
       "\n",
       "    .dataframe tbody tr th {\n",
       "        vertical-align: top;\n",
       "    }\n",
       "\n",
       "    .dataframe thead th {\n",
       "        text-align: right;\n",
       "    }\n",
       "</style>\n",
       "<table border=\"1\" class=\"dataframe\">\n",
       "  <thead>\n",
       "    <tr style=\"text-align: right;\">\n",
       "      <th></th>\n",
       "      <th>fallecidos</th>\n",
       "      <th>mayor_65</th>\n",
       "      <th>internacion</th>\n",
       "      <th>cuidado_intensivo</th>\n",
       "      <th>mayor_65_internacion</th>\n",
       "    </tr>\n",
       "    <tr>\n",
       "      <th>index</th>\n",
       "      <th></th>\n",
       "      <th></th>\n",
       "      <th></th>\n",
       "      <th></th>\n",
       "      <th></th>\n",
       "    </tr>\n",
       "  </thead>\n",
       "  <tbody>\n",
       "    <tr>\n",
       "      <th>2020-09-01</th>\n",
       "      <td>30</td>\n",
       "      <td>179</td>\n",
       "      <td>97</td>\n",
       "      <td>17</td>\n",
       "      <td>54</td>\n",
       "    </tr>\n",
       "    <tr>\n",
       "      <th>2020-09-02</th>\n",
       "      <td>46</td>\n",
       "      <td>164</td>\n",
       "      <td>126</td>\n",
       "      <td>24</td>\n",
       "      <td>49</td>\n",
       "    </tr>\n",
       "    <tr>\n",
       "      <th>2020-09-03</th>\n",
       "      <td>31</td>\n",
       "      <td>161</td>\n",
       "      <td>119</td>\n",
       "      <td>21</td>\n",
       "      <td>51</td>\n",
       "    </tr>\n",
       "    <tr>\n",
       "      <th>2020-09-04</th>\n",
       "      <td>37</td>\n",
       "      <td>162</td>\n",
       "      <td>105</td>\n",
       "      <td>24</td>\n",
       "      <td>50</td>\n",
       "    </tr>\n",
       "    <tr>\n",
       "      <th>2020-09-05</th>\n",
       "      <td>32</td>\n",
       "      <td>147</td>\n",
       "      <td>99</td>\n",
       "      <td>14</td>\n",
       "      <td>42</td>\n",
       "    </tr>\n",
       "    <tr>\n",
       "      <th>2020-09-06</th>\n",
       "      <td>24</td>\n",
       "      <td>108</td>\n",
       "      <td>66</td>\n",
       "      <td>11</td>\n",
       "      <td>32</td>\n",
       "    </tr>\n",
       "    <tr>\n",
       "      <th>2020-09-07</th>\n",
       "      <td>37</td>\n",
       "      <td>210</td>\n",
       "      <td>129</td>\n",
       "      <td>18</td>\n",
       "      <td>58</td>\n",
       "    </tr>\n",
       "    <tr>\n",
       "      <th>2020-09-08</th>\n",
       "      <td>37</td>\n",
       "      <td>173</td>\n",
       "      <td>128</td>\n",
       "      <td>20</td>\n",
       "      <td>43</td>\n",
       "    </tr>\n",
       "    <tr>\n",
       "      <th>2020-09-09</th>\n",
       "      <td>28</td>\n",
       "      <td>177</td>\n",
       "      <td>105</td>\n",
       "      <td>10</td>\n",
       "      <td>50</td>\n",
       "    </tr>\n",
       "    <tr>\n",
       "      <th>2020-09-10</th>\n",
       "      <td>39</td>\n",
       "      <td>197</td>\n",
       "      <td>107</td>\n",
       "      <td>14</td>\n",
       "      <td>44</td>\n",
       "    </tr>\n",
       "    <tr>\n",
       "      <th>2020-09-11</th>\n",
       "      <td>22</td>\n",
       "      <td>142</td>\n",
       "      <td>97</td>\n",
       "      <td>12</td>\n",
       "      <td>43</td>\n",
       "    </tr>\n",
       "    <tr>\n",
       "      <th>2020-09-12</th>\n",
       "      <td>19</td>\n",
       "      <td>97</td>\n",
       "      <td>54</td>\n",
       "      <td>5</td>\n",
       "      <td>21</td>\n",
       "    </tr>\n",
       "    <tr>\n",
       "      <th>2020-09-13</th>\n",
       "      <td>11</td>\n",
       "      <td>108</td>\n",
       "      <td>63</td>\n",
       "      <td>7</td>\n",
       "      <td>22</td>\n",
       "    </tr>\n",
       "    <tr>\n",
       "      <th>2020-09-14</th>\n",
       "      <td>25</td>\n",
       "      <td>153</td>\n",
       "      <td>93</td>\n",
       "      <td>22</td>\n",
       "      <td>39</td>\n",
       "    </tr>\n",
       "  </tbody>\n",
       "</table>\n",
       "</div>"
      ],
      "text/plain": [
       "            fallecidos  mayor_65  internacion  cuidado_intensivo  \\\n",
       "index                                                              \n",
       "2020-09-01          30       179           97                 17   \n",
       "2020-09-02          46       164          126                 24   \n",
       "2020-09-03          31       161          119                 21   \n",
       "2020-09-04          37       162          105                 24   \n",
       "2020-09-05          32       147           99                 14   \n",
       "2020-09-06          24       108           66                 11   \n",
       "2020-09-07          37       210          129                 18   \n",
       "2020-09-08          37       173          128                 20   \n",
       "2020-09-09          28       177          105                 10   \n",
       "2020-09-10          39       197          107                 14   \n",
       "2020-09-11          22       142           97                 12   \n",
       "2020-09-12          19        97           54                  5   \n",
       "2020-09-13          11       108           63                  7   \n",
       "2020-09-14          25       153           93                 22   \n",
       "\n",
       "            mayor_65_internacion  \n",
       "index                             \n",
       "2020-09-01                    54  \n",
       "2020-09-02                    49  \n",
       "2020-09-03                    51  \n",
       "2020-09-04                    50  \n",
       "2020-09-05                    42  \n",
       "2020-09-06                    32  \n",
       "2020-09-07                    58  \n",
       "2020-09-08                    43  \n",
       "2020-09-09                    50  \n",
       "2020-09-10                    44  \n",
       "2020-09-11                    43  \n",
       "2020-09-12                    21  \n",
       "2020-09-13                    22  \n",
       "2020-09-14                    39  "
      ]
     },
     "execution_count": 7,
     "metadata": {},
     "output_type": "execute_result"
    }
   ],
   "source": [
    "df.loc[(df.index >= pd.Timestamp('2020-09-01')) & (df.index < pd.Timestamp('2020-09-15'))]"
   ]
  },
  {
   "cell_type": "code",
   "execution_count": 8,
   "metadata": {},
   "outputs": [],
   "source": [
    "xtrain = df.loc[df.index < pd.Timestamp('2020-09-01')].drop(['fallecidos'], axis = 1)\n",
    "ytrain = df.loc[df.index < pd.Timestamp('2020-09-01'), 'fallecidos']\n",
    "\n",
    "xtest = df.loc[(df.index >= pd.Timestamp('2020-09-01')) & (df.index < pd.Timestamp('2020-09-15'))].drop(['fallecidos'], axis = 1)\n",
    "ytest = df.loc[(df.index >= pd.Timestamp('2020-09-01')) & (df.index < pd.Timestamp('2020-09-15')), 'fallecidos']\n",
    "\n",
    "xval = df.loc[df.index >= pd.Timestamp('2020-09-15')].drop(['fallecidos'], axis = 1)\n",
    "yval = df.loc[df.index >= pd.Timestamp('2020-09-15'), 'fallecidos']"
   ]
  },
  {
   "cell_type": "markdown",
   "metadata": {},
   "source": [
    "## Escalo los datos"
   ]
  },
  {
   "cell_type": "code",
   "execution_count": 9,
   "metadata": {},
   "outputs": [],
   "source": [
    "scaler = StandardScaler()\n",
    "xtrain_scal = scaler.fit_transform(xtrain)\n",
    "xtest_scal = scaler.transform(xtest)"
   ]
  },
  {
   "cell_type": "code",
   "execution_count": 10,
   "metadata": {},
   "outputs": [
    {
     "data": {
      "text/plain": [
       "0.6522837035781356"
      ]
     },
     "execution_count": 10,
     "metadata": {},
     "output_type": "execute_result"
    }
   ],
   "source": [
    "lr = LinearRegression()\n",
    "lr.fit(xtrain_scal, ytrain)\n",
    "r2_score(ytest, lr.predict(xtest_scal))"
   ]
  },
  {
   "cell_type": "code",
   "execution_count": 11,
   "metadata": {},
   "outputs": [],
   "source": [
    "res = res.append({'model':'Linear Reg Scal',\n",
    "            'r2':r2_score(ytest, lr.predict(xtest_scal)),\n",
    "            'mse':mean_squared_error(ytest, lr.predict(xtest_scal))},\n",
    "           ignore_index=True)"
   ]
  },
  {
   "cell_type": "code",
   "execution_count": 12,
   "metadata": {},
   "outputs": [
    {
     "data": {
      "text/plain": [
       "0.5884569016182941"
      ]
     },
     "execution_count": 12,
     "metadata": {},
     "output_type": "execute_result"
    }
   ],
   "source": [
    "svr = SVR()\n",
    "svr.fit(xtrain_scal, ytrain)\n",
    "r2_score(ytest, svr.predict(xtest_scal))"
   ]
  },
  {
   "cell_type": "code",
   "execution_count": 13,
   "metadata": {},
   "outputs": [],
   "source": [
    "res = res.append({'model':'SVR Scal',\n",
    "            'r2':r2_score(ytest, svr.predict(xtest_scal)),\n",
    "            'mse':mean_squared_error(ytest, svr.predict(xtest_scal))},\n",
    "           ignore_index=True)"
   ]
  },
  {
   "cell_type": "code",
   "execution_count": 14,
   "metadata": {},
   "outputs": [
    {
     "data": {
      "text/plain": [
       "0.48037412314886985"
      ]
     },
     "execution_count": 14,
     "metadata": {},
     "output_type": "execute_result"
    }
   ],
   "source": [
    "knr = KNeighborsRegressor()\n",
    "knr.fit(xtrain_scal, ytrain)\n",
    "r2_score(ytest, knr.predict(xtest_scal))"
   ]
  },
  {
   "cell_type": "code",
   "execution_count": 15,
   "metadata": {},
   "outputs": [],
   "source": [
    "res = res.append({'model':'KNR Scal',\n",
    "            'r2':r2_score(ytest, knr.predict(xtest_scal)),\n",
    "            'mse':mean_squared_error(ytest, knr.predict(xtest_scal))},\n",
    "           ignore_index=True)"
   ]
  },
  {
   "cell_type": "markdown",
   "metadata": {},
   "source": [
    "## Agrego polinomios"
   ]
  },
  {
   "cell_type": "code",
   "execution_count": 16,
   "metadata": {},
   "outputs": [],
   "source": [
    "poly = PolynomialFeatures(2)\n",
    "xtrain_poly = poly.fit_transform(xtrain_scal)\n",
    "xtest_poly = poly.transform(xtest_scal)"
   ]
  },
  {
   "cell_type": "code",
   "execution_count": 17,
   "metadata": {},
   "outputs": [
    {
     "data": {
      "text/plain": [
       "0.6670612415557277"
      ]
     },
     "execution_count": 17,
     "metadata": {},
     "output_type": "execute_result"
    }
   ],
   "source": [
    "lr = LinearRegression()\n",
    "lr.fit(xtrain_poly, ytrain)\n",
    "r2_score(ytest, lr.predict(xtest_poly))"
   ]
  },
  {
   "cell_type": "code",
   "execution_count": 18,
   "metadata": {},
   "outputs": [],
   "source": [
    "res = res.append({'model':'Linear Reg Poly',\n",
    "            'r2':r2_score(ytest, lr.predict(xtest_poly)),\n",
    "            'mse':mean_squared_error(ytest, lr.predict(xtest_poly))},\n",
    "           ignore_index=True)"
   ]
  },
  {
   "cell_type": "code",
   "execution_count": 19,
   "metadata": {},
   "outputs": [
    {
     "data": {
      "text/plain": [
       "0.4612128065001383"
      ]
     },
     "execution_count": 19,
     "metadata": {},
     "output_type": "execute_result"
    }
   ],
   "source": [
    "svr = SVR()\n",
    "svr.fit(xtrain_poly, ytrain)\n",
    "r2_score(ytest, svr.predict(xtest_poly))"
   ]
  },
  {
   "cell_type": "code",
   "execution_count": 20,
   "metadata": {},
   "outputs": [],
   "source": [
    "res = res.append({'model':'SVR Poly',\n",
    "            'r2':r2_score(ytest, svr.predict(xtest_poly)),\n",
    "            'mse':mean_squared_error(ytest, svr.predict(xtest_poly))},\n",
    "           ignore_index=True)"
   ]
  },
  {
   "cell_type": "code",
   "execution_count": 21,
   "metadata": {},
   "outputs": [
    {
     "data": {
      "text/plain": [
       "0.5356248376201611"
      ]
     },
     "execution_count": 21,
     "metadata": {},
     "output_type": "execute_result"
    }
   ],
   "source": [
    "knr = KNeighborsRegressor()\n",
    "knr.fit(xtrain_poly, ytrain)\n",
    "r2_score(ytest, knr.predict(xtest_poly))"
   ]
  },
  {
   "cell_type": "code",
   "execution_count": 22,
   "metadata": {},
   "outputs": [],
   "source": [
    "res = res.append({'model':'KNR Poly',\n",
    "            'r2':r2_score(ytest, knr.predict(xtest_poly)),\n",
    "            'mse':mean_squared_error(ytest, knr.predict(xtest_poly))},\n",
    "           ignore_index=True)"
   ]
  },
  {
   "cell_type": "code",
   "execution_count": 23,
   "metadata": {},
   "outputs": [
    {
     "data": {
      "text/html": [
       "<div>\n",
       "<style scoped>\n",
       "    .dataframe tbody tr th:only-of-type {\n",
       "        vertical-align: middle;\n",
       "    }\n",
       "\n",
       "    .dataframe tbody tr th {\n",
       "        vertical-align: top;\n",
       "    }\n",
       "\n",
       "    .dataframe thead th {\n",
       "        text-align: right;\n",
       "    }\n",
       "</style>\n",
       "<table border=\"1\" class=\"dataframe\">\n",
       "  <thead>\n",
       "    <tr style=\"text-align: right;\">\n",
       "      <th></th>\n",
       "      <th>model</th>\n",
       "      <th>r2</th>\n",
       "      <th>mse</th>\n",
       "    </tr>\n",
       "  </thead>\n",
       "  <tbody>\n",
       "    <tr>\n",
       "      <th>3</th>\n",
       "      <td>Linear Reg Poly</td>\n",
       "      <td>0.667061</td>\n",
       "      <td>26.152679</td>\n",
       "    </tr>\n",
       "    <tr>\n",
       "      <th>0</th>\n",
       "      <td>Linear Reg Scal</td>\n",
       "      <td>0.652284</td>\n",
       "      <td>27.313470</td>\n",
       "    </tr>\n",
       "    <tr>\n",
       "      <th>1</th>\n",
       "      <td>SVR Scal</td>\n",
       "      <td>0.588457</td>\n",
       "      <td>32.327130</td>\n",
       "    </tr>\n",
       "    <tr>\n",
       "      <th>5</th>\n",
       "      <td>KNR Poly</td>\n",
       "      <td>0.535625</td>\n",
       "      <td>36.477143</td>\n",
       "    </tr>\n",
       "    <tr>\n",
       "      <th>2</th>\n",
       "      <td>KNR Scal</td>\n",
       "      <td>0.480374</td>\n",
       "      <td>40.817143</td>\n",
       "    </tr>\n",
       "    <tr>\n",
       "      <th>4</th>\n",
       "      <td>SVR Poly</td>\n",
       "      <td>0.461213</td>\n",
       "      <td>42.322284</td>\n",
       "    </tr>\n",
       "  </tbody>\n",
       "</table>\n",
       "</div>"
      ],
      "text/plain": [
       "             model        r2        mse\n",
       "3  Linear Reg Poly  0.667061  26.152679\n",
       "0  Linear Reg Scal  0.652284  27.313470\n",
       "1         SVR Scal  0.588457  32.327130\n",
       "5         KNR Poly  0.535625  36.477143\n",
       "2         KNR Scal  0.480374  40.817143\n",
       "4         SVR Poly  0.461213  42.322284"
      ]
     },
     "execution_count": 23,
     "metadata": {},
     "output_type": "execute_result"
    }
   ],
   "source": [
    "res.sort_values('r2', ascending=False)"
   ]
  },
  {
   "cell_type": "markdown",
   "metadata": {},
   "source": [
    "# Analiso con el dataset promediado"
   ]
  },
  {
   "cell_type": "code",
   "execution_count": 24,
   "metadata": {},
   "outputs": [],
   "source": [
    "df_ma = df.rolling(3).mean()\n",
    "df_ma = df_ma.fillna(0)"
   ]
  },
  {
   "cell_type": "code",
   "execution_count": 25,
   "metadata": {},
   "outputs": [],
   "source": [
    "xtrain = df_ma.loc[df_ma.index < pd.Timestamp('2020-09-01')].drop(['fallecidos'], axis = 1)\n",
    "ytrain = df_ma.loc[df_ma.index < pd.Timestamp('2020-09-01'), 'fallecidos']\n",
    "\n",
    "xtest = df_ma.loc[(df_ma.index >= pd.Timestamp('2020-09-01')) & (df_ma.index < pd.Timestamp('2020-09-15'))].drop(['fallecidos'], axis = 1)\n",
    "ytest = df_ma.loc[(df_ma.index >= pd.Timestamp('2020-09-01')) & (df_ma.index < pd.Timestamp('2020-09-15')), 'fallecidos']\n",
    "\n",
    "xval = df_ma.loc[df_ma.index >= pd.Timestamp('2020-09-15')].drop(['fallecidos'], axis = 1)\n",
    "yval = df_ma.loc[df_ma.index >= pd.Timestamp('2020-09-15'), 'fallecidos']"
   ]
  },
  {
   "cell_type": "code",
   "execution_count": 26,
   "metadata": {},
   "outputs": [],
   "source": [
    "scaler = StandardScaler()\n",
    "xtrain_scal = scaler.fit_transform(xtrain)\n",
    "xtest_scal = scaler.transform(xtest)"
   ]
  },
  {
   "cell_type": "code",
   "execution_count": 27,
   "metadata": {},
   "outputs": [
    {
     "data": {
      "text/plain": [
       "0.8371602026720403"
      ]
     },
     "execution_count": 27,
     "metadata": {},
     "output_type": "execute_result"
    }
   ],
   "source": [
    "lr = LinearRegression()\n",
    "lr.fit(xtrain_scal, ytrain)\n",
    "r2_score(ytest, lr.predict(xtest_scal))"
   ]
  },
  {
   "cell_type": "code",
   "execution_count": 28,
   "metadata": {},
   "outputs": [],
   "source": [
    "res = res.append({'model':'Linear Reg Scal (Prom)',\n",
    "            'r2':r2_score(ytest, lr.predict(xtest_scal)),\n",
    "            'mse':mean_squared_error(ytest, lr.predict(xtest_scal))},\n",
    "           ignore_index=True)"
   ]
  },
  {
   "cell_type": "code",
   "execution_count": 29,
   "metadata": {},
   "outputs": [
    {
     "data": {
      "text/plain": [
       "0.6814525796309414"
      ]
     },
     "execution_count": 29,
     "metadata": {},
     "output_type": "execute_result"
    }
   ],
   "source": [
    "svr = SVR()\n",
    "svr.fit(xtrain_scal, ytrain)\n",
    "r2_score(ytest, svr.predict(xtest_scal))"
   ]
  },
  {
   "cell_type": "code",
   "execution_count": 30,
   "metadata": {},
   "outputs": [],
   "source": [
    "res = res.append({'model':'SVR Scal (Prom)',\n",
    "            'r2':r2_score(ytest, svr.predict(xtest_scal)),\n",
    "            'mse':mean_squared_error(ytest, svr.predict(xtest_scal))},\n",
    "           ignore_index=True)"
   ]
  },
  {
   "cell_type": "code",
   "execution_count": 31,
   "metadata": {},
   "outputs": [
    {
     "data": {
      "text/plain": [
       "0.24916641946010076"
      ]
     },
     "execution_count": 31,
     "metadata": {},
     "output_type": "execute_result"
    }
   ],
   "source": [
    "knr = KNeighborsRegressor()\n",
    "knr.fit(xtrain_scal, ytrain)\n",
    "r2_score(ytest, knr.predict(xtest_scal))"
   ]
  },
  {
   "cell_type": "code",
   "execution_count": 32,
   "metadata": {},
   "outputs": [],
   "source": [
    "res = res.append({'model':'KNR Scal (Prom)',\n",
    "            'r2':r2_score(ytest, knr.predict(xtest_scal)),\n",
    "            'mse':mean_squared_error(ytest, knr.predict(xtest_scal))},\n",
    "           ignore_index=True)"
   ]
  },
  {
   "cell_type": "markdown",
   "metadata": {},
   "source": [
    "## Agrego polinomios"
   ]
  },
  {
   "cell_type": "code",
   "execution_count": 33,
   "metadata": {},
   "outputs": [],
   "source": [
    "poly = PolynomialFeatures(2)\n",
    "xtrain_poly = poly.fit_transform(xtrain_scal)\n",
    "xtest_poly = poly.transform(xtest_scal)"
   ]
  },
  {
   "cell_type": "code",
   "execution_count": 34,
   "metadata": {},
   "outputs": [
    {
     "data": {
      "text/plain": [
       "0.2941076091205822"
      ]
     },
     "execution_count": 34,
     "metadata": {},
     "output_type": "execute_result"
    }
   ],
   "source": [
    "lr = LinearRegression()\n",
    "lr.fit(xtrain_poly, ytrain)\n",
    "r2_score(ytest, lr.predict(xtest_poly))"
   ]
  },
  {
   "cell_type": "code",
   "execution_count": 35,
   "metadata": {},
   "outputs": [],
   "source": [
    "res = res.append({'model':'Linear Reg Poly (Prom)',\n",
    "            'r2':r2_score(ytest, lr.predict(xtest_poly)),\n",
    "            'mse':mean_squared_error(ytest, lr.predict(xtest_poly))},\n",
    "           ignore_index=True)"
   ]
  },
  {
   "cell_type": "code",
   "execution_count": 36,
   "metadata": {},
   "outputs": [
    {
     "data": {
      "text/plain": [
       "0.4496486538576975"
      ]
     },
     "execution_count": 36,
     "metadata": {},
     "output_type": "execute_result"
    }
   ],
   "source": [
    "svr = SVR()\n",
    "svr.fit(xtrain_poly, ytrain)\n",
    "r2_score(ytest, svr.predict(xtest_poly))"
   ]
  },
  {
   "cell_type": "code",
   "execution_count": 37,
   "metadata": {},
   "outputs": [],
   "source": [
    "res = res.append({'model':'SVR Poly (Prom)',\n",
    "            'r2':r2_score(ytest, svr.predict(xtest_poly)),\n",
    "            'mse':mean_squared_error(ytest, svr.predict(xtest_poly))},\n",
    "           ignore_index=True)"
   ]
  },
  {
   "cell_type": "code",
   "execution_count": 38,
   "metadata": {},
   "outputs": [
    {
     "data": {
      "text/plain": [
       "0.28246573716997947"
      ]
     },
     "execution_count": 38,
     "metadata": {},
     "output_type": "execute_result"
    }
   ],
   "source": [
    "knr = KNeighborsRegressor()\n",
    "knr.fit(xtrain_poly, ytrain)\n",
    "r2_score(ytest, knr.predict(xtest_poly))"
   ]
  },
  {
   "cell_type": "code",
   "execution_count": 39,
   "metadata": {},
   "outputs": [],
   "source": [
    "res = res.append({'model':'KNR Poly (Prom)',\n",
    "            'r2':r2_score(ytest, knr.predict(xtest_poly)),\n",
    "            'mse':mean_squared_error(ytest, knr.predict(xtest_poly))},\n",
    "           ignore_index=True)"
   ]
  },
  {
   "cell_type": "code",
   "execution_count": 40,
   "metadata": {},
   "outputs": [
    {
     "data": {
      "text/html": [
       "<div>\n",
       "<style scoped>\n",
       "    .dataframe tbody tr th:only-of-type {\n",
       "        vertical-align: middle;\n",
       "    }\n",
       "\n",
       "    .dataframe tbody tr th {\n",
       "        vertical-align: top;\n",
       "    }\n",
       "\n",
       "    .dataframe thead th {\n",
       "        text-align: right;\n",
       "    }\n",
       "</style>\n",
       "<table border=\"1\" class=\"dataframe\">\n",
       "  <thead>\n",
       "    <tr style=\"text-align: right;\">\n",
       "      <th></th>\n",
       "      <th>model</th>\n",
       "      <th>r2</th>\n",
       "      <th>mse</th>\n",
       "    </tr>\n",
       "  </thead>\n",
       "  <tbody>\n",
       "    <tr>\n",
       "      <th>6</th>\n",
       "      <td>Linear Reg Scal (Prom)</td>\n",
       "      <td>0.837160</td>\n",
       "      <td>6.223730</td>\n",
       "    </tr>\n",
       "    <tr>\n",
       "      <th>7</th>\n",
       "      <td>SVR Scal (Prom)</td>\n",
       "      <td>0.681453</td>\n",
       "      <td>12.174868</td>\n",
       "    </tr>\n",
       "    <tr>\n",
       "      <th>3</th>\n",
       "      <td>Linear Reg Poly</td>\n",
       "      <td>0.667061</td>\n",
       "      <td>26.152679</td>\n",
       "    </tr>\n",
       "    <tr>\n",
       "      <th>0</th>\n",
       "      <td>Linear Reg Scal</td>\n",
       "      <td>0.652284</td>\n",
       "      <td>27.313470</td>\n",
       "    </tr>\n",
       "    <tr>\n",
       "      <th>1</th>\n",
       "      <td>SVR Scal</td>\n",
       "      <td>0.588457</td>\n",
       "      <td>32.327130</td>\n",
       "    </tr>\n",
       "    <tr>\n",
       "      <th>5</th>\n",
       "      <td>KNR Poly</td>\n",
       "      <td>0.535625</td>\n",
       "      <td>36.477143</td>\n",
       "    </tr>\n",
       "    <tr>\n",
       "      <th>2</th>\n",
       "      <td>KNR Scal</td>\n",
       "      <td>0.480374</td>\n",
       "      <td>40.817143</td>\n",
       "    </tr>\n",
       "    <tr>\n",
       "      <th>4</th>\n",
       "      <td>SVR Poly</td>\n",
       "      <td>0.461213</td>\n",
       "      <td>42.322284</td>\n",
       "    </tr>\n",
       "    <tr>\n",
       "      <th>10</th>\n",
       "      <td>SVR Poly (Prom)</td>\n",
       "      <td>0.449649</td>\n",
       "      <td>21.034403</td>\n",
       "    </tr>\n",
       "    <tr>\n",
       "      <th>9</th>\n",
       "      <td>Linear Reg Poly (Prom)</td>\n",
       "      <td>0.294108</td>\n",
       "      <td>26.979175</td>\n",
       "    </tr>\n",
       "    <tr>\n",
       "      <th>11</th>\n",
       "      <td>KNR Poly (Prom)</td>\n",
       "      <td>0.282466</td>\n",
       "      <td>27.424127</td>\n",
       "    </tr>\n",
       "    <tr>\n",
       "      <th>8</th>\n",
       "      <td>KNR Scal (Prom)</td>\n",
       "      <td>0.249166</td>\n",
       "      <td>28.696825</td>\n",
       "    </tr>\n",
       "  </tbody>\n",
       "</table>\n",
       "</div>"
      ],
      "text/plain": [
       "                     model        r2        mse\n",
       "6   Linear Reg Scal (Prom)  0.837160   6.223730\n",
       "7          SVR Scal (Prom)  0.681453  12.174868\n",
       "3          Linear Reg Poly  0.667061  26.152679\n",
       "0          Linear Reg Scal  0.652284  27.313470\n",
       "1                 SVR Scal  0.588457  32.327130\n",
       "5                 KNR Poly  0.535625  36.477143\n",
       "2                 KNR Scal  0.480374  40.817143\n",
       "4                 SVR Poly  0.461213  42.322284\n",
       "10         SVR Poly (Prom)  0.449649  21.034403\n",
       "9   Linear Reg Poly (Prom)  0.294108  26.979175\n",
       "11         KNR Poly (Prom)  0.282466  27.424127\n",
       "8          KNR Scal (Prom)  0.249166  28.696825"
      ]
     },
     "execution_count": 40,
     "metadata": {},
     "output_type": "execute_result"
    }
   ],
   "source": [
    "res.sort_values('r2', ascending=False)"
   ]
  },
  {
   "cell_type": "markdown",
   "metadata": {},
   "source": [
    "# Pruebo usando solo las ultimas N semanas para entrenar"
   ]
  },
  {
   "cell_type": "code",
   "execution_count": 41,
   "metadata": {},
   "outputs": [],
   "source": [
    "xtrain = df.loc[df.index < pd.Timestamp('2020-09-01')].drop(['fallecidos'], axis = 1)\n",
    "ytrain = df.loc[df.index < pd.Timestamp('2020-09-01'), 'fallecidos']\n",
    "\n",
    "xtest = df.loc[(df.index >= pd.Timestamp('2020-09-01')) & (df.index < pd.Timestamp('2020-09-15'))].drop(['fallecidos'], axis = 1)\n",
    "ytest = df.loc[(df.index >= pd.Timestamp('2020-09-01')) & (df.index < pd.Timestamp('2020-09-15')), 'fallecidos']\n",
    "\n",
    "xval = df.loc[df.index >= pd.Timestamp('2020-09-15')].drop(['fallecidos'], axis = 1)\n",
    "yval = df.loc[df.index >= pd.Timestamp('2020-09-15'), 'fallecidos']"
   ]
  },
  {
   "cell_type": "code",
   "execution_count": 42,
   "metadata": {},
   "outputs": [
    {
     "data": {
      "text/plain": [
       "183"
      ]
     },
     "execution_count": 42,
     "metadata": {},
     "output_type": "execute_result"
    }
   ],
   "source": [
    "df.shape[0]"
   ]
  },
  {
   "cell_type": "code",
   "execution_count": 43,
   "metadata": {},
   "outputs": [],
   "source": [
    "df = df.reset_index()\n",
    "df.drop('index', axis=1, inplace=True)"
   ]
  },
  {
   "cell_type": "code",
   "execution_count": 44,
   "metadata": {},
   "outputs": [],
   "source": [
    "def get_r2(xtrain, xtest, ytrain, ytest, m = KNeighborsRegressor()):\n",
    "    \n",
    "    m.fit(xtrain, ytrain)\n",
    "    \n",
    "    return r2_score(ytest, m.predict(xtest)), mean_squared_error(ytest, m.predict(xtest))"
   ]
  },
  {
   "cell_type": "code",
   "execution_count": 45,
   "metadata": {},
   "outputs": [],
   "source": [
    "def get_scal(xtrain, xtest):\n",
    "    scaler = StandardScaler()\n",
    "    \n",
    "    xtrain = scaler.fit_transform(xtrain)\n",
    "    xtest = scaler.transform(xtest)\n",
    "    \n",
    "    return xtrain, xtest"
   ]
  },
  {
   "cell_type": "code",
   "execution_count": 46,
   "metadata": {},
   "outputs": [],
   "source": [
    "def get_poly(xtrain, xtest, n=2):\n",
    "    poly = PolynomialFeatures(n)\n",
    "    \n",
    "    xtrain = poly.fit_transform(xtrain)\n",
    "    xtest = poly.transform(xtest)\n",
    "    \n",
    "    return xtrain, xtest"
   ]
  },
  {
   "cell_type": "code",
   "execution_count": 47,
   "metadata": {},
   "outputs": [],
   "source": [
    "res_weeks = pd.DataFrame({'model':[], 'n_weeks':[], 'r2':[], 'mse':[]})"
   ]
  },
  {
   "cell_type": "code",
   "execution_count": 48,
   "metadata": {},
   "outputs": [],
   "source": [
    "n_weeks = 4\n",
    "start = 0\n",
    "middle = 7 * n_weeks - 1\n",
    "end = 7 * n_weeks + 7 - 1"
   ]
  },
  {
   "cell_type": "code",
   "execution_count": 49,
   "metadata": {
    "scrolled": false
   },
   "outputs": [
    {
     "data": {
      "text/html": [
       "<div>\n",
       "<style scoped>\n",
       "    .dataframe tbody tr th:only-of-type {\n",
       "        vertical-align: middle;\n",
       "    }\n",
       "\n",
       "    .dataframe tbody tr th {\n",
       "        vertical-align: top;\n",
       "    }\n",
       "\n",
       "    .dataframe thead th {\n",
       "        text-align: right;\n",
       "    }\n",
       "</style>\n",
       "<table border=\"1\" class=\"dataframe\">\n",
       "  <thead>\n",
       "    <tr style=\"text-align: right;\">\n",
       "      <th></th>\n",
       "      <th>model</th>\n",
       "      <th>n_weeks</th>\n",
       "      <th>r2</th>\n",
       "      <th>mse</th>\n",
       "    </tr>\n",
       "  </thead>\n",
       "  <tbody>\n",
       "    <tr>\n",
       "      <th>0</th>\n",
       "      <td>LR</td>\n",
       "      <td>4.0</td>\n",
       "      <td>-0.022697</td>\n",
       "      <td>26.604618</td>\n",
       "    </tr>\n",
       "    <tr>\n",
       "      <th>1</th>\n",
       "      <td>KNR</td>\n",
       "      <td>4.0</td>\n",
       "      <td>-0.245703</td>\n",
       "      <td>35.313387</td>\n",
       "    </tr>\n",
       "    <tr>\n",
       "      <th>2</th>\n",
       "      <td>SVR</td>\n",
       "      <td>4.0</td>\n",
       "      <td>-1.032590</td>\n",
       "      <td>54.041862</td>\n",
       "    </tr>\n",
       "  </tbody>\n",
       "</table>\n",
       "</div>"
      ],
      "text/plain": [
       "  model  n_weeks        r2        mse\n",
       "0    LR      4.0 -0.022697  26.604618\n",
       "1   KNR      4.0 -0.245703  35.313387\n",
       "2   SVR      4.0 -1.032590  54.041862"
      ]
     },
     "execution_count": 49,
     "metadata": {},
     "output_type": "execute_result"
    }
   ],
   "source": [
    "r2 = np.array([])\n",
    "mse = np.array([])\n",
    "models = {'LR': LinearRegression(n_jobs=5), 'KNR': KNeighborsRegressor(n_jobs=5), 'SVR': SVR()}\n",
    "\n",
    "for name, m in models.items():  # Para cada modelo en la lista de modelos correr lo siguiente\n",
    "    \n",
    "    for delta in range(0, df.shape[0] - n_weeks * 7, 1):\n",
    "        # Armo una ventana de n_weeks de ancho que uso para entrenar los modelos\n",
    "        # Esa ventana se va corriendo de a un dia a la vez\n",
    "        \n",
    "        xtrain = df.loc[delta:middle + delta].drop(['fallecidos'], axis = 1)\n",
    "        ytrain = df.loc[delta:middle + delta, 'fallecidos']\n",
    "\n",
    "        xtest = df.loc[middle + delta:end + delta].drop(['fallecidos'], axis = 1)\n",
    "        ytest = df.loc[middle + delta:end + delta, 'fallecidos']\n",
    "\n",
    "        aux_r2, aux_mse = get_r2(xtrain, xtest, ytrain, ytest, m)\n",
    "        \n",
    "        # Una vez que entrene el modelo con esas entradas y calcule sus metricas las guardo en un array\n",
    "        r2 = np.append(r2, aux_r2)\n",
    "        mse = np.append(mse, aux_mse)\n",
    "    \n",
    "    # Evaluo que tan bien hizo cada modelo a lo largo de las semanas calculando la media de las metricas obtenidas\n",
    "    res_weeks = res_weeks.append({'model':name, 'r2':r2.mean(), 'mse': mse.mean(), 'n_weeks': n_weeks}, ignore_index=True)\n",
    "\n",
    "res_weeks.sort_values('r2', ascending=False)"
   ]
  },
  {
   "cell_type": "code",
   "execution_count": 50,
   "metadata": {},
   "outputs": [
    {
     "data": {
      "text/html": [
       "<div>\n",
       "<style scoped>\n",
       "    .dataframe tbody tr th:only-of-type {\n",
       "        vertical-align: middle;\n",
       "    }\n",
       "\n",
       "    .dataframe tbody tr th {\n",
       "        vertical-align: top;\n",
       "    }\n",
       "\n",
       "    .dataframe thead th {\n",
       "        text-align: right;\n",
       "    }\n",
       "</style>\n",
       "<table border=\"1\" class=\"dataframe\">\n",
       "  <thead>\n",
       "    <tr style=\"text-align: right;\">\n",
       "      <th></th>\n",
       "      <th>model</th>\n",
       "      <th>n_weeks</th>\n",
       "      <th>r2</th>\n",
       "      <th>mse</th>\n",
       "    </tr>\n",
       "  </thead>\n",
       "  <tbody>\n",
       "    <tr>\n",
       "      <th>3</th>\n",
       "      <td>LR Scal</td>\n",
       "      <td>4.0</td>\n",
       "      <td>-0.022697</td>\n",
       "      <td>26.604618</td>\n",
       "    </tr>\n",
       "    <tr>\n",
       "      <th>0</th>\n",
       "      <td>LR</td>\n",
       "      <td>4.0</td>\n",
       "      <td>-0.022697</td>\n",
       "      <td>26.604618</td>\n",
       "    </tr>\n",
       "    <tr>\n",
       "      <th>1</th>\n",
       "      <td>KNR</td>\n",
       "      <td>4.0</td>\n",
       "      <td>-0.245703</td>\n",
       "      <td>35.313387</td>\n",
       "    </tr>\n",
       "    <tr>\n",
       "      <th>4</th>\n",
       "      <td>KNR Scal</td>\n",
       "      <td>4.0</td>\n",
       "      <td>-0.263664</td>\n",
       "      <td>34.589679</td>\n",
       "    </tr>\n",
       "    <tr>\n",
       "      <th>2</th>\n",
       "      <td>SVR</td>\n",
       "      <td>4.0</td>\n",
       "      <td>-1.032590</td>\n",
       "      <td>54.041862</td>\n",
       "    </tr>\n",
       "    <tr>\n",
       "      <th>5</th>\n",
       "      <td>SVR Scal</td>\n",
       "      <td>4.0</td>\n",
       "      <td>-1.037749</td>\n",
       "      <td>56.068587</td>\n",
       "    </tr>\n",
       "  </tbody>\n",
       "</table>\n",
       "</div>"
      ],
      "text/plain": [
       "      model  n_weeks        r2        mse\n",
       "3   LR Scal      4.0 -0.022697  26.604618\n",
       "0        LR      4.0 -0.022697  26.604618\n",
       "1       KNR      4.0 -0.245703  35.313387\n",
       "4  KNR Scal      4.0 -0.263664  34.589679\n",
       "2       SVR      4.0 -1.032590  54.041862\n",
       "5  SVR Scal      4.0 -1.037749  56.068587"
      ]
     },
     "execution_count": 50,
     "metadata": {},
     "output_type": "execute_result"
    }
   ],
   "source": [
    "r2 = np.array([])\n",
    "mse = np.array([])\n",
    "\n",
    "for name, m in models.items():\n",
    "    \n",
    "    for delta in range(0, df.shape[0] - n_weeks * 7, 1):\n",
    "        \n",
    "        xtrain = df.loc[delta:middle + delta].drop(['fallecidos'], axis = 1)\n",
    "        ytrain = df.loc[delta:middle + delta, 'fallecidos']\n",
    "\n",
    "        xtest = df.loc[middle + delta:end + delta].drop(['fallecidos'], axis = 1)\n",
    "        ytest = df.loc[middle + delta:end + delta, 'fallecidos']\n",
    "\n",
    "        xtrain_scal, xtest_scal = get_scal(xtrain, xtest)\n",
    "\n",
    "        aux_r2, aux_mse = get_r2(xtrain_scal, xtest_scal, ytrain, ytest, m)\n",
    "\n",
    "        r2 = np.append(r2, aux_r2)\n",
    "        mse = np.append(mse, aux_mse)\n",
    "\n",
    "\n",
    "    res_weeks = res_weeks.append({'model':f\"{name} Scal\",'r2':r2.mean(),'mse':mse.mean(),'n_weeks':n_weeks}, ignore_index=True)\n",
    "\n",
    "res_weeks.sort_values('r2', ascending=False)"
   ]
  },
  {
   "cell_type": "code",
   "execution_count": 51,
   "metadata": {},
   "outputs": [
    {
     "data": {
      "text/html": [
       "<div>\n",
       "<style scoped>\n",
       "    .dataframe tbody tr th:only-of-type {\n",
       "        vertical-align: middle;\n",
       "    }\n",
       "\n",
       "    .dataframe tbody tr th {\n",
       "        vertical-align: top;\n",
       "    }\n",
       "\n",
       "    .dataframe thead th {\n",
       "        text-align: right;\n",
       "    }\n",
       "</style>\n",
       "<table border=\"1\" class=\"dataframe\">\n",
       "  <thead>\n",
       "    <tr style=\"text-align: right;\">\n",
       "      <th></th>\n",
       "      <th>model</th>\n",
       "      <th>n_weeks</th>\n",
       "      <th>r2</th>\n",
       "      <th>mse</th>\n",
       "    </tr>\n",
       "  </thead>\n",
       "  <tbody>\n",
       "    <tr>\n",
       "      <th>3</th>\n",
       "      <td>LR Scal</td>\n",
       "      <td>4.0</td>\n",
       "      <td>-0.022697</td>\n",
       "      <td>26.604618</td>\n",
       "    </tr>\n",
       "    <tr>\n",
       "      <th>0</th>\n",
       "      <td>LR</td>\n",
       "      <td>4.0</td>\n",
       "      <td>-0.022697</td>\n",
       "      <td>26.604618</td>\n",
       "    </tr>\n",
       "    <tr>\n",
       "      <th>1</th>\n",
       "      <td>KNR</td>\n",
       "      <td>4.0</td>\n",
       "      <td>-0.245703</td>\n",
       "      <td>35.313387</td>\n",
       "    </tr>\n",
       "    <tr>\n",
       "      <th>4</th>\n",
       "      <td>KNR Scal</td>\n",
       "      <td>4.0</td>\n",
       "      <td>-0.263664</td>\n",
       "      <td>34.589679</td>\n",
       "    </tr>\n",
       "    <tr>\n",
       "      <th>2</th>\n",
       "      <td>SVR</td>\n",
       "      <td>4.0</td>\n",
       "      <td>-1.032590</td>\n",
       "      <td>54.041862</td>\n",
       "    </tr>\n",
       "    <tr>\n",
       "      <th>5</th>\n",
       "      <td>SVR Scal</td>\n",
       "      <td>4.0</td>\n",
       "      <td>-1.037749</td>\n",
       "      <td>56.068587</td>\n",
       "    </tr>\n",
       "  </tbody>\n",
       "</table>\n",
       "</div>"
      ],
      "text/plain": [
       "      model  n_weeks        r2        mse\n",
       "3   LR Scal      4.0 -0.022697  26.604618\n",
       "0        LR      4.0 -0.022697  26.604618\n",
       "1       KNR      4.0 -0.245703  35.313387\n",
       "4  KNR Scal      4.0 -0.263664  34.589679\n",
       "2       SVR      4.0 -1.032590  54.041862\n",
       "5  SVR Scal      4.0 -1.037749  56.068587"
      ]
     },
     "execution_count": 51,
     "metadata": {},
     "output_type": "execute_result"
    }
   ],
   "source": [
    "res_weeks.sort_values(['r2', 'n_weeks'], ascending=False)"
   ]
  },
  {
   "cell_type": "markdown",
   "metadata": {},
   "source": [
    "## Analisis de series temporales"
   ]
  },
  {
   "cell_type": "code",
   "execution_count": 52,
   "metadata": {},
   "outputs": [
    {
     "data": {
      "text/plain": [
       "array([-4.53258204,  0.48002394, -7.61476478, -0.16477099, -8.17331661,\n",
       "       -4.28874041])"
      ]
     },
     "execution_count": 52,
     "metadata": {},
     "output_type": "execute_result"
    }
   ],
   "source": [
    "# Pruebas\n",
    "\n",
    "m = LinearRegression()\n",
    "\n",
    "tscv = TimeSeriesSplit(n_splits=6)\n",
    "\n",
    "cv_results = cross_val_score(m, pd.DataFrame(xtrain), ytrain, cv=tscv, scoring='r2')\n",
    "cv_results"
   ]
  }
 ],
 "metadata": {
  "kernelspec": {
   "display_name": "Python 3",
   "language": "python",
   "name": "python3"
  },
  "language_info": {
   "codemirror_mode": {
    "name": "ipython",
    "version": 3
   },
   "file_extension": ".py",
   "mimetype": "text/x-python",
   "name": "python",
   "nbconvert_exporter": "python",
   "pygments_lexer": "ipython3",
   "version": "3.6.11"
  }
 },
 "nbformat": 4,
 "nbformat_minor": 4
}
