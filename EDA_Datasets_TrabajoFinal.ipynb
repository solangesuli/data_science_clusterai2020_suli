{
 "cells": [
  {
   "cell_type": "code",
   "execution_count": 44,
   "metadata": {},
   "outputs": [],
   "source": [
    "# importamos las librerías necesarias para trabajar.\n",
    "import numpy as np\n",
    "import pandas as pd\n",
    "import matplotlib.pyplot as plt\n",
    "import seaborn as sns\n",
    "#Otros \n",
    "import warnings\n",
    "warnings.filterwarnings('ignore')"
   ]
  },
  {
   "cell_type": "code",
   "execution_count": 63,
   "metadata": {},
   "outputs": [],
   "source": [
    "#abro los datasets\n",
    "aeroparque_df = pd.read_csv(\"./data/dataset_aeroparque_19772018.csv\",delimiter=',', na_values=\"-99.9\") #datos desde 1960-2017      \n",
    "bsas_df = pd.read_csv(\"./data/dataset_bsas_19772018.csv\",delimiter=',', na_values=\"-99.9\") #datos desde 1960-2017\n"
   ]
  },
  {
   "cell_type": "code",
   "execution_count": 65,
   "metadata": {},
   "outputs": [
    {
     "name": "stdout",
     "output_type": "stream",
     "text": [
      "Info de Aeroparque:\n",
      "Filas: 15340\n",
      "Columnas: 7\r\n",
      "\n",
      "Types: \n",
      "anio            int64\n",
      "mes             int64\n",
      "dia             int64\n",
      "precip        float64\n",
      "tmax          float64\n",
      "tmin          float64\n",
      "diaDelAnio      int64\n",
      "dtype: object\r\n",
      "\n",
      "Head: \n",
      "   anio  mes  dia  precip  tmax  tmin  diaDelAnio\n",
      "0  1977    1    1     0.0  25.4  20.2           1\n",
      "1  1977    1    2     7.2  25.5  18.9           2\n",
      "2  1977    1    3     0.0  27.6  18.3           3\n",
      "3  1977    1    4    15.2  26.2  19.5           4\n",
      "4  1977    1    5     0.0  29.4  16.0           5\r\n",
      "\n",
      "Info de Bs As:\n",
      "Filas: 15340\n",
      "Columnas: 7\r\n",
      "\n",
      "Types: \n",
      "anio            int64\n",
      "mes             int64\n",
      "dia             int64\n",
      "precip        float64\n",
      "tmax          float64\n",
      "tmin          float64\n",
      "diaDelAnio      int64\n",
      "dtype: object\r\n",
      "\n",
      "Head: \n",
      "   anio  mes  dia  precip  tmax  tmin  diaDelAnio\n",
      "0  1977    1    1     0.0  27.5  19.0           1\n",
      "1  1977    1    2    12.7  25.7  18.6           2\n",
      "2  1977    1    3     0.0  27.7  17.6           3\n",
      "3  1977    1    4    13.0  26.7  19.4           4\n",
      "4  1977    1    5     0.0  29.5  16.3           5\r\n",
      "\n"
     ]
    }
   ],
   "source": [
    "# Mostrar info general de nuestro df (Aeroparque)\n",
    "print(f'Info de Aeroparque:')\n",
    "filas = np.shape(aeroparque_df)[0]\n",
    "print(f'Filas: {filas}')\n",
    "columnas = np.shape(aeroparque_df)[1]\n",
    "print(f'Columnas: {columnas}\\r\\n')\n",
    "print(f'Types: \\n{aeroparque_df.dtypes}\\r\\n')\n",
    "print(f'Head: \\n{aeroparque_df.head()}\\r\\n')\n",
    "\n",
    "\n",
    "# Mostrar info general de nuestro df (Bs As)\n",
    "print(f'Info de Bs As:')\n",
    "filas = np.shape(bsas_df)[0]\n",
    "print(f'Filas: {filas}')\n",
    "columnas = np.shape(bsas_df)[1]\n",
    "print(f'Columnas: {columnas}\\r\\n')\n",
    "print(f'Types: \\n{bsas_df.dtypes}\\r\\n')\n",
    "print(f'Head: \\n{bsas_df.head()}\\r\\n')"
   ]
  },
  {
   "cell_type": "code",
   "execution_count": 67,
   "metadata": {},
   "outputs": [
    {
     "name": "stdout",
     "output_type": "stream",
     "text": [
      "Any nulls in columns (Aeroparque): \n",
      "anio          False\n",
      "mes           False\n",
      "dia           False\n",
      "precip         True\n",
      "tmax           True\n",
      "tmin           True\n",
      "diaDelAnio    False\n",
      "dtype: bool\r\n",
      "\n",
      "Any nulls in columns(Bs As): \n",
      "anio          False\n",
      "mes           False\n",
      "dia           False\n",
      "precip         True\n",
      "tmax           True\n",
      "tmin           True\n",
      "diaDelAnio    False\n",
      "dtype: bool\r\n",
      "\n"
     ]
    }
   ],
   "source": [
    "# Verificar existencia de Nulls => HAY DATOS FALTANTES\n",
    "print(f'Any nulls in columns (Aeroparque): \\n{aeroparque_df.isnull().any()}\\r\\n')\n",
    "print(f'Any nulls in columns(Bs As): \\n{bsas_df.isnull().any()}\\r\\n')"
   ]
  },
  {
   "cell_type": "code",
   "execution_count": 68,
   "metadata": {},
   "outputs": [
    {
     "data": {
      "image/png": "[encoded data removed]",
      "text/plain": [
       "<Figure size 432x288 with 1 Axes>"
      ]
     },
     "metadata": {
      "needs_background": "light"
     },
     "output_type": "display_data"
    },
    {
     "data": {
      "image/png": "[encoded data removed]",
      "text/plain": [
       "<Figure size 432x288 with 1 Axes>"
      ]
     },
     "metadata": {
      "needs_background": "light"
     },
     "output_type": "display_data"
    }
   ],
   "source": [
    "#boxplots para tmax y tmin (AEROPARQUE)\n",
    "bxplot_tmax = sns.boxplot(x=aeroparque_df[\"tmax\"],orient=\"v\") \n",
    "plt.show()\n",
    "\n",
    "\n",
    "bxplot_tmin = sns.boxplot(x=aeroparque_df[\"tmin\"],orient=\"v\") \n",
    "plt.show()"
   ]
  },
  {
   "cell_type": "code",
   "execution_count": 69,
   "metadata": {},
   "outputs": [
    {
     "data": {
      "image/png": "[encoded data removed]",
      "text/plain": [
       "<Figure size 432x288 with 1 Axes>"
      ]
     },
     "metadata": {
      "needs_background": "light"
     },
     "output_type": "display_data"
    },
    {
     "data": {
      "image/png": "[encoded data removed]",
      "text/plain": [
       "<Figure size 432x288 with 1 Axes>"
      ]
     },
     "metadata": {
      "needs_background": "light"
     },
     "output_type": "display_data"
    }
   ],
   "source": [
    "#boxplots para tmax y tmin (BSAS)\n",
    "bxplot_tmax = sns.boxplot(x=bsas_df[\"tmax\"],orient=\"v\",color=\"orange\") \n",
    "plt.show()\n",
    "\n",
    "\n",
    "bxplot_tmin = sns.boxplot(x=bsas_df[\"tmin\"],orient=\"v\",color=\"orange\") \n",
    "plt.show()"
   ]
  },
  {
   "cell_type": "code",
   "execution_count": 70,
   "metadata": {},
   "outputs": [
    {
     "data": {
      "text/html": [
       "<div>\n",
       "<style scoped>\n",
       "    .dataframe tbody tr th:only-of-type {\n",
       "        vertical-align: middle;\n",
       "    }\n",
       "\n",
       "    .dataframe tbody tr th {\n",
       "        vertical-align: top;\n",
       "    }\n",
       "\n",
       "    .dataframe thead th {\n",
       "        text-align: right;\n",
       "    }\n",
       "</style>\n",
       "<table border=\"1\" class=\"dataframe\">\n",
       "  <thead>\n",
       "    <tr style=\"text-align: right;\">\n",
       "      <th></th>\n",
       "      <th>anio</th>\n",
       "      <th>mes</th>\n",
       "      <th>dia</th>\n",
       "      <th>precip</th>\n",
       "      <th>tmax</th>\n",
       "      <th>tmin</th>\n",
       "      <th>diaDelAnio</th>\n",
       "    </tr>\n",
       "  </thead>\n",
       "  <tbody>\n",
       "    <tr>\n",
       "      <th>2651</th>\n",
       "      <td>1984</td>\n",
       "      <td>4</td>\n",
       "      <td>5</td>\n",
       "      <td>0.0</td>\n",
       "      <td>25.0</td>\n",
       "      <td>111.0</td>\n",
       "      <td>96</td>\n",
       "    </tr>\n",
       "  </tbody>\n",
       "</table>\n",
       "</div>"
      ],
      "text/plain": [
       "      anio  mes  dia  precip  tmax   tmin  diaDelAnio\n",
       "2651  1984    4    5     0.0  25.0  111.0          96"
      ]
     },
     "execution_count": 70,
     "metadata": {},
     "output_type": "execute_result"
    }
   ],
   "source": [
    "#inconsistencias (tmax>=tmin) -> AEROPARQUE\n",
    "errores_aerop = aeroparque_df[aeroparque_df['tmax'] <= aeroparque_df['tmin']] \n",
    "errores_aerop"
   ]
  },
  {
   "cell_type": "code",
   "execution_count": 71,
   "metadata": {},
   "outputs": [
    {
     "data": {
      "text/html": [
       "<div>\n",
       "<style scoped>\n",
       "    .dataframe tbody tr th:only-of-type {\n",
       "        vertical-align: middle;\n",
       "    }\n",
       "\n",
       "    .dataframe tbody tr th {\n",
       "        vertical-align: top;\n",
       "    }\n",
       "\n",
       "    .dataframe thead th {\n",
       "        text-align: right;\n",
       "    }\n",
       "</style>\n",
       "<table border=\"1\" class=\"dataframe\">\n",
       "  <thead>\n",
       "    <tr style=\"text-align: right;\">\n",
       "      <th></th>\n",
       "      <th>anio</th>\n",
       "      <th>mes</th>\n",
       "      <th>dia</th>\n",
       "      <th>precip</th>\n",
       "      <th>tmax</th>\n",
       "      <th>tmin</th>\n",
       "      <th>diaDelAnio</th>\n",
       "    </tr>\n",
       "  </thead>\n",
       "  <tbody>\n",
       "    <tr>\n",
       "      <th>1953</th>\n",
       "      <td>1982</td>\n",
       "      <td>5</td>\n",
       "      <td>8</td>\n",
       "      <td>9.6</td>\n",
       "      <td>25.4</td>\n",
       "      <td>29.3</td>\n",
       "      <td>128</td>\n",
       "    </tr>\n",
       "    <tr>\n",
       "      <th>2335</th>\n",
       "      <td>1983</td>\n",
       "      <td>5</td>\n",
       "      <td>26</td>\n",
       "      <td>0.0</td>\n",
       "      <td>12.1</td>\n",
       "      <td>12.8</td>\n",
       "      <td>145</td>\n",
       "    </tr>\n",
       "    <tr>\n",
       "      <th>2553</th>\n",
       "      <td>1983</td>\n",
       "      <td>12</td>\n",
       "      <td>30</td>\n",
       "      <td>0.0</td>\n",
       "      <td>26.6</td>\n",
       "      <td>29.3</td>\n",
       "      <td>363</td>\n",
       "    </tr>\n",
       "    <tr>\n",
       "      <th>2648</th>\n",
       "      <td>1984</td>\n",
       "      <td>4</td>\n",
       "      <td>3</td>\n",
       "      <td>0.9</td>\n",
       "      <td>7.6</td>\n",
       "      <td>10.2</td>\n",
       "      <td>93</td>\n",
       "    </tr>\n",
       "  </tbody>\n",
       "</table>\n",
       "</div>"
      ],
      "text/plain": [
       "      anio  mes  dia  precip  tmax  tmin  diaDelAnio\n",
       "1953  1982    5    8     9.6  25.4  29.3         128\n",
       "2335  1983    5   26     0.0  12.1  12.8         145\n",
       "2553  1983   12   30     0.0  26.6  29.3         363\n",
       "2648  1984    4    3     0.9   7.6  10.2          93"
      ]
     },
     "execution_count": 71,
     "metadata": {},
     "output_type": "execute_result"
    }
   ],
   "source": [
    "#inconsistencias (tmax>=tmin) -> BSAS\n",
    "errores_bsas = bsas_df[bsas_df['tmax'] <= bsas_df['tmin']] \n",
    "errores_bsas"
   ]
  },
  {
   "cell_type": "code",
   "execution_count": 7,
   "metadata": {},
   "outputs": [
    {
     "data": {
      "text/html": [
       "<div>\n",
       "<style scoped>\n",
       "    .dataframe tbody tr th:only-of-type {\n",
       "        vertical-align: middle;\n",
       "    }\n",
       "\n",
       "    .dataframe tbody tr th {\n",
       "        vertical-align: top;\n",
       "    }\n",
       "\n",
       "    .dataframe thead th {\n",
       "        text-align: right;\n",
       "    }\n",
       "</style>\n",
       "<table border=\"1\" class=\"dataframe\">\n",
       "  <thead>\n",
       "    <tr style=\"text-align: right;\">\n",
       "      <th></th>\n",
       "      <th>anio</th>\n",
       "      <th>mes</th>\n",
       "      <th>dia</th>\n",
       "      <th>precip</th>\n",
       "      <th>tmax</th>\n",
       "      <th>tmin</th>\n",
       "      <th>diaDelAnio</th>\n",
       "    </tr>\n",
       "  </thead>\n",
       "  <tbody>\n",
       "    <tr>\n",
       "      <th>1500</th>\n",
       "      <td>1981</td>\n",
       "      <td>2</td>\n",
       "      <td>9</td>\n",
       "      <td>0.0</td>\n",
       "      <td>NaN</td>\n",
       "      <td>18.0</td>\n",
       "      <td>40</td>\n",
       "    </tr>\n",
       "    <tr>\n",
       "      <th>1501</th>\n",
       "      <td>1981</td>\n",
       "      <td>2</td>\n",
       "      <td>10</td>\n",
       "      <td>0.0</td>\n",
       "      <td>NaN</td>\n",
       "      <td>19.6</td>\n",
       "      <td>41</td>\n",
       "    </tr>\n",
       "    <tr>\n",
       "      <th>1502</th>\n",
       "      <td>1981</td>\n",
       "      <td>2</td>\n",
       "      <td>11</td>\n",
       "      <td>0.0</td>\n",
       "      <td>NaN</td>\n",
       "      <td>20.3</td>\n",
       "      <td>42</td>\n",
       "    </tr>\n",
       "    <tr>\n",
       "      <th>1503</th>\n",
       "      <td>1981</td>\n",
       "      <td>2</td>\n",
       "      <td>12</td>\n",
       "      <td>0.0</td>\n",
       "      <td>NaN</td>\n",
       "      <td>22.2</td>\n",
       "      <td>43</td>\n",
       "    </tr>\n",
       "    <tr>\n",
       "      <th>2099</th>\n",
       "      <td>1982</td>\n",
       "      <td>10</td>\n",
       "      <td>1</td>\n",
       "      <td>0.0</td>\n",
       "      <td>18.5</td>\n",
       "      <td>NaN</td>\n",
       "      <td>274</td>\n",
       "    </tr>\n",
       "    <tr>\n",
       "      <th>...</th>\n",
       "      <td>...</td>\n",
       "      <td>...</td>\n",
       "      <td>...</td>\n",
       "      <td>...</td>\n",
       "      <td>...</td>\n",
       "      <td>...</td>\n",
       "      <td>...</td>\n",
       "    </tr>\n",
       "    <tr>\n",
       "      <th>15134</th>\n",
       "      <td>1990</td>\n",
       "      <td>5</td>\n",
       "      <td>27</td>\n",
       "      <td>NaN</td>\n",
       "      <td>NaN</td>\n",
       "      <td>NaN</td>\n",
       "      <td>160</td>\n",
       "    </tr>\n",
       "    <tr>\n",
       "      <th>15135</th>\n",
       "      <td>1990</td>\n",
       "      <td>5</td>\n",
       "      <td>28</td>\n",
       "      <td>NaN</td>\n",
       "      <td>NaN</td>\n",
       "      <td>NaN</td>\n",
       "      <td>161</td>\n",
       "    </tr>\n",
       "    <tr>\n",
       "      <th>15136</th>\n",
       "      <td>1990</td>\n",
       "      <td>5</td>\n",
       "      <td>29</td>\n",
       "      <td>NaN</td>\n",
       "      <td>NaN</td>\n",
       "      <td>NaN</td>\n",
       "      <td>162</td>\n",
       "    </tr>\n",
       "    <tr>\n",
       "      <th>15137</th>\n",
       "      <td>1990</td>\n",
       "      <td>5</td>\n",
       "      <td>30</td>\n",
       "      <td>NaN</td>\n",
       "      <td>NaN</td>\n",
       "      <td>NaN</td>\n",
       "      <td>163</td>\n",
       "    </tr>\n",
       "    <tr>\n",
       "      <th>15138</th>\n",
       "      <td>1990</td>\n",
       "      <td>5</td>\n",
       "      <td>31</td>\n",
       "      <td>NaN</td>\n",
       "      <td>NaN</td>\n",
       "      <td>NaN</td>\n",
       "      <td>164</td>\n",
       "    </tr>\n",
       "  </tbody>\n",
       "</table>\n",
       "<p>118 rows × 7 columns</p>\n",
       "</div>"
      ],
      "text/plain": [
       "       anio  mes  dia  precip  tmax  tmin  diaDelAnio\n",
       "1500   1981    2    9     0.0   NaN  18.0          40\n",
       "1501   1981    2   10     0.0   NaN  19.6          41\n",
       "1502   1981    2   11     0.0   NaN  20.3          42\n",
       "1503   1981    2   12     0.0   NaN  22.2          43\n",
       "2099   1982   10    1     0.0  18.5   NaN         274\n",
       "...     ...  ...  ...     ...   ...   ...         ...\n",
       "15134  1990    5   27     NaN   NaN   NaN         160\n",
       "15135  1990    5   28     NaN   NaN   NaN         161\n",
       "15136  1990    5   29     NaN   NaN   NaN         162\n",
       "15137  1990    5   30     NaN   NaN   NaN         163\n",
       "15138  1990    5   31     NaN   NaN   NaN         164\n",
       "\n",
       "[118 rows x 7 columns]"
      ]
     },
     "execution_count": 7,
     "metadata": {},
     "output_type": "execute_result"
    }
   ],
   "source": [
    "#identificamos las filas donde hay NaNs\n",
    "is_NaN = aeroparque_df.isnull()\n",
    "rows_NaNs = aeroparque_df[is_NaN.any(axis=1)]\n",
    "rows_NaNs"
   ]
  }
 ],
 "metadata": {
  "kernelspec": {
   "display_name": "Python 3",
   "language": "python",
   "name": "python3"
  },
  "language_info": {
   "codemirror_mode": {
    "name": "ipython",
    "version": 3
   },
   "file_extension": ".py",
   "mimetype": "text/x-python",
   "name": "python",
   "nbconvert_exporter": "python",
   "pygments_lexer": "ipython3",
   "version": "3.8.3"
  }
 },
 "nbformat": 4,
 "nbformat_minor": 4
}
